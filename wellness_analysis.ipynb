{
 "cells": [
  {
   "cell_type": "markdown",
   "metadata": {},
   "source": [
    "# Bellabeat Wellness Tracker Analysis\n",
    "\n",
    "This project is being done as part of the Google Data Analytics capstone project. It serves as an example of the skills that have been learned during the entire course.\n",
    "\n",
    "During this project data will be collected, prepared, processed and analyzed. Visualizations will be created, conclusions from the data will be determined and insights will be presented to potential stakeholders."
   ]
  },
  {
   "cell_type": "markdown",
   "metadata": {},
   "source": [
    "## Background\n",
    "\n",
    "Bellabeat is a fitness tracker company marketed towards women. These fitness trackers collect a large amount of data, which it is believed can be used to assist in a new marketing strategy.\n",
    "\n",
    "We are being tasked to analyze data from these fitness trackers, and determine the following:\n",
    "\n",
    "* What trends exist in smart device usage?\n",
    "* How can these trends apply to Bellabeat customers?\n",
    "* How can these trends influence Bellabeat's marketing strategy?"
   ]
  },
  {
   "cell_type": "markdown",
   "metadata": {},
   "source": [
    "## Data Preparation\n",
    "\n",
    "The data for this exercise come from [FitBit Fitness Tracker Data](https://www.kaggle.com/datasets/arashnic/fitbit), a dataset available on Kaggle which contains data from 30 Fitbit users.\n",
    "\n",
    "The documentation for what exactly each column in the dataset means can be found [here](https://www.fitabase.com/media/1930/fitabasedatadictionary102320.pdf)\n",
    "\n",
    "The data for this dataset was obtained by consenting users and is available freely under the public domain.\n",
    "\n",
    "This data is believed to be credible and contain no bias.\n",
    "\n",
    "The data sources that we will be looking at will be:\n",
    "\n",
    "* **minuteStepsNarrow_merged.csv**: The number of steps moved on a minute by minute basis.\n",
    "\n",
    "* **minuteCaloriesNarrow_merged.csv**: The estimated number of calories expended on a minute by minute basis.\n",
    "\n",
    "* **heartrate_seconds_merged.csv**: The heart rate measured at a given time.\n",
    "\n",
    "* **minuteIntensitiesNarrow_merged.csv**: The intensity level on a minute by minute basis.\n",
    "\n",
    "* **minuteMETsNarrow_merged.csv**: The [Metabolic equivalent](https://www.kaggle.com/datasets/arashnic/fitbit/discussion/254740) on a minute by minute basis.\n",
    "\n",
    "* **minuteSleep_merged.csv**: The sleep state of a person on a minute by minute basis.\n",
    "\n",
    "* **weightLogInfo_merged.csv**: The weight of a person on a given day."
   ]
  },
  {
   "cell_type": "markdown",
   "metadata": {},
   "source": [
    "## Data Processing\n",
    "\n",
    "For this exercise, Python will be used to process the data. It has a wide range of tools for working with and validating datasets (`Pandas`) and creating visualizations (`Seaborn`)."
   ]
  },
  {
   "cell_type": "code",
   "execution_count": 73,
   "metadata": {},
   "outputs": [],
   "source": [
    "import numpy as np\n",
    "import pandas as pd\n",
    "from matplotlib import pyplot as plt\n",
    "import seaborn as sns"
   ]
  },
  {
   "cell_type": "markdown",
   "metadata": {},
   "source": [
    "### Validating  & Processing Data\n",
    "\n",
    "Data validation will be done on each dataset. This process will involve checking to see if any values contain null values or any other outliers (negative values where there shouldn't be, invalid dates, etc)\n",
    "\n",
    "Data processing will involve applying named categories to columns where it is needed and formatting dates and times so the data can be organized more clearly."
   ]
  },
  {
   "cell_type": "code",
   "execution_count": 74,
   "metadata": {},
   "outputs": [],
   "source": [
    "def format_datetime(df, datetime_col=\"ActivityMinute\"):\n",
    "    return pd.to_datetime(df[datetime_col], format=r\"%m/%d/%Y %I:%M:%S %p\")"
   ]
  },
  {
   "cell_type": "code",
   "execution_count": 75,
   "metadata": {},
   "outputs": [],
   "source": [
    "def get_date(df, datetime_col=\"ActivityMinute\"):\n",
    "    date_series = df[datetime_col].apply(lambda x: x.date())\n",
    "    return date_series"
   ]
  },
  {
   "cell_type": "code",
   "execution_count": 76,
   "metadata": {},
   "outputs": [],
   "source": [
    "def calc_day_of_week(df, datetime_col=\"ActivityMinute\"):\n",
    "    day_categories = [\n",
    "        \"Mon\",\n",
    "        \"Tue\",\n",
    "        \"Wed\",\n",
    "        \"Thu\",\n",
    "        \"Fri\",\n",
    "        \"Sat\",\n",
    "        \"Sun\"\n",
    "    ]\n",
    "    day_of_week_series = df[datetime_col].apply(lambda x: x.strftime(\"%a\"))\n",
    "    day_of_week_series = pd.Categorical(day_of_week_series, categories=day_categories)\n",
    "    return day_of_week_series"
   ]
  },
  {
   "cell_type": "code",
   "execution_count": 77,
   "metadata": {},
   "outputs": [],
   "source": [
    "def calc_time_of_day(df, datetime_col=\"ActivityMinute\"):\n",
    "    time_categories = [\n",
    "        \"Morning\",\n",
    "        \"Afternoon\",\n",
    "        \"Evening\",\n",
    "        \"Night\"\n",
    "    ]\n",
    "    def time_of_day(hour):\n",
    "        if hour in range(0,6):\n",
    "            return \"Night\"\n",
    "        if hour in range(6, 12):\n",
    "            return \"Morning\"\n",
    "        if hour in range(12,18):\n",
    "            return \"Afternoon\"\n",
    "        if hour in range(18, 24):\n",
    "            return \"Evening\"\n",
    "        raise ValueError(f\"Could not convert hour '{hour}' to time of day\")\n",
    "    time_of_day_series = df[datetime_col].apply(lambda x: time_of_day(x.hour))\n",
    "    time_of_day_series = pd.Categorical(time_of_day_series, categories=time_categories)\n",
    "    return time_of_day_series"
   ]
  },
  {
   "cell_type": "markdown",
   "metadata": {},
   "source": [
    "#### Steps"
   ]
  },
  {
   "cell_type": "code",
   "execution_count": 78,
   "metadata": {},
   "outputs": [
    {
     "data": {
      "text/html": [
       "<div>\n",
       "<style scoped>\n",
       "    .dataframe tbody tr th:only-of-type {\n",
       "        vertical-align: middle;\n",
       "    }\n",
       "\n",
       "    .dataframe tbody tr th {\n",
       "        vertical-align: top;\n",
       "    }\n",
       "\n",
       "    .dataframe thead th {\n",
       "        text-align: right;\n",
       "    }\n",
       "</style>\n",
       "<table border=\"1\" class=\"dataframe\">\n",
       "  <thead>\n",
       "    <tr style=\"text-align: right;\">\n",
       "      <th></th>\n",
       "      <th>Id</th>\n",
       "      <th>ActivityMinute</th>\n",
       "      <th>Steps</th>\n",
       "      <th>day_of_week</th>\n",
       "      <th>time_of_day</th>\n",
       "      <th>date</th>\n",
       "    </tr>\n",
       "  </thead>\n",
       "  <tbody>\n",
       "    <tr>\n",
       "      <th>0</th>\n",
       "      <td>1503960366</td>\n",
       "      <td>2016-04-12 00:00:00</td>\n",
       "      <td>0</td>\n",
       "      <td>Tue</td>\n",
       "      <td>Night</td>\n",
       "      <td>2016-04-12</td>\n",
       "    </tr>\n",
       "    <tr>\n",
       "      <th>1</th>\n",
       "      <td>1503960366</td>\n",
       "      <td>2016-04-12 00:01:00</td>\n",
       "      <td>0</td>\n",
       "      <td>Tue</td>\n",
       "      <td>Night</td>\n",
       "      <td>2016-04-12</td>\n",
       "    </tr>\n",
       "    <tr>\n",
       "      <th>2</th>\n",
       "      <td>1503960366</td>\n",
       "      <td>2016-04-12 00:02:00</td>\n",
       "      <td>0</td>\n",
       "      <td>Tue</td>\n",
       "      <td>Night</td>\n",
       "      <td>2016-04-12</td>\n",
       "    </tr>\n",
       "    <tr>\n",
       "      <th>3</th>\n",
       "      <td>1503960366</td>\n",
       "      <td>2016-04-12 00:03:00</td>\n",
       "      <td>0</td>\n",
       "      <td>Tue</td>\n",
       "      <td>Night</td>\n",
       "      <td>2016-04-12</td>\n",
       "    </tr>\n",
       "    <tr>\n",
       "      <th>4</th>\n",
       "      <td>1503960366</td>\n",
       "      <td>2016-04-12 00:04:00</td>\n",
       "      <td>0</td>\n",
       "      <td>Tue</td>\n",
       "      <td>Night</td>\n",
       "      <td>2016-04-12</td>\n",
       "    </tr>\n",
       "  </tbody>\n",
       "</table>\n",
       "</div>"
      ],
      "text/plain": [
       "           Id      ActivityMinute  Steps day_of_week time_of_day        date\n",
       "0  1503960366 2016-04-12 00:00:00      0         Tue       Night  2016-04-12\n",
       "1  1503960366 2016-04-12 00:01:00      0         Tue       Night  2016-04-12\n",
       "2  1503960366 2016-04-12 00:02:00      0         Tue       Night  2016-04-12\n",
       "3  1503960366 2016-04-12 00:03:00      0         Tue       Night  2016-04-12\n",
       "4  1503960366 2016-04-12 00:04:00      0         Tue       Night  2016-04-12"
      ]
     },
     "execution_count": 78,
     "metadata": {},
     "output_type": "execute_result"
    }
   ],
   "source": [
    "steps = pd.read_csv(r\"./data/minuteStepsNarrow_merged.csv\")\n",
    "steps['ActivityMinute'] = format_datetime(steps)\n",
    "steps['day_of_week'] = calc_day_of_week(steps)\n",
    "steps['time_of_day'] = calc_time_of_day(steps)\n",
    "steps['date'] = get_date(steps)\n",
    "steps.head()"
   ]
  },
  {
   "cell_type": "code",
   "execution_count": 79,
   "metadata": {},
   "outputs": [
    {
     "data": {
      "text/plain": [
       "Id                0\n",
       "ActivityMinute    0\n",
       "Steps             0\n",
       "day_of_week       0\n",
       "time_of_day       0\n",
       "date              0\n",
       "dtype: int64"
      ]
     },
     "execution_count": 79,
     "metadata": {},
     "output_type": "execute_result"
    }
   ],
   "source": [
    "steps.isna().sum()"
   ]
  },
  {
   "cell_type": "code",
   "execution_count": 80,
   "metadata": {},
   "outputs": [
    {
     "data": {
      "text/plain": [
       "Timestamp('2016-04-12 00:00:00')"
      ]
     },
     "execution_count": 80,
     "metadata": {},
     "output_type": "execute_result"
    }
   ],
   "source": [
    "steps['ActivityMinute'].min()"
   ]
  },
  {
   "cell_type": "code",
   "execution_count": 81,
   "metadata": {},
   "outputs": [
    {
     "data": {
      "text/plain": [
       "Timestamp('2016-05-12 15:59:00')"
      ]
     },
     "execution_count": 81,
     "metadata": {},
     "output_type": "execute_result"
    }
   ],
   "source": [
    "steps['ActivityMinute'].max()"
   ]
  },
  {
   "cell_type": "code",
   "execution_count": 82,
   "metadata": {},
   "outputs": [
    {
     "data": {
      "text/plain": [
       "0"
      ]
     },
     "execution_count": 82,
     "metadata": {},
     "output_type": "execute_result"
    }
   ],
   "source": [
    "steps['Steps'].min()"
   ]
  },
  {
   "cell_type": "code",
   "execution_count": 83,
   "metadata": {},
   "outputs": [
    {
     "data": {
      "text/plain": [
       "220"
      ]
     },
     "execution_count": 83,
     "metadata": {},
     "output_type": "execute_result"
    }
   ],
   "source": [
    "steps['Steps'].max()"
   ]
  },
  {
   "cell_type": "code",
   "execution_count": 84,
   "metadata": {},
   "outputs": [
    {
     "name": "stdout",
     "output_type": "stream",
     "text": [
      "The number of users in this dataset is: 33\n"
     ]
    }
   ],
   "source": [
    "print(f\"The number of users in this dataset is: {len(set(steps['Id']))}\")"
   ]
  },
  {
   "cell_type": "markdown",
   "metadata": {},
   "source": [
    "Step data appears valid:\n",
    "\n",
    "* No rows contain null values\n",
    "* `ActivityMinute` contains valid values\n",
    "* `Steps` contains no negative values "
   ]
  },
  {
   "cell_type": "markdown",
   "metadata": {},
   "source": [
    "#### Calories"
   ]
  },
  {
   "cell_type": "code",
   "execution_count": 85,
   "metadata": {},
   "outputs": [
    {
     "data": {
      "text/html": [
       "<div>\n",
       "<style scoped>\n",
       "    .dataframe tbody tr th:only-of-type {\n",
       "        vertical-align: middle;\n",
       "    }\n",
       "\n",
       "    .dataframe tbody tr th {\n",
       "        vertical-align: top;\n",
       "    }\n",
       "\n",
       "    .dataframe thead th {\n",
       "        text-align: right;\n",
       "    }\n",
       "</style>\n",
       "<table border=\"1\" class=\"dataframe\">\n",
       "  <thead>\n",
       "    <tr style=\"text-align: right;\">\n",
       "      <th></th>\n",
       "      <th>Id</th>\n",
       "      <th>ActivityMinute</th>\n",
       "      <th>Calories</th>\n",
       "      <th>day_of_week</th>\n",
       "      <th>time_of_day</th>\n",
       "      <th>date</th>\n",
       "    </tr>\n",
       "  </thead>\n",
       "  <tbody>\n",
       "    <tr>\n",
       "      <th>0</th>\n",
       "      <td>1503960366</td>\n",
       "      <td>2016-04-12 00:00:00</td>\n",
       "      <td>0.7865</td>\n",
       "      <td>Tue</td>\n",
       "      <td>Night</td>\n",
       "      <td>2016-04-12</td>\n",
       "    </tr>\n",
       "    <tr>\n",
       "      <th>1</th>\n",
       "      <td>1503960366</td>\n",
       "      <td>2016-04-12 00:01:00</td>\n",
       "      <td>0.7865</td>\n",
       "      <td>Tue</td>\n",
       "      <td>Night</td>\n",
       "      <td>2016-04-12</td>\n",
       "    </tr>\n",
       "    <tr>\n",
       "      <th>2</th>\n",
       "      <td>1503960366</td>\n",
       "      <td>2016-04-12 00:02:00</td>\n",
       "      <td>0.7865</td>\n",
       "      <td>Tue</td>\n",
       "      <td>Night</td>\n",
       "      <td>2016-04-12</td>\n",
       "    </tr>\n",
       "    <tr>\n",
       "      <th>3</th>\n",
       "      <td>1503960366</td>\n",
       "      <td>2016-04-12 00:03:00</td>\n",
       "      <td>0.7865</td>\n",
       "      <td>Tue</td>\n",
       "      <td>Night</td>\n",
       "      <td>2016-04-12</td>\n",
       "    </tr>\n",
       "    <tr>\n",
       "      <th>4</th>\n",
       "      <td>1503960366</td>\n",
       "      <td>2016-04-12 00:04:00</td>\n",
       "      <td>0.7865</td>\n",
       "      <td>Tue</td>\n",
       "      <td>Night</td>\n",
       "      <td>2016-04-12</td>\n",
       "    </tr>\n",
       "  </tbody>\n",
       "</table>\n",
       "</div>"
      ],
      "text/plain": [
       "           Id      ActivityMinute  Calories day_of_week time_of_day  \\\n",
       "0  1503960366 2016-04-12 00:00:00    0.7865         Tue       Night   \n",
       "1  1503960366 2016-04-12 00:01:00    0.7865         Tue       Night   \n",
       "2  1503960366 2016-04-12 00:02:00    0.7865         Tue       Night   \n",
       "3  1503960366 2016-04-12 00:03:00    0.7865         Tue       Night   \n",
       "4  1503960366 2016-04-12 00:04:00    0.7865         Tue       Night   \n",
       "\n",
       "         date  \n",
       "0  2016-04-12  \n",
       "1  2016-04-12  \n",
       "2  2016-04-12  \n",
       "3  2016-04-12  \n",
       "4  2016-04-12  "
      ]
     },
     "execution_count": 85,
     "metadata": {},
     "output_type": "execute_result"
    }
   ],
   "source": [
    "calories = pd.read_csv(r\"./data/minuteCaloriesNarrow_merged.csv\")\n",
    "calories['ActivityMinute'] = format_datetime(calories)\n",
    "calories['day_of_week'] = calc_day_of_week(calories)\n",
    "calories['time_of_day'] = calc_time_of_day(calories)\n",
    "calories['date'] = get_date(calories)\n",
    "calories.head()"
   ]
  },
  {
   "cell_type": "code",
   "execution_count": 86,
   "metadata": {},
   "outputs": [
    {
     "data": {
      "text/plain": [
       "Id                0\n",
       "ActivityMinute    0\n",
       "Calories          0\n",
       "day_of_week       0\n",
       "time_of_day       0\n",
       "date              0\n",
       "dtype: int64"
      ]
     },
     "execution_count": 86,
     "metadata": {},
     "output_type": "execute_result"
    }
   ],
   "source": [
    "calories.isna().sum()"
   ]
  },
  {
   "cell_type": "code",
   "execution_count": 87,
   "metadata": {},
   "outputs": [
    {
     "data": {
      "text/plain": [
       "Timestamp('2016-04-12 00:00:00')"
      ]
     },
     "execution_count": 87,
     "metadata": {},
     "output_type": "execute_result"
    }
   ],
   "source": [
    "calories['ActivityMinute'].min()"
   ]
  },
  {
   "cell_type": "code",
   "execution_count": 88,
   "metadata": {},
   "outputs": [
    {
     "data": {
      "text/plain": [
       "Timestamp('2016-05-12 15:59:00')"
      ]
     },
     "execution_count": 88,
     "metadata": {},
     "output_type": "execute_result"
    }
   ],
   "source": [
    "calories['ActivityMinute'].max()"
   ]
  },
  {
   "cell_type": "code",
   "execution_count": 89,
   "metadata": {},
   "outputs": [
    {
     "data": {
      "text/plain": [
       "0.0"
      ]
     },
     "execution_count": 89,
     "metadata": {},
     "output_type": "execute_result"
    }
   ],
   "source": [
    "calories['Calories'].min()"
   ]
  },
  {
   "cell_type": "code",
   "execution_count": 90,
   "metadata": {},
   "outputs": [
    {
     "data": {
      "text/plain": [
       "19.7499465942383"
      ]
     },
     "execution_count": 90,
     "metadata": {},
     "output_type": "execute_result"
    }
   ],
   "source": [
    "calories['Calories'].max()"
   ]
  },
  {
   "cell_type": "code",
   "execution_count": 91,
   "metadata": {},
   "outputs": [
    {
     "name": "stdout",
     "output_type": "stream",
     "text": [
      "The number of users in this dataset is: 33\n"
     ]
    }
   ],
   "source": [
    "print(f\"The number of users in this dataset is: {len(set(calories['Id']))}\")"
   ]
  },
  {
   "cell_type": "markdown",
   "metadata": {},
   "source": [
    "Calorie data appears valid:\n",
    "\n",
    "* No rows contain null values\n",
    "* `ActivityMinute` contains reasonable values\n",
    "* `Calories` contains no negative values"
   ]
  },
  {
   "cell_type": "markdown",
   "metadata": {},
   "source": [
    "#### Heart Rate"
   ]
  },
  {
   "cell_type": "code",
   "execution_count": 92,
   "metadata": {},
   "outputs": [
    {
     "data": {
      "text/html": [
       "<div>\n",
       "<style scoped>\n",
       "    .dataframe tbody tr th:only-of-type {\n",
       "        vertical-align: middle;\n",
       "    }\n",
       "\n",
       "    .dataframe tbody tr th {\n",
       "        vertical-align: top;\n",
       "    }\n",
       "\n",
       "    .dataframe thead th {\n",
       "        text-align: right;\n",
       "    }\n",
       "</style>\n",
       "<table border=\"1\" class=\"dataframe\">\n",
       "  <thead>\n",
       "    <tr style=\"text-align: right;\">\n",
       "      <th></th>\n",
       "      <th>Id</th>\n",
       "      <th>Time</th>\n",
       "      <th>Value</th>\n",
       "      <th>day_of_week</th>\n",
       "      <th>time_of_day</th>\n",
       "      <th>date</th>\n",
       "    </tr>\n",
       "  </thead>\n",
       "  <tbody>\n",
       "    <tr>\n",
       "      <th>0</th>\n",
       "      <td>2022484408</td>\n",
       "      <td>2016-04-12 07:21:00</td>\n",
       "      <td>97</td>\n",
       "      <td>Tue</td>\n",
       "      <td>Morning</td>\n",
       "      <td>2016-04-12</td>\n",
       "    </tr>\n",
       "    <tr>\n",
       "      <th>1</th>\n",
       "      <td>2022484408</td>\n",
       "      <td>2016-04-12 07:21:05</td>\n",
       "      <td>102</td>\n",
       "      <td>Tue</td>\n",
       "      <td>Morning</td>\n",
       "      <td>2016-04-12</td>\n",
       "    </tr>\n",
       "    <tr>\n",
       "      <th>2</th>\n",
       "      <td>2022484408</td>\n",
       "      <td>2016-04-12 07:21:10</td>\n",
       "      <td>105</td>\n",
       "      <td>Tue</td>\n",
       "      <td>Morning</td>\n",
       "      <td>2016-04-12</td>\n",
       "    </tr>\n",
       "    <tr>\n",
       "      <th>3</th>\n",
       "      <td>2022484408</td>\n",
       "      <td>2016-04-12 07:21:20</td>\n",
       "      <td>103</td>\n",
       "      <td>Tue</td>\n",
       "      <td>Morning</td>\n",
       "      <td>2016-04-12</td>\n",
       "    </tr>\n",
       "    <tr>\n",
       "      <th>4</th>\n",
       "      <td>2022484408</td>\n",
       "      <td>2016-04-12 07:21:25</td>\n",
       "      <td>101</td>\n",
       "      <td>Tue</td>\n",
       "      <td>Morning</td>\n",
       "      <td>2016-04-12</td>\n",
       "    </tr>\n",
       "  </tbody>\n",
       "</table>\n",
       "</div>"
      ],
      "text/plain": [
       "           Id                Time  Value day_of_week time_of_day        date\n",
       "0  2022484408 2016-04-12 07:21:00     97         Tue     Morning  2016-04-12\n",
       "1  2022484408 2016-04-12 07:21:05    102         Tue     Morning  2016-04-12\n",
       "2  2022484408 2016-04-12 07:21:10    105         Tue     Morning  2016-04-12\n",
       "3  2022484408 2016-04-12 07:21:20    103         Tue     Morning  2016-04-12\n",
       "4  2022484408 2016-04-12 07:21:25    101         Tue     Morning  2016-04-12"
      ]
     },
     "execution_count": 92,
     "metadata": {},
     "output_type": "execute_result"
    }
   ],
   "source": [
    "heart_rate = pd.read_csv(r\"./data/heartrate_seconds_merged.csv\")\n",
    "heart_rate['Time'] = format_datetime(heart_rate, datetime_col=\"Time\")\n",
    "heart_rate['day_of_week'] = calc_day_of_week(heart_rate, datetime_col=\"Time\")\n",
    "heart_rate['time_of_day'] = calc_time_of_day(heart_rate, datetime_col=\"Time\")\n",
    "heart_rate['date'] = get_date(heart_rate, datetime_col='Time')\n",
    "heart_rate.head()"
   ]
  },
  {
   "cell_type": "code",
   "execution_count": 93,
   "metadata": {},
   "outputs": [
    {
     "data": {
      "text/plain": [
       "Id             0\n",
       "Time           0\n",
       "Value          0\n",
       "day_of_week    0\n",
       "time_of_day    0\n",
       "date           0\n",
       "dtype: int64"
      ]
     },
     "execution_count": 93,
     "metadata": {},
     "output_type": "execute_result"
    }
   ],
   "source": [
    "heart_rate.isna().sum()"
   ]
  },
  {
   "cell_type": "code",
   "execution_count": 94,
   "metadata": {},
   "outputs": [
    {
     "data": {
      "text/plain": [
       "Timestamp('2016-04-12 00:00:00')"
      ]
     },
     "execution_count": 94,
     "metadata": {},
     "output_type": "execute_result"
    }
   ],
   "source": [
    "heart_rate['Time'].min()"
   ]
  },
  {
   "cell_type": "code",
   "execution_count": 95,
   "metadata": {},
   "outputs": [
    {
     "data": {
      "text/plain": [
       "Timestamp('2016-05-12 16:20:00')"
      ]
     },
     "execution_count": 95,
     "metadata": {},
     "output_type": "execute_result"
    }
   ],
   "source": [
    "heart_rate['Time'].max()"
   ]
  },
  {
   "cell_type": "code",
   "execution_count": 96,
   "metadata": {},
   "outputs": [
    {
     "data": {
      "text/plain": [
       "36"
      ]
     },
     "execution_count": 96,
     "metadata": {},
     "output_type": "execute_result"
    }
   ],
   "source": [
    "heart_rate['Value'].min()"
   ]
  },
  {
   "cell_type": "code",
   "execution_count": 97,
   "metadata": {},
   "outputs": [
    {
     "data": {
      "text/plain": [
       "203"
      ]
     },
     "execution_count": 97,
     "metadata": {},
     "output_type": "execute_result"
    }
   ],
   "source": [
    "heart_rate['Value'].max()"
   ]
  },
  {
   "cell_type": "code",
   "execution_count": 98,
   "metadata": {},
   "outputs": [
    {
     "name": "stdout",
     "output_type": "stream",
     "text": [
      "The number of users in this dataset is: 14\n"
     ]
    }
   ],
   "source": [
    "print(f\"The number of users in this dataset is: {len(set(heart_rate['Id']))}\")"
   ]
  },
  {
   "cell_type": "markdown",
   "metadata": {},
   "source": [
    "Heart Rate data appears valid:\n",
    "\n",
    "* No rows contain null values.\n",
    "* `Time` data appears valid.\n",
    "* `Value` contains no zero or lower numbers.\n",
    "\n",
    "*The max and min values for* `Value` *are both high and low for exercise and sleep, but not outside of reasonability*"
   ]
  },
  {
   "cell_type": "markdown",
   "metadata": {},
   "source": [
    "#### Intensity"
   ]
  },
  {
   "cell_type": "code",
   "execution_count": 99,
   "metadata": {},
   "outputs": [
    {
     "data": {
      "text/html": [
       "<div>\n",
       "<style scoped>\n",
       "    .dataframe tbody tr th:only-of-type {\n",
       "        vertical-align: middle;\n",
       "    }\n",
       "\n",
       "    .dataframe tbody tr th {\n",
       "        vertical-align: top;\n",
       "    }\n",
       "\n",
       "    .dataframe thead th {\n",
       "        text-align: right;\n",
       "    }\n",
       "</style>\n",
       "<table border=\"1\" class=\"dataframe\">\n",
       "  <thead>\n",
       "    <tr style=\"text-align: right;\">\n",
       "      <th></th>\n",
       "      <th>Id</th>\n",
       "      <th>ActivityMinute</th>\n",
       "      <th>Intensity</th>\n",
       "      <th>intensity_name</th>\n",
       "      <th>day_of_week</th>\n",
       "      <th>time_of_day</th>\n",
       "      <th>date</th>\n",
       "    </tr>\n",
       "  </thead>\n",
       "  <tbody>\n",
       "    <tr>\n",
       "      <th>0</th>\n",
       "      <td>1503960366</td>\n",
       "      <td>2016-04-12 00:00:00</td>\n",
       "      <td>0</td>\n",
       "      <td>Sedentary</td>\n",
       "      <td>Tue</td>\n",
       "      <td>Night</td>\n",
       "      <td>2016-04-12</td>\n",
       "    </tr>\n",
       "    <tr>\n",
       "      <th>1</th>\n",
       "      <td>1503960366</td>\n",
       "      <td>2016-04-12 00:01:00</td>\n",
       "      <td>0</td>\n",
       "      <td>Sedentary</td>\n",
       "      <td>Tue</td>\n",
       "      <td>Night</td>\n",
       "      <td>2016-04-12</td>\n",
       "    </tr>\n",
       "    <tr>\n",
       "      <th>2</th>\n",
       "      <td>1503960366</td>\n",
       "      <td>2016-04-12 00:02:00</td>\n",
       "      <td>0</td>\n",
       "      <td>Sedentary</td>\n",
       "      <td>Tue</td>\n",
       "      <td>Night</td>\n",
       "      <td>2016-04-12</td>\n",
       "    </tr>\n",
       "    <tr>\n",
       "      <th>3</th>\n",
       "      <td>1503960366</td>\n",
       "      <td>2016-04-12 00:03:00</td>\n",
       "      <td>0</td>\n",
       "      <td>Sedentary</td>\n",
       "      <td>Tue</td>\n",
       "      <td>Night</td>\n",
       "      <td>2016-04-12</td>\n",
       "    </tr>\n",
       "    <tr>\n",
       "      <th>4</th>\n",
       "      <td>1503960366</td>\n",
       "      <td>2016-04-12 00:04:00</td>\n",
       "      <td>0</td>\n",
       "      <td>Sedentary</td>\n",
       "      <td>Tue</td>\n",
       "      <td>Night</td>\n",
       "      <td>2016-04-12</td>\n",
       "    </tr>\n",
       "  </tbody>\n",
       "</table>\n",
       "</div>"
      ],
      "text/plain": [
       "           Id      ActivityMinute  Intensity intensity_name day_of_week  \\\n",
       "0  1503960366 2016-04-12 00:00:00          0      Sedentary         Tue   \n",
       "1  1503960366 2016-04-12 00:01:00          0      Sedentary         Tue   \n",
       "2  1503960366 2016-04-12 00:02:00          0      Sedentary         Tue   \n",
       "3  1503960366 2016-04-12 00:03:00          0      Sedentary         Tue   \n",
       "4  1503960366 2016-04-12 00:04:00          0      Sedentary         Tue   \n",
       "\n",
       "  time_of_day        date  \n",
       "0       Night  2016-04-12  \n",
       "1       Night  2016-04-12  \n",
       "2       Night  2016-04-12  \n",
       "3       Night  2016-04-12  \n",
       "4       Night  2016-04-12  "
      ]
     },
     "execution_count": 99,
     "metadata": {},
     "output_type": "execute_result"
    }
   ],
   "source": [
    "intensity = pd.read_csv(r\"./data/minuteIntensitiesNarrow_merged.csv\")\n",
    "intensity_map = {\n",
    "    0: 'Sedentary',\n",
    "    1: 'Light',\n",
    "    2: 'Moderate',\n",
    "    3: 'Very Active' \n",
    "}\n",
    "\n",
    "intensity['intensity_name'] = intensity['Intensity'].map(intensity_map)\n",
    "intensity['intensity_name'] = intensity['intensity_name'].astype(\"category\")\n",
    "intensity['ActivityMinute'] = format_datetime(intensity)\n",
    "intensity['day_of_week'] = calc_day_of_week(intensity)\n",
    "intensity['time_of_day'] = calc_time_of_day(intensity)\n",
    "intensity['date'] = get_date(intensity)\n",
    "intensity.head()"
   ]
  },
  {
   "cell_type": "code",
   "execution_count": 100,
   "metadata": {},
   "outputs": [
    {
     "data": {
      "text/plain": [
       "Id                0\n",
       "ActivityMinute    0\n",
       "Intensity         0\n",
       "intensity_name    0\n",
       "day_of_week       0\n",
       "time_of_day       0\n",
       "date              0\n",
       "dtype: int64"
      ]
     },
     "execution_count": 100,
     "metadata": {},
     "output_type": "execute_result"
    }
   ],
   "source": [
    "intensity.isna().sum()"
   ]
  },
  {
   "cell_type": "code",
   "execution_count": 101,
   "metadata": {},
   "outputs": [
    {
     "data": {
      "text/plain": [
       "Timestamp('2016-04-12 00:00:00')"
      ]
     },
     "execution_count": 101,
     "metadata": {},
     "output_type": "execute_result"
    }
   ],
   "source": [
    "intensity['ActivityMinute'].min()"
   ]
  },
  {
   "cell_type": "code",
   "execution_count": 102,
   "metadata": {},
   "outputs": [
    {
     "data": {
      "text/plain": [
       "Timestamp('2016-05-12 15:59:00')"
      ]
     },
     "execution_count": 102,
     "metadata": {},
     "output_type": "execute_result"
    }
   ],
   "source": [
    "intensity['ActivityMinute'].max()"
   ]
  },
  {
   "cell_type": "code",
   "execution_count": 103,
   "metadata": {},
   "outputs": [
    {
     "data": {
      "text/plain": [
       "0"
      ]
     },
     "execution_count": 103,
     "metadata": {},
     "output_type": "execute_result"
    }
   ],
   "source": [
    "intensity['Intensity'].min()"
   ]
  },
  {
   "cell_type": "code",
   "execution_count": 104,
   "metadata": {},
   "outputs": [
    {
     "data": {
      "text/plain": [
       "3"
      ]
     },
     "execution_count": 104,
     "metadata": {},
     "output_type": "execute_result"
    }
   ],
   "source": [
    "intensity['Intensity'].max()"
   ]
  },
  {
   "cell_type": "markdown",
   "metadata": {},
   "source": [
    "*Note that according to [the documentation](https://www.fitabase.com/media/1930/fitabasedatadictionary102320.pdf) the values for intensity range from 0 - 3*"
   ]
  },
  {
   "cell_type": "code",
   "execution_count": 105,
   "metadata": {},
   "outputs": [
    {
     "name": "stdout",
     "output_type": "stream",
     "text": [
      "The number of users in this dataset is: 33\n"
     ]
    }
   ],
   "source": [
    "print(f\"The number of users in this dataset is: {len(set(intensity['Id']))}\")"
   ]
  },
  {
   "cell_type": "markdown",
   "metadata": {},
   "source": [
    "The Intensity data appears valid:\n",
    "\n",
    "* No rows contain null values.\n",
    "* `ActivityMinute` values appear valid.\n",
    "* `Intensity` values exist within the valid range."
   ]
  },
  {
   "cell_type": "markdown",
   "metadata": {},
   "source": [
    "#### METs"
   ]
  },
  {
   "cell_type": "code",
   "execution_count": 106,
   "metadata": {},
   "outputs": [
    {
     "data": {
      "text/html": [
       "<div>\n",
       "<style scoped>\n",
       "    .dataframe tbody tr th:only-of-type {\n",
       "        vertical-align: middle;\n",
       "    }\n",
       "\n",
       "    .dataframe tbody tr th {\n",
       "        vertical-align: top;\n",
       "    }\n",
       "\n",
       "    .dataframe thead th {\n",
       "        text-align: right;\n",
       "    }\n",
       "</style>\n",
       "<table border=\"1\" class=\"dataframe\">\n",
       "  <thead>\n",
       "    <tr style=\"text-align: right;\">\n",
       "      <th></th>\n",
       "      <th>Id</th>\n",
       "      <th>ActivityMinute</th>\n",
       "      <th>METs</th>\n",
       "      <th>day_of_week</th>\n",
       "      <th>time_of_day</th>\n",
       "      <th>date</th>\n",
       "    </tr>\n",
       "  </thead>\n",
       "  <tbody>\n",
       "    <tr>\n",
       "      <th>0</th>\n",
       "      <td>1503960366</td>\n",
       "      <td>2016-04-12 00:00:00</td>\n",
       "      <td>10</td>\n",
       "      <td>Tue</td>\n",
       "      <td>Night</td>\n",
       "      <td>2016-04-12</td>\n",
       "    </tr>\n",
       "    <tr>\n",
       "      <th>1</th>\n",
       "      <td>1503960366</td>\n",
       "      <td>2016-04-12 00:01:00</td>\n",
       "      <td>10</td>\n",
       "      <td>Tue</td>\n",
       "      <td>Night</td>\n",
       "      <td>2016-04-12</td>\n",
       "    </tr>\n",
       "    <tr>\n",
       "      <th>2</th>\n",
       "      <td>1503960366</td>\n",
       "      <td>2016-04-12 00:02:00</td>\n",
       "      <td>10</td>\n",
       "      <td>Tue</td>\n",
       "      <td>Night</td>\n",
       "      <td>2016-04-12</td>\n",
       "    </tr>\n",
       "    <tr>\n",
       "      <th>3</th>\n",
       "      <td>1503960366</td>\n",
       "      <td>2016-04-12 00:03:00</td>\n",
       "      <td>10</td>\n",
       "      <td>Tue</td>\n",
       "      <td>Night</td>\n",
       "      <td>2016-04-12</td>\n",
       "    </tr>\n",
       "    <tr>\n",
       "      <th>4</th>\n",
       "      <td>1503960366</td>\n",
       "      <td>2016-04-12 00:04:00</td>\n",
       "      <td>10</td>\n",
       "      <td>Tue</td>\n",
       "      <td>Night</td>\n",
       "      <td>2016-04-12</td>\n",
       "    </tr>\n",
       "  </tbody>\n",
       "</table>\n",
       "</div>"
      ],
      "text/plain": [
       "           Id      ActivityMinute  METs day_of_week time_of_day        date\n",
       "0  1503960366 2016-04-12 00:00:00    10         Tue       Night  2016-04-12\n",
       "1  1503960366 2016-04-12 00:01:00    10         Tue       Night  2016-04-12\n",
       "2  1503960366 2016-04-12 00:02:00    10         Tue       Night  2016-04-12\n",
       "3  1503960366 2016-04-12 00:03:00    10         Tue       Night  2016-04-12\n",
       "4  1503960366 2016-04-12 00:04:00    10         Tue       Night  2016-04-12"
      ]
     },
     "execution_count": 106,
     "metadata": {},
     "output_type": "execute_result"
    }
   ],
   "source": [
    "mets = pd.read_csv(r\"./data/minuteMETsNarrow_merged.csv\")\n",
    "mets['ActivityMinute'] = format_datetime(mets)\n",
    "mets['day_of_week'] = calc_day_of_week(mets)\n",
    "mets['time_of_day'] = calc_time_of_day(mets)\n",
    "mets['date'] = get_date(mets)\n",
    "mets.head()"
   ]
  },
  {
   "cell_type": "markdown",
   "metadata": {},
   "source": [
    "*Note that according to [this source](https://www.kaggle.com/datasets/arashnic/fitbit/discussion/254740) true METs values need to be divided by 10*"
   ]
  },
  {
   "cell_type": "code",
   "execution_count": 107,
   "metadata": {},
   "outputs": [
    {
     "data": {
      "text/html": [
       "<div>\n",
       "<style scoped>\n",
       "    .dataframe tbody tr th:only-of-type {\n",
       "        vertical-align: middle;\n",
       "    }\n",
       "\n",
       "    .dataframe tbody tr th {\n",
       "        vertical-align: top;\n",
       "    }\n",
       "\n",
       "    .dataframe thead th {\n",
       "        text-align: right;\n",
       "    }\n",
       "</style>\n",
       "<table border=\"1\" class=\"dataframe\">\n",
       "  <thead>\n",
       "    <tr style=\"text-align: right;\">\n",
       "      <th></th>\n",
       "      <th>Id</th>\n",
       "      <th>ActivityMinute</th>\n",
       "      <th>METs</th>\n",
       "      <th>day_of_week</th>\n",
       "      <th>time_of_day</th>\n",
       "      <th>date</th>\n",
       "      <th>true_mets</th>\n",
       "    </tr>\n",
       "  </thead>\n",
       "  <tbody>\n",
       "    <tr>\n",
       "      <th>0</th>\n",
       "      <td>1503960366</td>\n",
       "      <td>2016-04-12 00:00:00</td>\n",
       "      <td>10</td>\n",
       "      <td>Tue</td>\n",
       "      <td>Night</td>\n",
       "      <td>2016-04-12</td>\n",
       "      <td>1.0</td>\n",
       "    </tr>\n",
       "    <tr>\n",
       "      <th>1</th>\n",
       "      <td>1503960366</td>\n",
       "      <td>2016-04-12 00:01:00</td>\n",
       "      <td>10</td>\n",
       "      <td>Tue</td>\n",
       "      <td>Night</td>\n",
       "      <td>2016-04-12</td>\n",
       "      <td>1.0</td>\n",
       "    </tr>\n",
       "    <tr>\n",
       "      <th>2</th>\n",
       "      <td>1503960366</td>\n",
       "      <td>2016-04-12 00:02:00</td>\n",
       "      <td>10</td>\n",
       "      <td>Tue</td>\n",
       "      <td>Night</td>\n",
       "      <td>2016-04-12</td>\n",
       "      <td>1.0</td>\n",
       "    </tr>\n",
       "    <tr>\n",
       "      <th>3</th>\n",
       "      <td>1503960366</td>\n",
       "      <td>2016-04-12 00:03:00</td>\n",
       "      <td>10</td>\n",
       "      <td>Tue</td>\n",
       "      <td>Night</td>\n",
       "      <td>2016-04-12</td>\n",
       "      <td>1.0</td>\n",
       "    </tr>\n",
       "    <tr>\n",
       "      <th>4</th>\n",
       "      <td>1503960366</td>\n",
       "      <td>2016-04-12 00:04:00</td>\n",
       "      <td>10</td>\n",
       "      <td>Tue</td>\n",
       "      <td>Night</td>\n",
       "      <td>2016-04-12</td>\n",
       "      <td>1.0</td>\n",
       "    </tr>\n",
       "  </tbody>\n",
       "</table>\n",
       "</div>"
      ],
      "text/plain": [
       "           Id      ActivityMinute  METs day_of_week time_of_day        date  \\\n",
       "0  1503960366 2016-04-12 00:00:00    10         Tue       Night  2016-04-12   \n",
       "1  1503960366 2016-04-12 00:01:00    10         Tue       Night  2016-04-12   \n",
       "2  1503960366 2016-04-12 00:02:00    10         Tue       Night  2016-04-12   \n",
       "3  1503960366 2016-04-12 00:03:00    10         Tue       Night  2016-04-12   \n",
       "4  1503960366 2016-04-12 00:04:00    10         Tue       Night  2016-04-12   \n",
       "\n",
       "   true_mets  \n",
       "0        1.0  \n",
       "1        1.0  \n",
       "2        1.0  \n",
       "3        1.0  \n",
       "4        1.0  "
      ]
     },
     "execution_count": 107,
     "metadata": {},
     "output_type": "execute_result"
    }
   ],
   "source": [
    "mets['true_mets'] = (mets['METs']/10)\n",
    "mets.head()"
   ]
  },
  {
   "cell_type": "code",
   "execution_count": 108,
   "metadata": {},
   "outputs": [
    {
     "data": {
      "text/plain": [
       "Id                0\n",
       "ActivityMinute    0\n",
       "METs              0\n",
       "day_of_week       0\n",
       "time_of_day       0\n",
       "date              0\n",
       "true_mets         0\n",
       "dtype: int64"
      ]
     },
     "execution_count": 108,
     "metadata": {},
     "output_type": "execute_result"
    }
   ],
   "source": [
    "mets.isna().sum()"
   ]
  },
  {
   "cell_type": "code",
   "execution_count": 109,
   "metadata": {},
   "outputs": [
    {
     "data": {
      "text/plain": [
       "Timestamp('2016-04-12 00:00:00')"
      ]
     },
     "execution_count": 109,
     "metadata": {},
     "output_type": "execute_result"
    }
   ],
   "source": [
    "mets['ActivityMinute'].min()"
   ]
  },
  {
   "cell_type": "code",
   "execution_count": 110,
   "metadata": {},
   "outputs": [
    {
     "data": {
      "text/plain": [
       "Timestamp('2016-05-12 15:59:00')"
      ]
     },
     "execution_count": 110,
     "metadata": {},
     "output_type": "execute_result"
    }
   ],
   "source": [
    "mets['ActivityMinute'].max()"
   ]
  },
  {
   "cell_type": "code",
   "execution_count": 111,
   "metadata": {},
   "outputs": [
    {
     "data": {
      "text/plain": [
       "0.0"
      ]
     },
     "execution_count": 111,
     "metadata": {},
     "output_type": "execute_result"
    }
   ],
   "source": [
    "mets['true_mets'].min()"
   ]
  },
  {
   "cell_type": "code",
   "execution_count": 112,
   "metadata": {},
   "outputs": [
    {
     "name": "stdout",
     "output_type": "stream",
     "text": [
      "Rows with invalid true_mets values: = 8\n"
     ]
    }
   ],
   "source": [
    "print(f\"Rows with invalid true_mets values: = {mets.query('true_mets < 1').shape[0]}\")"
   ]
  },
  {
   "cell_type": "code",
   "execution_count": 113,
   "metadata": {},
   "outputs": [],
   "source": [
    "mets = mets.query(\"true_mets >= 1\")"
   ]
  },
  {
   "cell_type": "code",
   "execution_count": 114,
   "metadata": {},
   "outputs": [
    {
     "data": {
      "text/plain": [
       "1.0"
      ]
     },
     "execution_count": 114,
     "metadata": {},
     "output_type": "execute_result"
    }
   ],
   "source": [
    "mets['true_mets'].min()"
   ]
  },
  {
   "cell_type": "code",
   "execution_count": 115,
   "metadata": {},
   "outputs": [
    {
     "name": "stdout",
     "output_type": "stream",
     "text": [
      "Rows with invalid true_mets values: = 0\n"
     ]
    }
   ],
   "source": [
    "print(f\"Rows with invalid true_mets values: = {mets.query('true_mets < 1').shape[0]}\")"
   ]
  },
  {
   "cell_type": "code",
   "execution_count": 116,
   "metadata": {},
   "outputs": [
    {
     "data": {
      "text/plain": [
       "15.7"
      ]
     },
     "execution_count": 116,
     "metadata": {},
     "output_type": "execute_result"
    }
   ],
   "source": [
    "mets['true_mets'].max()"
   ]
  },
  {
   "cell_type": "code",
   "execution_count": 117,
   "metadata": {},
   "outputs": [
    {
     "name": "stdout",
     "output_type": "stream",
     "text": [
      "The number of users in this dataset is: 33\n"
     ]
    }
   ],
   "source": [
    "print(f\"The number of users in this dataset is: {len(set(mets['Id']))}\")"
   ]
  },
  {
   "cell_type": "markdown",
   "metadata": {},
   "source": [
    "Errors were found in the METs data. 8 rows were discovered with `true_mets` values less than `1`. Since the METs at rest should be `1` these entries were considered erroneous and were removed."
   ]
  },
  {
   "cell_type": "markdown",
   "metadata": {},
   "source": [
    "After these values were removed, the rest of the data appeared fine:\n",
    "\n",
    "* No rows contained null values.\n",
    "* `ActivityMinute` values were all vaild.\n",
    "* After cleaning, `true_mets` values were all acceptable.\n",
    "\n",
    "*A METs value of 15 is high, however jump rope as an activity has a METs value of 12, so it is not outside the realm of possibility*."
   ]
  },
  {
   "cell_type": "markdown",
   "metadata": {},
   "source": [
    "#### Sleep"
   ]
  },
  {
   "cell_type": "code",
   "execution_count": 118,
   "metadata": {},
   "outputs": [
    {
     "data": {
      "text/html": [
       "<div>\n",
       "<style scoped>\n",
       "    .dataframe tbody tr th:only-of-type {\n",
       "        vertical-align: middle;\n",
       "    }\n",
       "\n",
       "    .dataframe tbody tr th {\n",
       "        vertical-align: top;\n",
       "    }\n",
       "\n",
       "    .dataframe thead th {\n",
       "        text-align: right;\n",
       "    }\n",
       "</style>\n",
       "<table border=\"1\" class=\"dataframe\">\n",
       "  <thead>\n",
       "    <tr style=\"text-align: right;\">\n",
       "      <th></th>\n",
       "      <th>Id</th>\n",
       "      <th>datetime</th>\n",
       "      <th>value</th>\n",
       "      <th>logId</th>\n",
       "      <th>type</th>\n",
       "      <th>day_of_week</th>\n",
       "      <th>time_of_day</th>\n",
       "      <th>date</th>\n",
       "    </tr>\n",
       "  </thead>\n",
       "  <tbody>\n",
       "    <tr>\n",
       "      <th>0</th>\n",
       "      <td>1503960366</td>\n",
       "      <td>2016-04-12 02:47:30</td>\n",
       "      <td>3</td>\n",
       "      <td>11380564589</td>\n",
       "      <td>awake</td>\n",
       "      <td>Tue</td>\n",
       "      <td>Night</td>\n",
       "      <td>2016-04-12</td>\n",
       "    </tr>\n",
       "    <tr>\n",
       "      <th>1</th>\n",
       "      <td>1503960366</td>\n",
       "      <td>2016-04-12 02:48:30</td>\n",
       "      <td>2</td>\n",
       "      <td>11380564589</td>\n",
       "      <td>restless</td>\n",
       "      <td>Tue</td>\n",
       "      <td>Night</td>\n",
       "      <td>2016-04-12</td>\n",
       "    </tr>\n",
       "    <tr>\n",
       "      <th>2</th>\n",
       "      <td>1503960366</td>\n",
       "      <td>2016-04-12 02:49:30</td>\n",
       "      <td>1</td>\n",
       "      <td>11380564589</td>\n",
       "      <td>asleep</td>\n",
       "      <td>Tue</td>\n",
       "      <td>Night</td>\n",
       "      <td>2016-04-12</td>\n",
       "    </tr>\n",
       "    <tr>\n",
       "      <th>3</th>\n",
       "      <td>1503960366</td>\n",
       "      <td>2016-04-12 02:50:30</td>\n",
       "      <td>1</td>\n",
       "      <td>11380564589</td>\n",
       "      <td>asleep</td>\n",
       "      <td>Tue</td>\n",
       "      <td>Night</td>\n",
       "      <td>2016-04-12</td>\n",
       "    </tr>\n",
       "    <tr>\n",
       "      <th>4</th>\n",
       "      <td>1503960366</td>\n",
       "      <td>2016-04-12 02:51:30</td>\n",
       "      <td>1</td>\n",
       "      <td>11380564589</td>\n",
       "      <td>asleep</td>\n",
       "      <td>Tue</td>\n",
       "      <td>Night</td>\n",
       "      <td>2016-04-12</td>\n",
       "    </tr>\n",
       "  </tbody>\n",
       "</table>\n",
       "</div>"
      ],
      "text/plain": [
       "           Id            datetime  value        logId      type day_of_week  \\\n",
       "0  1503960366 2016-04-12 02:47:30      3  11380564589     awake         Tue   \n",
       "1  1503960366 2016-04-12 02:48:30      2  11380564589  restless         Tue   \n",
       "2  1503960366 2016-04-12 02:49:30      1  11380564589    asleep         Tue   \n",
       "3  1503960366 2016-04-12 02:50:30      1  11380564589    asleep         Tue   \n",
       "4  1503960366 2016-04-12 02:51:30      1  11380564589    asleep         Tue   \n",
       "\n",
       "  time_of_day        date  \n",
       "0       Night  2016-04-12  \n",
       "1       Night  2016-04-12  \n",
       "2       Night  2016-04-12  \n",
       "3       Night  2016-04-12  \n",
       "4       Night  2016-04-12  "
      ]
     },
     "execution_count": 118,
     "metadata": {},
     "output_type": "execute_result"
    }
   ],
   "source": [
    "sleep = pd.read_csv(r\"./data/minuteSleep_merged.csv\")\n",
    "sleep_map = {\n",
    "    1: \"asleep\",\n",
    "    2: \"restless\",\n",
    "    3: \"awake\"\n",
    "}\n",
    "sleep['type'] = sleep[\"value\"].map(sleep_map)\n",
    "sleep['type'] = sleep['type'].astype(\"category\")\n",
    "sleep = sleep.rename(columns={\"date\":\"datetime\"})\n",
    "sleep['datetime'] = format_datetime(sleep, datetime_col=\"datetime\")\n",
    "sleep['day_of_week'] = calc_day_of_week(sleep, datetime_col=\"datetime\")\n",
    "sleep['time_of_day'] = calc_time_of_day(sleep, datetime_col=\"datetime\")\n",
    "sleep['date'] = get_date(sleep, datetime_col=\"datetime\")\n",
    "sleep.head()"
   ]
  },
  {
   "cell_type": "code",
   "execution_count": 119,
   "metadata": {},
   "outputs": [
    {
     "data": {
      "text/plain": [
       "Id             0\n",
       "datetime       0\n",
       "value          0\n",
       "logId          0\n",
       "type           0\n",
       "day_of_week    0\n",
       "time_of_day    0\n",
       "date           0\n",
       "dtype: int64"
      ]
     },
     "execution_count": 119,
     "metadata": {},
     "output_type": "execute_result"
    }
   ],
   "source": [
    "sleep.isna().sum()"
   ]
  },
  {
   "cell_type": "code",
   "execution_count": 120,
   "metadata": {},
   "outputs": [
    {
     "data": {
      "text/plain": [
       "Timestamp('2016-04-11 20:48:00')"
      ]
     },
     "execution_count": 120,
     "metadata": {},
     "output_type": "execute_result"
    }
   ],
   "source": [
    "sleep['datetime'].min()"
   ]
  },
  {
   "cell_type": "code",
   "execution_count": 121,
   "metadata": {},
   "outputs": [
    {
     "data": {
      "text/plain": [
       "Timestamp('2016-05-12 09:56:00')"
      ]
     },
     "execution_count": 121,
     "metadata": {},
     "output_type": "execute_result"
    }
   ],
   "source": [
    "sleep['datetime'].max()"
   ]
  },
  {
   "cell_type": "code",
   "execution_count": 122,
   "metadata": {},
   "outputs": [
    {
     "data": {
      "text/plain": [
       "1"
      ]
     },
     "execution_count": 122,
     "metadata": {},
     "output_type": "execute_result"
    }
   ],
   "source": [
    "sleep['value'].min()"
   ]
  },
  {
   "cell_type": "code",
   "execution_count": 123,
   "metadata": {},
   "outputs": [
    {
     "data": {
      "text/plain": [
       "3"
      ]
     },
     "execution_count": 123,
     "metadata": {},
     "output_type": "execute_result"
    }
   ],
   "source": [
    "sleep['value'].max()"
   ]
  },
  {
   "cell_type": "markdown",
   "metadata": {},
   "source": [
    "*Note that [the documentation](https://www.fitabase.com/media/1930/fitabasedatadictionary102320.pdf) describes what each `value` represents*"
   ]
  },
  {
   "cell_type": "code",
   "execution_count": 124,
   "metadata": {},
   "outputs": [
    {
     "name": "stdout",
     "output_type": "stream",
     "text": [
      "The number of users in this dataset is: 24\n"
     ]
    }
   ],
   "source": [
    "print(f\"The number of users in this dataset is: {len(set(sleep['Id']))}\")"
   ]
  },
  {
   "cell_type": "markdown",
   "metadata": {},
   "source": [
    "The sleep data appears valid:\n",
    "\n",
    "* No rows contain null values.\n",
    "* `date` contains valid values.\n",
    "* `value` contains values within acceptable range."
   ]
  },
  {
   "cell_type": "markdown",
   "metadata": {},
   "source": [
    "#### Weight"
   ]
  },
  {
   "cell_type": "code",
   "execution_count": 125,
   "metadata": {},
   "outputs": [
    {
     "data": {
      "text/html": [
       "<div>\n",
       "<style scoped>\n",
       "    .dataframe tbody tr th:only-of-type {\n",
       "        vertical-align: middle;\n",
       "    }\n",
       "\n",
       "    .dataframe tbody tr th {\n",
       "        vertical-align: top;\n",
       "    }\n",
       "\n",
       "    .dataframe thead th {\n",
       "        text-align: right;\n",
       "    }\n",
       "</style>\n",
       "<table border=\"1\" class=\"dataframe\">\n",
       "  <thead>\n",
       "    <tr style=\"text-align: right;\">\n",
       "      <th></th>\n",
       "      <th>Id</th>\n",
       "      <th>Datetime</th>\n",
       "      <th>WeightKg</th>\n",
       "      <th>WeightPounds</th>\n",
       "      <th>Fat</th>\n",
       "      <th>BMI</th>\n",
       "      <th>IsManualReport</th>\n",
       "      <th>LogId</th>\n",
       "      <th>body_type</th>\n",
       "    </tr>\n",
       "  </thead>\n",
       "  <tbody>\n",
       "    <tr>\n",
       "      <th>0</th>\n",
       "      <td>1503960366</td>\n",
       "      <td>5/2/2016 11:59:59 PM</td>\n",
       "      <td>52.599998</td>\n",
       "      <td>115.963147</td>\n",
       "      <td>22.0</td>\n",
       "      <td>22.650000</td>\n",
       "      <td>True</td>\n",
       "      <td>1462233599000</td>\n",
       "      <td>normal</td>\n",
       "    </tr>\n",
       "    <tr>\n",
       "      <th>1</th>\n",
       "      <td>1503960366</td>\n",
       "      <td>5/3/2016 11:59:59 PM</td>\n",
       "      <td>52.599998</td>\n",
       "      <td>115.963147</td>\n",
       "      <td>NaN</td>\n",
       "      <td>22.650000</td>\n",
       "      <td>True</td>\n",
       "      <td>1462319999000</td>\n",
       "      <td>normal</td>\n",
       "    </tr>\n",
       "    <tr>\n",
       "      <th>2</th>\n",
       "      <td>1927972279</td>\n",
       "      <td>4/13/2016 1:08:52 AM</td>\n",
       "      <td>133.500000</td>\n",
       "      <td>294.317120</td>\n",
       "      <td>NaN</td>\n",
       "      <td>47.540001</td>\n",
       "      <td>False</td>\n",
       "      <td>1460509732000</td>\n",
       "      <td>extremely_obese</td>\n",
       "    </tr>\n",
       "    <tr>\n",
       "      <th>3</th>\n",
       "      <td>2873212765</td>\n",
       "      <td>4/21/2016 11:59:59 PM</td>\n",
       "      <td>56.700001</td>\n",
       "      <td>125.002104</td>\n",
       "      <td>NaN</td>\n",
       "      <td>21.450001</td>\n",
       "      <td>True</td>\n",
       "      <td>1461283199000</td>\n",
       "      <td>normal</td>\n",
       "    </tr>\n",
       "    <tr>\n",
       "      <th>4</th>\n",
       "      <td>2873212765</td>\n",
       "      <td>5/12/2016 11:59:59 PM</td>\n",
       "      <td>57.299999</td>\n",
       "      <td>126.324875</td>\n",
       "      <td>NaN</td>\n",
       "      <td>21.690001</td>\n",
       "      <td>True</td>\n",
       "      <td>1463097599000</td>\n",
       "      <td>normal</td>\n",
       "    </tr>\n",
       "  </tbody>\n",
       "</table>\n",
       "</div>"
      ],
      "text/plain": [
       "           Id               Datetime    WeightKg  WeightPounds   Fat  \\\n",
       "0  1503960366   5/2/2016 11:59:59 PM   52.599998    115.963147  22.0   \n",
       "1  1503960366   5/3/2016 11:59:59 PM   52.599998    115.963147   NaN   \n",
       "2  1927972279   4/13/2016 1:08:52 AM  133.500000    294.317120   NaN   \n",
       "3  2873212765  4/21/2016 11:59:59 PM   56.700001    125.002104   NaN   \n",
       "4  2873212765  5/12/2016 11:59:59 PM   57.299999    126.324875   NaN   \n",
       "\n",
       "         BMI  IsManualReport          LogId        body_type  \n",
       "0  22.650000            True  1462233599000           normal  \n",
       "1  22.650000            True  1462319999000           normal  \n",
       "2  47.540001           False  1460509732000  extremely_obese  \n",
       "3  21.450001            True  1461283199000           normal  \n",
       "4  21.690001            True  1463097599000           normal  "
      ]
     },
     "execution_count": 125,
     "metadata": {},
     "output_type": "execute_result"
    }
   ],
   "source": [
    "def body_type(bmi):\n",
    "    if bmi < 18.5:\n",
    "        return \"underweight\"\n",
    "    elif bmi >= 18.5 and bmi < 25:\n",
    "        return \"normal\"\n",
    "    elif bmi >= 25 and bmi < 30:\n",
    "        return \"overweight\"\n",
    "    elif bmi >= 30 and bmi < 40:\n",
    "        return \"obese\"\n",
    "    else:\n",
    "        return \"extremely_obese\"\n",
    "\n",
    "weight = pd.read_csv(r\"./data/weightLogInfo_merged.csv\")\n",
    "weight['body_type'] = weight['BMI'].apply(body_type)\n",
    "weight['body_type'] = weight['body_type'].astype(\"category\")\n",
    "weight = weight.rename(columns={\"Date\":\"Datetime\"})\n",
    "weight.head()"
   ]
  },
  {
   "cell_type": "markdown",
   "metadata": {},
   "source": [
    "The parameters to assign a `body_type` to a `bmi` from [here](https://www.builtlean.com/bmi-chart/)"
   ]
  },
  {
   "cell_type": "code",
   "execution_count": 126,
   "metadata": {},
   "outputs": [
    {
     "data": {
      "text/plain": [
       "Id                 0\n",
       "Datetime           0\n",
       "WeightKg           0\n",
       "WeightPounds       0\n",
       "Fat               65\n",
       "BMI                0\n",
       "IsManualReport     0\n",
       "LogId              0\n",
       "body_type          0\n",
       "dtype: int64"
      ]
     },
     "execution_count": 126,
     "metadata": {},
     "output_type": "execute_result"
    }
   ],
   "source": [
    "weight.isna().sum()"
   ]
  },
  {
   "cell_type": "code",
   "execution_count": 127,
   "metadata": {},
   "outputs": [
    {
     "name": "stdout",
     "output_type": "stream",
     "text": [
      "Number of entries in this dataset are: 67\n"
     ]
    }
   ],
   "source": [
    "print(f\"Number of entries in this dataset are: {weight.shape[0]}\")"
   ]
  },
  {
   "cell_type": "markdown",
   "metadata": {},
   "source": [
    "Null values exist in `Fat` column of our dataset. And since 65 of the 67 rows are null, there is no point in keeping that column in our analysis."
   ]
  },
  {
   "cell_type": "code",
   "execution_count": 128,
   "metadata": {},
   "outputs": [
    {
     "data": {
      "text/plain": [
       "Id                0\n",
       "Datetime          0\n",
       "WeightKg          0\n",
       "WeightPounds      0\n",
       "BMI               0\n",
       "IsManualReport    0\n",
       "LogId             0\n",
       "body_type         0\n",
       "dtype: int64"
      ]
     },
     "execution_count": 128,
     "metadata": {},
     "output_type": "execute_result"
    }
   ],
   "source": [
    "weight = weight.drop(['Fat'], axis=1)\n",
    "weight.isna().sum()"
   ]
  },
  {
   "cell_type": "code",
   "execution_count": 130,
   "metadata": {},
   "outputs": [
    {
     "data": {
      "text/plain": [
       "'4/12/2016 11:59:59 PM'"
      ]
     },
     "execution_count": 130,
     "metadata": {},
     "output_type": "execute_result"
    }
   ],
   "source": [
    "weight['Datetime'].min()"
   ]
  },
  {
   "cell_type": "code",
   "execution_count": 132,
   "metadata": {},
   "outputs": [
    {
     "data": {
      "text/plain": [
       "'5/9/2016 6:39:44 AM'"
      ]
     },
     "execution_count": 132,
     "metadata": {},
     "output_type": "execute_result"
    }
   ],
   "source": [
    "weight['Datetime'].max()"
   ]
  },
  {
   "cell_type": "code",
   "execution_count": 133,
   "metadata": {},
   "outputs": [
    {
     "data": {
      "text/plain": [
       "115.963146545323"
      ]
     },
     "execution_count": 133,
     "metadata": {},
     "output_type": "execute_result"
    }
   ],
   "source": [
    "weight['WeightPounds'].min()"
   ]
  },
  {
   "cell_type": "code",
   "execution_count": 134,
   "metadata": {},
   "outputs": [
    {
     "data": {
      "text/plain": [
       "294.317120016975"
      ]
     },
     "execution_count": 134,
     "metadata": {},
     "output_type": "execute_result"
    }
   ],
   "source": [
    "weight['WeightPounds'].max()"
   ]
  },
  {
   "cell_type": "code",
   "execution_count": 135,
   "metadata": {},
   "outputs": [
    {
     "data": {
      "text/plain": [
       "21.4500007629395"
      ]
     },
     "execution_count": 135,
     "metadata": {},
     "output_type": "execute_result"
    }
   ],
   "source": [
    "weight['BMI'].min()"
   ]
  },
  {
   "cell_type": "code",
   "execution_count": 136,
   "metadata": {},
   "outputs": [
    {
     "data": {
      "text/plain": [
       "47.5400009155273"
      ]
     },
     "execution_count": 136,
     "metadata": {},
     "output_type": "execute_result"
    }
   ],
   "source": [
    "weight['BMI'].max()"
   ]
  },
  {
   "cell_type": "code",
   "execution_count": 137,
   "metadata": {},
   "outputs": [
    {
     "name": "stdout",
     "output_type": "stream",
     "text": [
      "The number of users in this dataset is: 8\n"
     ]
    }
   ],
   "source": [
    "print(f\"The number of users in this dataset is: {len(set(weight['Id']))}\")"
   ]
  },
  {
   "cell_type": "markdown",
   "metadata": {},
   "source": [
    "The weight data appears valid:\n",
    "\n",
    "* Null values were found in most entries of the `Fat` column, so that column was dropped. No other Null values were found.\n",
    "\n",
    "* All `Date` values are valid.\n",
    "\n",
    "* The `WeightPounds` data contains reasonable values; nothing too low or too high. We will not be using `WeightKg` in our analysis.\n",
    "\n",
    "* The `BMI` values are valid."
   ]
  },
  {
   "cell_type": "markdown",
   "metadata": {},
   "source": [
    "## Analysis"
   ]
  },
  {
   "cell_type": "markdown",
   "metadata": {},
   "source": [
    "### Activity Level by BMI\n",
    "\n",
    "The assumption that we will be looking to be made is that users with lower BMI exercise more. They will have more steps, have fewer sedentary moments, more moderate or very active moments, and will have higher METs rates. We will also examine how good their sleep is and their heart rate.\n",
    "\n",
    "We will start off by looking at our `weights` dataset and see how many `body_type` groups there are."
   ]
  },
  {
   "cell_type": "code",
   "execution_count": 138,
   "metadata": {},
   "outputs": [
    {
     "name": "stdout",
     "output_type": "stream",
     "text": [
      "The different body types in our weight dataset are:\n",
      "   * extremely_obese\n",
      "   * overweight\n",
      "   * normal\n"
     ]
    }
   ],
   "source": [
    "print(\"The different body types in our weight dataset are:\")\n",
    "for body_type in set(weight['body_type']):\n",
    "    print(f\"   * {body_type}\")"
   ]
  },
  {
   "cell_type": "code",
   "execution_count": 139,
   "metadata": {},
   "outputs": [
    {
     "name": "stdout",
     "output_type": "stream",
     "text": [
      "The number of normal body type users are: 3\n"
     ]
    }
   ],
   "source": [
    "normal_weight_users = set(weight.query(\"body_type == 'normal'\")['Id'])\n",
    "print(f\"The number of normal body type users are: {len(normal_weight_users)}\")"
   ]
  },
  {
   "cell_type": "code",
   "execution_count": 140,
   "metadata": {},
   "outputs": [
    {
     "name": "stdout",
     "output_type": "stream",
     "text": [
      "The number of overweight users are: 4\n"
     ]
    }
   ],
   "source": [
    "over_weight_users = set(weight.query(\"body_type == 'overweight'\")['Id'])\n",
    "print(f\"The number of overweight users are: {len(over_weight_users)}\")"
   ]
  },
  {
   "cell_type": "code",
   "execution_count": 141,
   "metadata": {},
   "outputs": [
    {
     "name": "stdout",
     "output_type": "stream",
     "text": [
      "The number of extremely obese users are: 1\n"
     ]
    }
   ],
   "source": [
    "extremely_obese_users = set(weight.query(\"body_type == 'extremely_obese'\")['Id'])\n",
    "print(f\"The number of extremely obese users are: {len(extremely_obese_users)}\")"
   ]
  },
  {
   "cell_type": "markdown",
   "metadata": {},
   "source": [
    "Since we only have one user in the extremely obese category we will not include that in our findings. One user is too small of a sample size. In reality, 3 and 4 users is also too small, but we will mention that in the \"future work\" portion of this report.\n",
    "\n",
    "For now, we will only perform analysis on the normal and overweight body type groups."
   ]
  },
  {
   "cell_type": "markdown",
   "metadata": {},
   "source": [
    "#### Daily Steps per BMI Group"
   ]
  },
  {
   "cell_type": "code",
   "execution_count": 142,
   "metadata": {},
   "outputs": [
    {
     "data": {
      "text/html": [
       "<div>\n",
       "<style scoped>\n",
       "    .dataframe tbody tr th:only-of-type {\n",
       "        vertical-align: middle;\n",
       "    }\n",
       "\n",
       "    .dataframe tbody tr th {\n",
       "        vertical-align: top;\n",
       "    }\n",
       "\n",
       "    .dataframe thead th {\n",
       "        text-align: right;\n",
       "    }\n",
       "</style>\n",
       "<table border=\"1\" class=\"dataframe\">\n",
       "  <thead>\n",
       "    <tr style=\"text-align: right;\">\n",
       "      <th></th>\n",
       "      <th>Id</th>\n",
       "      <th>body_type</th>\n",
       "      <th>date</th>\n",
       "      <th>Steps</th>\n",
       "      <th>day_of_week</th>\n",
       "    </tr>\n",
       "  </thead>\n",
       "  <tbody>\n",
       "    <tr>\n",
       "      <th>0</th>\n",
       "      <td>8053475328</td>\n",
       "      <td></td>\n",
       "      <td>2016-04-18</td>\n",
       "      <td>17076</td>\n",
       "      <td>Mon</td>\n",
       "    </tr>\n",
       "    <tr>\n",
       "      <th>1</th>\n",
       "      <td>8053475328</td>\n",
       "      <td></td>\n",
       "      <td>2016-04-21</td>\n",
       "      <td>16049</td>\n",
       "      <td>Thu</td>\n",
       "    </tr>\n",
       "    <tr>\n",
       "      <th>2</th>\n",
       "      <td>8053475328</td>\n",
       "      <td></td>\n",
       "      <td>2016-04-12</td>\n",
       "      <td>18060</td>\n",
       "      <td>Tue</td>\n",
       "    </tr>\n",
       "    <tr>\n",
       "      <th>3</th>\n",
       "      <td>8053475328</td>\n",
       "      <td></td>\n",
       "      <td>2016-04-19</td>\n",
       "      <td>15929</td>\n",
       "      <td>Tue</td>\n",
       "    </tr>\n",
       "    <tr>\n",
       "      <th>4</th>\n",
       "      <td>8053475328</td>\n",
       "      <td></td>\n",
       "      <td>2016-04-15</td>\n",
       "      <td>20669</td>\n",
       "      <td>Fri</td>\n",
       "    </tr>\n",
       "  </tbody>\n",
       "</table>\n",
       "</div>"
      ],
      "text/plain": [
       "           Id body_type        date  Steps day_of_week\n",
       "0  8053475328            2016-04-18  17076         Mon\n",
       "1  8053475328            2016-04-21  16049         Thu\n",
       "2  8053475328            2016-04-12  18060         Tue\n",
       "3  8053475328            2016-04-19  15929         Tue\n",
       "4  8053475328            2016-04-15  20669         Fri"
      ]
     },
     "execution_count": 142,
     "metadata": {},
     "output_type": "execute_result"
    }
   ],
   "source": [
    "frame_data = []\n",
    "\n",
    "for user in set(steps['Id']):\n",
    "    for date in set(steps['date']):\n",
    "        df = steps.query(\"Id == @user and date == @date\")\n",
    "        body_type = \"\"\n",
    "        if user in normal_weight_users:\n",
    "            body_type=\"normal\"\n",
    "        if user in over_weight_users:\n",
    "            body_type=\"overweight\"\n",
    "        frame_data.append([user, body_type, date, df['Steps'].sum()])\n",
    "\n",
    "steps_daily = pd.DataFrame(\n",
    "    data=frame_data,\n",
    "    columns=['Id', 'body_type', 'date', 'Steps']\n",
    ")\n",
    "steps_daily['day_of_week'] = calc_day_of_week(steps_daily, datetime_col=\"date\")\n",
    "steps_daily.head()"
   ]
  },
  {
   "cell_type": "code",
   "execution_count": 149,
   "metadata": {},
   "outputs": [
    {
     "data": {
      "text/plain": [
       "0"
      ]
     },
     "execution_count": 149,
     "metadata": {},
     "output_type": "execute_result"
    }
   ],
   "source": [
    "steps_daily['Steps'].min()"
   ]
  },
  {
   "cell_type": "code",
   "execution_count": 147,
   "metadata": {},
   "outputs": [
    {
     "data": {
      "text/html": [
       "<div>\n",
       "<style scoped>\n",
       "    .dataframe tbody tr th:only-of-type {\n",
       "        vertical-align: middle;\n",
       "    }\n",
       "\n",
       "    .dataframe tbody tr th {\n",
       "        vertical-align: top;\n",
       "    }\n",
       "\n",
       "    .dataframe thead th {\n",
       "        text-align: right;\n",
       "    }\n",
       "</style>\n",
       "<table border=\"1\" class=\"dataframe\">\n",
       "  <thead>\n",
       "    <tr style=\"text-align: right;\">\n",
       "      <th></th>\n",
       "      <th>Id</th>\n",
       "      <th>body_type</th>\n",
       "      <th>date</th>\n",
       "      <th>Steps</th>\n",
       "      <th>day_of_week</th>\n",
       "    </tr>\n",
       "  </thead>\n",
       "  <tbody>\n",
       "    <tr>\n",
       "      <th>93</th>\n",
       "      <td>4558609924</td>\n",
       "      <td>overweight</td>\n",
       "      <td>2016-04-18</td>\n",
       "      <td>8940</td>\n",
       "      <td>Mon</td>\n",
       "    </tr>\n",
       "    <tr>\n",
       "      <th>94</th>\n",
       "      <td>4558609924</td>\n",
       "      <td>overweight</td>\n",
       "      <td>2016-04-21</td>\n",
       "      <td>13743</td>\n",
       "      <td>Thu</td>\n",
       "    </tr>\n",
       "    <tr>\n",
       "      <th>95</th>\n",
       "      <td>4558609924</td>\n",
       "      <td>overweight</td>\n",
       "      <td>2016-04-12</td>\n",
       "      <td>5135</td>\n",
       "      <td>Tue</td>\n",
       "    </tr>\n",
       "    <tr>\n",
       "      <th>96</th>\n",
       "      <td>4558609924</td>\n",
       "      <td>overweight</td>\n",
       "      <td>2016-04-19</td>\n",
       "      <td>5401</td>\n",
       "      <td>Tue</td>\n",
       "    </tr>\n",
       "    <tr>\n",
       "      <th>97</th>\n",
       "      <td>4558609924</td>\n",
       "      <td>overweight</td>\n",
       "      <td>2016-04-15</td>\n",
       "      <td>7795</td>\n",
       "      <td>Fri</td>\n",
       "    </tr>\n",
       "    <tr>\n",
       "      <th>...</th>\n",
       "      <td>...</td>\n",
       "      <td>...</td>\n",
       "      <td>...</td>\n",
       "      <td>...</td>\n",
       "      <td>...</td>\n",
       "    </tr>\n",
       "    <tr>\n",
       "      <th>832</th>\n",
       "      <td>5577150313</td>\n",
       "      <td>overweight</td>\n",
       "      <td>2016-04-24</td>\n",
       "      <td>15764</td>\n",
       "      <td>Sun</td>\n",
       "    </tr>\n",
       "    <tr>\n",
       "      <th>833</th>\n",
       "      <td>5577150313</td>\n",
       "      <td>overweight</td>\n",
       "      <td>2016-05-09</td>\n",
       "      <td>3421</td>\n",
       "      <td>Mon</td>\n",
       "    </tr>\n",
       "    <tr>\n",
       "      <th>834</th>\n",
       "      <td>5577150313</td>\n",
       "      <td>overweight</td>\n",
       "      <td>2016-04-28</td>\n",
       "      <td>9841</td>\n",
       "      <td>Thu</td>\n",
       "    </tr>\n",
       "    <tr>\n",
       "      <th>835</th>\n",
       "      <td>5577150313</td>\n",
       "      <td>overweight</td>\n",
       "      <td>2016-04-25</td>\n",
       "      <td>6393</td>\n",
       "      <td>Mon</td>\n",
       "    </tr>\n",
       "    <tr>\n",
       "      <th>836</th>\n",
       "      <td>5577150313</td>\n",
       "      <td>overweight</td>\n",
       "      <td>2016-05-02</td>\n",
       "      <td>7414</td>\n",
       "      <td>Mon</td>\n",
       "    </tr>\n",
       "  </tbody>\n",
       "</table>\n",
       "<p>217 rows × 5 columns</p>\n",
       "</div>"
      ],
      "text/plain": [
       "             Id   body_type        date  Steps day_of_week\n",
       "93   4558609924  overweight  2016-04-18   8940         Mon\n",
       "94   4558609924  overweight  2016-04-21  13743         Thu\n",
       "95   4558609924  overweight  2016-04-12   5135         Tue\n",
       "96   4558609924  overweight  2016-04-19   5401         Tue\n",
       "97   4558609924  overweight  2016-04-15   7795         Fri\n",
       "..          ...         ...         ...    ...         ...\n",
       "832  5577150313  overweight  2016-04-24  15764         Sun\n",
       "833  5577150313  overweight  2016-05-09   3421         Mon\n",
       "834  5577150313  overweight  2016-04-28   9841         Thu\n",
       "835  5577150313  overweight  2016-04-25   6393         Mon\n",
       "836  5577150313  overweight  2016-05-02   7414         Mon\n",
       "\n",
       "[217 rows x 5 columns]"
      ]
     },
     "execution_count": 147,
     "metadata": {},
     "output_type": "execute_result"
    }
   ],
   "source": [
    "bmi_daily_steps = steps_daily.query(\"body_type != ''\")\n",
    "bmi_daily_steps"
   ]
  },
  {
   "cell_type": "code",
   "execution_count": 158,
   "metadata": {},
   "outputs": [
    {
     "data": {
      "image/png": "[encoded data removed]",
      "text/plain": [
       "<Figure size 640x480 with 1 Axes>"
      ]
     },
     "metadata": {},
     "output_type": "display_data"
    }
   ],
   "source": [
    "sns.boxplot(\n",
    "    data=bmi_daily_steps,\n",
    "    x=\"body_type\",\n",
    "    y=\"Steps\"\n",
    ").set(\n",
    "    title=\"Daily Steps by BMI Group\",\n",
    "    xlabel=\"BMI Group\",\n",
    "    ylabel=\"Daily Steps\"\n",
    ")\n",
    "plt.show()"
   ]
  },
  {
   "cell_type": "markdown",
   "metadata": {},
   "source": [
    "\n",
    "**TODO:**\n",
    "\n",
    "* change `body_type` to `bmi_group`\n",
    "* order group from lighest to heaviest\n",
    "* add another filter to sort if weekday or weekend"
   ]
  },
  {
   "cell_type": "code",
   "execution_count": 165,
   "metadata": {},
   "outputs": [
    {
     "data": {
      "image/png": "[encoded data removed]",
      "text/plain": [
       "<Figure size 640x480 with 1 Axes>"
      ]
     },
     "metadata": {},
     "output_type": "display_data"
    }
   ],
   "source": [
    "sns.boxplot(\n",
    "    data=bmi_daily_steps,\n",
    "    x='day_of_week',\n",
    "    y='Steps',\n",
    "    hue='body_type'\n",
    ")"
   ]
  }
 ],
 "metadata": {
  "kernelspec": {
   "display_name": "Python 3",
   "language": "python",
   "name": "python3"
  },
  "language_info": {
   "codemirror_mode": {
    "name": "ipython",
    "version": 3
   },
   "file_extension": ".py",
   "mimetype": "text/x-python",
   "name": "python",
   "nbconvert_exporter": "python",
   "pygments_lexer": "ipython3",
   "version": "3.10.7"
  },
  "orig_nbformat": 4
 },
 "nbformat": 4,
 "nbformat_minor": 2
}
