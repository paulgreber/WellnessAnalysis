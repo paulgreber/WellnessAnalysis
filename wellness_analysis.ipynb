{
 "cells": [
  {
   "cell_type": "markdown",
   "metadata": {},
   "source": [
    "# Bellabeat Wellness Tracker Analysis\n",
    "\n",
    "This project is being done as part of the Google Data Analytics capstone project. It serves as an example of the skills that have been learned during the entire course.\n",
    "\n",
    "During this project data will be collected, prepared, processed and analyzed. Visualizations will be created, conclusions from the data will be determined and insights will be presented to potential stakeholders."
   ]
  },
  {
   "cell_type": "markdown",
   "metadata": {},
   "source": [
    "## Background\n",
    "\n",
    "Bellabeat is a fitness tracker company marketed towards women. These fitness trackers collect a large amount of data, which it is believed can be used to assist in a new marketing strategy.\n",
    "\n",
    "We are being tasked to analyze data from these fitness trackers, and determine the following:\n",
    "\n",
    "* What trends exist in smart device usage?\n",
    "* How can these trends apply to Bellabeat customers?\n",
    "* How can these trends influence Bellabeat's marketing strategy?"
   ]
  },
  {
   "cell_type": "markdown",
   "metadata": {},
   "source": [
    "##"
   ]
  }
 ],
 "metadata": {
  "language_info": {
   "name": "python"
  },
  "orig_nbformat": 4
 },
 "nbformat": 4,
 "nbformat_minor": 2
}
