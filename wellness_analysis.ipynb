{
 "cells": [
  {
   "cell_type": "markdown",
   "metadata": {},
   "source": [
    "# Bellabeat Wellness Tracker Analysis\n",
    "\n",
    "This project is being done as part of the Google Data Analytics capstone project. It serves as an example of the skills that have been learned during the entire course.\n",
    "\n",
    "During this project data will be collected, prepared, processed and analyzed. Visualizations will be created, conclusions from the data will be determined and insights will be presented to potential stakeholders."
   ]
  },
  {
   "cell_type": "markdown",
   "metadata": {},
   "source": [
    "## Background\n",
    "\n",
    "Bellabeat is a fitness tracker company marketed towards women. These fitness trackers collect a large amount of data, which it is believed can be used to assist in a new marketing strategy.\n",
    "\n",
    "We are being tasked to analyze data from these fitness trackers, and determine the following:\n",
    "\n",
    "* What trends exist in smart device usage?\n",
    "* How can these trends apply to Bellabeat customers?\n",
    "* How can these trends influence Bellabeat's marketing strategy?"
   ]
  },
  {
   "cell_type": "markdown",
   "metadata": {},
   "source": [
    "## Data Preparation\n",
    "\n",
    "The data for this exercise come from [FitBit Fitness Tracker Data](https://www.kaggle.com/datasets/arashnic/fitbit), a dataset available on Kaggle which contains data from 30 Fitbit users.\n",
    "\n",
    "The documentation for what exactly each column in the dataset means can be found [here](https://www.fitabase.com/media/1930/fitabasedatadictionary102320.pdf)\n",
    "\n",
    "The data for this dataset was obtained by consenting users and is available freely under the public domain.\n",
    "\n",
    "This data is believed to be credible and contain no bias.\n",
    "\n",
    "The data sources that we will be looking at will be:\n",
    "\n",
    "* **minuteStepsNarrow_merged.csv**: The number of steps moved on a minute by minute basis.\n",
    "\n",
    "* **minuteCaloriesNarrow_merged.csv**: The estimated number of calories expended on a minute by minute basis.\n",
    "\n",
    "* **heartrate_seconds_merged.csv**: The heart rate measured at a given time.\n",
    "\n",
    "* **minuteIntensitiesNarrow_merged.csv**: The intensity level on a minute by minute basis.\n",
    "\n",
    "* **minuteMETsNarrow_merged.csv**: The [Metabolic equivalent](https://www.kaggle.com/datasets/arashnic/fitbit/discussion/254740) on a minute by minute basis.\n",
    "\n",
    "* **minuteSleep_merged.csv**: The sleep state of a person on a minute by minute basis.\n",
    "\n",
    "* **weightLogInfo_merged.csv**: The weight of a person on a given day."
   ]
  },
  {
   "cell_type": "markdown",
   "metadata": {},
   "source": [
    "## Data Processing\n",
    "\n",
    "For this exercise, Python will be used to process the data. It has a wide range of tools for working with and validating datasets (`Pandas`) and creating visualizations (`Seaborn`)."
   ]
  },
  {
   "cell_type": "code",
   "execution_count": 1,
   "metadata": {},
   "outputs": [],
   "source": [
    "import numpy as np\n",
    "import pandas as pd\n",
    "from matplotlib import pyplot as plt\n",
    "import seaborn as sns"
   ]
  },
  {
   "cell_type": "markdown",
   "metadata": {},
   "source": [
    "### Validating  & Processing Data\n",
    "\n",
    "Data validation will be done on each dataset. This process will involve checking to see if any values contain null values or any other outliers (negative values where there shouldn't be, invalid dates, etc)\n",
    "\n",
    "Data processing will involve applying named categories to columns where it is needed and formatting dates and times so the data can be organized more clearly."
   ]
  },
  {
   "cell_type": "markdown",
   "metadata": {},
   "source": [
    "#### Processing Routines\n",
    "\n",
    "Below are the routines that are used to process the dataframes."
   ]
  },
  {
   "cell_type": "code",
   "execution_count": 2,
   "metadata": {},
   "outputs": [],
   "source": [
    "def format_datetime(df: pd.DataFrame, datetime_col=\"datetime\") -> pd.DataFrame:\n",
    "    \"\"\"Converts the elements of the `datetime_col` column of a DataFrame from a string into a datetime object\n",
    "\n",
    "    Args:\n",
    "        df (pd.DataFrame): The DataFrame to work on\n",
    "        datetime_col (str, optional): The name of the column containing datetime information. Defaults to \"datetime\".\n",
    "\n",
    "    Returns:\n",
    "        pd.DataFrame: The modified DataFrame\n",
    "    \"\"\"\n",
    "    datetime_series = pd.to_datetime(df[datetime_col], format=r\"%m/%d/%Y %I:%M:%S %p\")\n",
    "    df = df.drop(datetime_col, axis=1)\n",
    "    df.insert(1, datetime_col, datetime_series)\n",
    "    return df"
   ]
  },
  {
   "cell_type": "code",
   "execution_count": 3,
   "metadata": {},
   "outputs": [],
   "source": [
    "def get_date(df: pd.DataFrame, datetime_col=\"datetime\", new_col='date') -> pd.DataFrame:\n",
    "    \"\"\"Adds a new date column to a DataFrame\n",
    "\n",
    "    Args:\n",
    "        df (pd.DataFrame): The DataFrame to work on\n",
    "        datetime_col (str, optional): The name of the datetime column. Defaults to \"datetime\".\n",
    "        new_col (str, optional): The name of the new date column. Defaults to 'date'.\n",
    "\n",
    "    Returns:\n",
    "        pd.DataFrame: The modified DataFrame\n",
    "    \"\"\"\n",
    "    date_series = df[datetime_col].apply(lambda x: x.date())\n",
    "    if new_col in df:\n",
    "        df = df.drop(new_col, axis=1)\n",
    "    df.insert(\n",
    "        len(df.columns),\n",
    "        new_col,\n",
    "        date_series\n",
    "    )\n",
    "    return df"
   ]
  },
  {
   "cell_type": "code",
   "execution_count": 4,
   "metadata": {},
   "outputs": [],
   "source": [
    "def calc_day_of_week(df:pd.DataFrame, datetime_col=\"datetime\", new_col=\"day_of_week\") -> pd.DataFrame:\n",
    "    \"\"\"Adds a new day of the week column to the DataFrame\n",
    "\n",
    "    Args:\n",
    "        df (pd.DataFrame): The DataFrame to work on\n",
    "        datetime_col (str, optional): The name of the datetime column. Defaults to \"datetime\".\n",
    "        new_col (str, optional): The name of the new day of the week column. Defaults to \"day_of_week\".\n",
    "\n",
    "    Returns:\n",
    "        pd.DataFrame: The modified DataFrame\n",
    "    \"\"\"\n",
    "    day_categories = [\n",
    "        \"Mon\",\n",
    "        \"Tue\",\n",
    "        \"Wed\",\n",
    "        \"Thu\",\n",
    "        \"Fri\",\n",
    "        \"Sat\",\n",
    "        \"Sun\"\n",
    "    ]\n",
    "    if new_col in df:\n",
    "        df = df.drop(new_col, axis=1)\n",
    "    day_of_week_series = df[datetime_col].apply(lambda x: x.strftime(\"%a\"))\n",
    "    day_of_week_series = pd.Categorical(day_of_week_series, categories=day_categories)\n",
    "    df.insert(\n",
    "        len(df.columns),\n",
    "        new_col,\n",
    "        day_of_week_series\n",
    "    )\n",
    "    return df"
   ]
  },
  {
   "cell_type": "code",
   "execution_count": 5,
   "metadata": {},
   "outputs": [],
   "source": [
    "def calc_weekday_or_weekend(df, day_of_week_col=\"day_of_week\", new_col='weekday_or_weekend'):\n",
    "    weekdays = [\n",
    "        \"Mon\",\n",
    "        \"Tue\",\n",
    "        \"Wed\",\n",
    "        \"Thu\",\n",
    "        \"Fri\"\n",
    "    ]\n",
    "    weekends = [\n",
    "        \"Sat\",\n",
    "        \"Sun\"\n",
    "    ]\n",
    "    if new_col in df:\n",
    "        df = df.drop(new_col, axis=1)\n",
    "    def weekday_or_weekend(day):\n",
    "        if day in weekdays:\n",
    "            return \"weekday\"\n",
    "        if day in weekends:\n",
    "            return \"weekend\"\n",
    "        return \"\"\n",
    "    weekday_weekend_series = df[day_of_week_col].apply(lambda x: weekday_or_weekend(x))\n",
    "    weekday_weekend_series = pd.Categorical(weekday_weekend_series, categories=['weekday', 'weekend'])\n",
    "    df.insert(\n",
    "        len(df.columns),\n",
    "        new_col,\n",
    "        weekday_weekend_series\n",
    "    )\n",
    "    return df"
   ]
  },
  {
   "cell_type": "code",
   "execution_count": 6,
   "metadata": {},
   "outputs": [],
   "source": [
    "def calc_time_of_day(df, datetime_col=\"datetime\", new_col='time_of_day'):\n",
    "    time_categories = [\n",
    "        \"Morning\",\n",
    "        \"Afternoon\",\n",
    "        \"Evening\",\n",
    "        \"Night\"\n",
    "    ]\n",
    "    if new_col in df:\n",
    "        df = df.drop(new_col, axis=1)\n",
    "    def time_of_day(hour):\n",
    "        if hour in range(0,6):\n",
    "            return \"Night\"\n",
    "        if hour in range(6, 12):\n",
    "            return \"Morning\"\n",
    "        if hour in range(12,18):\n",
    "            return \"Afternoon\"\n",
    "        if hour in range(18, 24):\n",
    "            return \"Evening\"\n",
    "        raise ValueError(f\"Could not convert hour '{hour}' to time of day\")\n",
    "    time_of_day_series = df[datetime_col].apply(lambda x: time_of_day(x.hour))\n",
    "    time_of_day_series = pd.Categorical(time_of_day_series, categories=time_categories)\n",
    "    df.insert(\n",
    "        len(df.columns),\n",
    "        new_col,\n",
    "        time_of_day_series\n",
    "    )\n",
    "    return df"
   ]
  },
  {
   "cell_type": "markdown",
   "metadata": {},
   "source": [
    "#### Steps"
   ]
  },
  {
   "cell_type": "code",
   "execution_count": 7,
   "metadata": {},
   "outputs": [
    {
     "data": {
      "text/html": [
       "<div>\n",
       "<style scoped>\n",
       "    .dataframe tbody tr th:only-of-type {\n",
       "        vertical-align: middle;\n",
       "    }\n",
       "\n",
       "    .dataframe tbody tr th {\n",
       "        vertical-align: top;\n",
       "    }\n",
       "\n",
       "    .dataframe thead th {\n",
       "        text-align: right;\n",
       "    }\n",
       "</style>\n",
       "<table border=\"1\" class=\"dataframe\">\n",
       "  <thead>\n",
       "    <tr style=\"text-align: right;\">\n",
       "      <th></th>\n",
       "      <th>Id</th>\n",
       "      <th>datetime</th>\n",
       "      <th>Steps</th>\n",
       "    </tr>\n",
       "  </thead>\n",
       "  <tbody>\n",
       "    <tr>\n",
       "      <th>0</th>\n",
       "      <td>1503960366</td>\n",
       "      <td>2016-04-12 00:00:00</td>\n",
       "      <td>0</td>\n",
       "    </tr>\n",
       "    <tr>\n",
       "      <th>1</th>\n",
       "      <td>1503960366</td>\n",
       "      <td>2016-04-12 00:01:00</td>\n",
       "      <td>0</td>\n",
       "    </tr>\n",
       "    <tr>\n",
       "      <th>2</th>\n",
       "      <td>1503960366</td>\n",
       "      <td>2016-04-12 00:02:00</td>\n",
       "      <td>0</td>\n",
       "    </tr>\n",
       "    <tr>\n",
       "      <th>3</th>\n",
       "      <td>1503960366</td>\n",
       "      <td>2016-04-12 00:03:00</td>\n",
       "      <td>0</td>\n",
       "    </tr>\n",
       "    <tr>\n",
       "      <th>4</th>\n",
       "      <td>1503960366</td>\n",
       "      <td>2016-04-12 00:04:00</td>\n",
       "      <td>0</td>\n",
       "    </tr>\n",
       "  </tbody>\n",
       "</table>\n",
       "</div>"
      ],
      "text/plain": [
       "           Id            datetime  Steps\n",
       "0  1503960366 2016-04-12 00:00:00      0\n",
       "1  1503960366 2016-04-12 00:01:00      0\n",
       "2  1503960366 2016-04-12 00:02:00      0\n",
       "3  1503960366 2016-04-12 00:03:00      0\n",
       "4  1503960366 2016-04-12 00:04:00      0"
      ]
     },
     "execution_count": 7,
     "metadata": {},
     "output_type": "execute_result"
    }
   ],
   "source": [
    "steps = pd.read_csv(r\"./data/minuteStepsNarrow_merged.csv\")\n",
    "steps.rename(columns={\"ActivityMinute\":\"datetime\"}, inplace=True)\n",
    "steps = format_datetime(steps)\n",
    "steps.head()"
   ]
  },
  {
   "cell_type": "code",
   "execution_count": 8,
   "metadata": {},
   "outputs": [
    {
     "data": {
      "text/plain": [
       "Id          0\n",
       "datetime    0\n",
       "Steps       0\n",
       "dtype: int64"
      ]
     },
     "execution_count": 8,
     "metadata": {},
     "output_type": "execute_result"
    }
   ],
   "source": [
    "steps.isna().sum()"
   ]
  },
  {
   "cell_type": "code",
   "execution_count": 9,
   "metadata": {},
   "outputs": [
    {
     "data": {
      "text/plain": [
       "Timestamp('2016-04-12 00:00:00')"
      ]
     },
     "execution_count": 9,
     "metadata": {},
     "output_type": "execute_result"
    }
   ],
   "source": [
    "steps['datetime'].min()"
   ]
  },
  {
   "cell_type": "code",
   "execution_count": 10,
   "metadata": {},
   "outputs": [
    {
     "data": {
      "text/plain": [
       "Timestamp('2016-05-12 15:59:00')"
      ]
     },
     "execution_count": 10,
     "metadata": {},
     "output_type": "execute_result"
    }
   ],
   "source": [
    "steps['datetime'].max()"
   ]
  },
  {
   "cell_type": "code",
   "execution_count": 11,
   "metadata": {},
   "outputs": [
    {
     "data": {
      "text/plain": [
       "0"
      ]
     },
     "execution_count": 11,
     "metadata": {},
     "output_type": "execute_result"
    }
   ],
   "source": [
    "steps['Steps'].min()"
   ]
  },
  {
   "cell_type": "code",
   "execution_count": 12,
   "metadata": {},
   "outputs": [
    {
     "data": {
      "text/plain": [
       "220"
      ]
     },
     "execution_count": 12,
     "metadata": {},
     "output_type": "execute_result"
    }
   ],
   "source": [
    "steps['Steps'].max()"
   ]
  },
  {
   "cell_type": "code",
   "execution_count": 13,
   "metadata": {},
   "outputs": [
    {
     "name": "stdout",
     "output_type": "stream",
     "text": [
      "The number of users in this dataset is: 33\n"
     ]
    }
   ],
   "source": [
    "print(f\"The number of users in this dataset is: {len(set(steps['Id']))}\")"
   ]
  },
  {
   "cell_type": "markdown",
   "metadata": {},
   "source": [
    "Step data appears valid:\n",
    "\n",
    "* No rows contain null values\n",
    "* `ActivityMinute` contains valid values\n",
    "* `Steps` contains no negative values "
   ]
  },
  {
   "cell_type": "markdown",
   "metadata": {},
   "source": [
    "#### Calories"
   ]
  },
  {
   "cell_type": "code",
   "execution_count": 14,
   "metadata": {},
   "outputs": [
    {
     "data": {
      "text/html": [
       "<div>\n",
       "<style scoped>\n",
       "    .dataframe tbody tr th:only-of-type {\n",
       "        vertical-align: middle;\n",
       "    }\n",
       "\n",
       "    .dataframe tbody tr th {\n",
       "        vertical-align: top;\n",
       "    }\n",
       "\n",
       "    .dataframe thead th {\n",
       "        text-align: right;\n",
       "    }\n",
       "</style>\n",
       "<table border=\"1\" class=\"dataframe\">\n",
       "  <thead>\n",
       "    <tr style=\"text-align: right;\">\n",
       "      <th></th>\n",
       "      <th>Id</th>\n",
       "      <th>datetime</th>\n",
       "      <th>Calories</th>\n",
       "    </tr>\n",
       "  </thead>\n",
       "  <tbody>\n",
       "    <tr>\n",
       "      <th>0</th>\n",
       "      <td>1503960366</td>\n",
       "      <td>2016-04-12 00:00:00</td>\n",
       "      <td>0.7865</td>\n",
       "    </tr>\n",
       "    <tr>\n",
       "      <th>1</th>\n",
       "      <td>1503960366</td>\n",
       "      <td>2016-04-12 00:01:00</td>\n",
       "      <td>0.7865</td>\n",
       "    </tr>\n",
       "    <tr>\n",
       "      <th>2</th>\n",
       "      <td>1503960366</td>\n",
       "      <td>2016-04-12 00:02:00</td>\n",
       "      <td>0.7865</td>\n",
       "    </tr>\n",
       "    <tr>\n",
       "      <th>3</th>\n",
       "      <td>1503960366</td>\n",
       "      <td>2016-04-12 00:03:00</td>\n",
       "      <td>0.7865</td>\n",
       "    </tr>\n",
       "    <tr>\n",
       "      <th>4</th>\n",
       "      <td>1503960366</td>\n",
       "      <td>2016-04-12 00:04:00</td>\n",
       "      <td>0.7865</td>\n",
       "    </tr>\n",
       "  </tbody>\n",
       "</table>\n",
       "</div>"
      ],
      "text/plain": [
       "           Id            datetime  Calories\n",
       "0  1503960366 2016-04-12 00:00:00    0.7865\n",
       "1  1503960366 2016-04-12 00:01:00    0.7865\n",
       "2  1503960366 2016-04-12 00:02:00    0.7865\n",
       "3  1503960366 2016-04-12 00:03:00    0.7865\n",
       "4  1503960366 2016-04-12 00:04:00    0.7865"
      ]
     },
     "execution_count": 14,
     "metadata": {},
     "output_type": "execute_result"
    }
   ],
   "source": [
    "calories = pd.read_csv(r\"./data/minuteCaloriesNarrow_merged.csv\")\n",
    "calories.rename(columns={\"ActivityMinute\":\"datetime\"}, inplace=True)\n",
    "calories = format_datetime(calories)\n",
    "calories.head()"
   ]
  },
  {
   "cell_type": "code",
   "execution_count": 15,
   "metadata": {},
   "outputs": [
    {
     "data": {
      "text/plain": [
       "Id          0\n",
       "datetime    0\n",
       "Calories    0\n",
       "dtype: int64"
      ]
     },
     "execution_count": 15,
     "metadata": {},
     "output_type": "execute_result"
    }
   ],
   "source": [
    "calories.isna().sum()"
   ]
  },
  {
   "cell_type": "code",
   "execution_count": 16,
   "metadata": {},
   "outputs": [
    {
     "data": {
      "text/plain": [
       "Timestamp('2016-04-12 00:00:00')"
      ]
     },
     "execution_count": 16,
     "metadata": {},
     "output_type": "execute_result"
    }
   ],
   "source": [
    "calories['datetime'].min()"
   ]
  },
  {
   "cell_type": "code",
   "execution_count": 17,
   "metadata": {},
   "outputs": [
    {
     "data": {
      "text/plain": [
       "Timestamp('2016-05-12 15:59:00')"
      ]
     },
     "execution_count": 17,
     "metadata": {},
     "output_type": "execute_result"
    }
   ],
   "source": [
    "calories['datetime'].max()"
   ]
  },
  {
   "cell_type": "code",
   "execution_count": 18,
   "metadata": {},
   "outputs": [
    {
     "data": {
      "text/plain": [
       "0.0"
      ]
     },
     "execution_count": 18,
     "metadata": {},
     "output_type": "execute_result"
    }
   ],
   "source": [
    "calories['Calories'].min()"
   ]
  },
  {
   "cell_type": "code",
   "execution_count": 19,
   "metadata": {},
   "outputs": [
    {
     "data": {
      "text/plain": [
       "19.7499465942383"
      ]
     },
     "execution_count": 19,
     "metadata": {},
     "output_type": "execute_result"
    }
   ],
   "source": [
    "calories['Calories'].max()"
   ]
  },
  {
   "cell_type": "code",
   "execution_count": 20,
   "metadata": {},
   "outputs": [
    {
     "name": "stdout",
     "output_type": "stream",
     "text": [
      "The number of users in this dataset is: 33\n"
     ]
    }
   ],
   "source": [
    "print(f\"The number of users in this dataset is: {len(set(calories['Id']))}\")"
   ]
  },
  {
   "cell_type": "markdown",
   "metadata": {},
   "source": [
    "Calorie data appears valid:\n",
    "\n",
    "* No rows contain null values\n",
    "* `ActivityMinute` contains reasonable values\n",
    "* `Calories` contains no negative values"
   ]
  },
  {
   "cell_type": "markdown",
   "metadata": {},
   "source": [
    "#### Heart Rate"
   ]
  },
  {
   "cell_type": "code",
   "execution_count": 21,
   "metadata": {},
   "outputs": [
    {
     "data": {
      "text/html": [
       "<div>\n",
       "<style scoped>\n",
       "    .dataframe tbody tr th:only-of-type {\n",
       "        vertical-align: middle;\n",
       "    }\n",
       "\n",
       "    .dataframe tbody tr th {\n",
       "        vertical-align: top;\n",
       "    }\n",
       "\n",
       "    .dataframe thead th {\n",
       "        text-align: right;\n",
       "    }\n",
       "</style>\n",
       "<table border=\"1\" class=\"dataframe\">\n",
       "  <thead>\n",
       "    <tr style=\"text-align: right;\">\n",
       "      <th></th>\n",
       "      <th>Id</th>\n",
       "      <th>datetime</th>\n",
       "      <th>Value</th>\n",
       "    </tr>\n",
       "  </thead>\n",
       "  <tbody>\n",
       "    <tr>\n",
       "      <th>0</th>\n",
       "      <td>2022484408</td>\n",
       "      <td>2016-04-12 07:21:00</td>\n",
       "      <td>97</td>\n",
       "    </tr>\n",
       "    <tr>\n",
       "      <th>1</th>\n",
       "      <td>2022484408</td>\n",
       "      <td>2016-04-12 07:21:05</td>\n",
       "      <td>102</td>\n",
       "    </tr>\n",
       "    <tr>\n",
       "      <th>2</th>\n",
       "      <td>2022484408</td>\n",
       "      <td>2016-04-12 07:21:10</td>\n",
       "      <td>105</td>\n",
       "    </tr>\n",
       "    <tr>\n",
       "      <th>3</th>\n",
       "      <td>2022484408</td>\n",
       "      <td>2016-04-12 07:21:20</td>\n",
       "      <td>103</td>\n",
       "    </tr>\n",
       "    <tr>\n",
       "      <th>4</th>\n",
       "      <td>2022484408</td>\n",
       "      <td>2016-04-12 07:21:25</td>\n",
       "      <td>101</td>\n",
       "    </tr>\n",
       "  </tbody>\n",
       "</table>\n",
       "</div>"
      ],
      "text/plain": [
       "           Id            datetime  Value\n",
       "0  2022484408 2016-04-12 07:21:00     97\n",
       "1  2022484408 2016-04-12 07:21:05    102\n",
       "2  2022484408 2016-04-12 07:21:10    105\n",
       "3  2022484408 2016-04-12 07:21:20    103\n",
       "4  2022484408 2016-04-12 07:21:25    101"
      ]
     },
     "execution_count": 21,
     "metadata": {},
     "output_type": "execute_result"
    }
   ],
   "source": [
    "heart_rate = pd.read_csv(r\"./data/heartrate_seconds_merged.csv\")\n",
    "heart_rate.rename(columns={\"Time\":\"datetime\"}, inplace=True)\n",
    "heart_rate = format_datetime(heart_rate, datetime_col=\"datetime\")\n",
    "heart_rate.head()"
   ]
  },
  {
   "cell_type": "code",
   "execution_count": 22,
   "metadata": {},
   "outputs": [
    {
     "data": {
      "text/plain": [
       "Id          0\n",
       "datetime    0\n",
       "Value       0\n",
       "dtype: int64"
      ]
     },
     "execution_count": 22,
     "metadata": {},
     "output_type": "execute_result"
    }
   ],
   "source": [
    "heart_rate.isna().sum()"
   ]
  },
  {
   "cell_type": "code",
   "execution_count": 23,
   "metadata": {},
   "outputs": [
    {
     "data": {
      "text/plain": [
       "Timestamp('2016-04-12 00:00:00')"
      ]
     },
     "execution_count": 23,
     "metadata": {},
     "output_type": "execute_result"
    }
   ],
   "source": [
    "heart_rate['datetime'].min()"
   ]
  },
  {
   "cell_type": "code",
   "execution_count": 24,
   "metadata": {},
   "outputs": [
    {
     "data": {
      "text/plain": [
       "Timestamp('2016-05-12 16:20:00')"
      ]
     },
     "execution_count": 24,
     "metadata": {},
     "output_type": "execute_result"
    }
   ],
   "source": [
    "heart_rate['datetime'].max()"
   ]
  },
  {
   "cell_type": "code",
   "execution_count": 25,
   "metadata": {},
   "outputs": [
    {
     "data": {
      "text/plain": [
       "36"
      ]
     },
     "execution_count": 25,
     "metadata": {},
     "output_type": "execute_result"
    }
   ],
   "source": [
    "heart_rate['Value'].min()"
   ]
  },
  {
   "cell_type": "code",
   "execution_count": 26,
   "metadata": {},
   "outputs": [
    {
     "data": {
      "text/plain": [
       "203"
      ]
     },
     "execution_count": 26,
     "metadata": {},
     "output_type": "execute_result"
    }
   ],
   "source": [
    "heart_rate['Value'].max()"
   ]
  },
  {
   "cell_type": "code",
   "execution_count": 27,
   "metadata": {},
   "outputs": [
    {
     "name": "stdout",
     "output_type": "stream",
     "text": [
      "The number of users in this dataset is: 14\n"
     ]
    }
   ],
   "source": [
    "print(f\"The number of users in this dataset is: {len(set(heart_rate['Id']))}\")"
   ]
  },
  {
   "cell_type": "markdown",
   "metadata": {},
   "source": [
    "Heart Rate data appears valid:\n",
    "\n",
    "* No rows contain null values.\n",
    "* `Time` data appears valid.\n",
    "* `Value` contains no zero or lower numbers.\n",
    "\n",
    "*The max and min values for* `Value` *are both high and low for exercise and sleep, but not outside of reasonability*"
   ]
  },
  {
   "cell_type": "markdown",
   "metadata": {},
   "source": [
    "#### Intensity"
   ]
  },
  {
   "cell_type": "code",
   "execution_count": 28,
   "metadata": {},
   "outputs": [
    {
     "data": {
      "text/html": [
       "<div>\n",
       "<style scoped>\n",
       "    .dataframe tbody tr th:only-of-type {\n",
       "        vertical-align: middle;\n",
       "    }\n",
       "\n",
       "    .dataframe tbody tr th {\n",
       "        vertical-align: top;\n",
       "    }\n",
       "\n",
       "    .dataframe thead th {\n",
       "        text-align: right;\n",
       "    }\n",
       "</style>\n",
       "<table border=\"1\" class=\"dataframe\">\n",
       "  <thead>\n",
       "    <tr style=\"text-align: right;\">\n",
       "      <th></th>\n",
       "      <th>Id</th>\n",
       "      <th>datetime</th>\n",
       "      <th>Intensity</th>\n",
       "      <th>intensity_name</th>\n",
       "    </tr>\n",
       "  </thead>\n",
       "  <tbody>\n",
       "    <tr>\n",
       "      <th>0</th>\n",
       "      <td>1503960366</td>\n",
       "      <td>2016-04-12 00:00:00</td>\n",
       "      <td>0</td>\n",
       "      <td>Sedentary</td>\n",
       "    </tr>\n",
       "    <tr>\n",
       "      <th>1</th>\n",
       "      <td>1503960366</td>\n",
       "      <td>2016-04-12 00:01:00</td>\n",
       "      <td>0</td>\n",
       "      <td>Sedentary</td>\n",
       "    </tr>\n",
       "    <tr>\n",
       "      <th>2</th>\n",
       "      <td>1503960366</td>\n",
       "      <td>2016-04-12 00:02:00</td>\n",
       "      <td>0</td>\n",
       "      <td>Sedentary</td>\n",
       "    </tr>\n",
       "    <tr>\n",
       "      <th>3</th>\n",
       "      <td>1503960366</td>\n",
       "      <td>2016-04-12 00:03:00</td>\n",
       "      <td>0</td>\n",
       "      <td>Sedentary</td>\n",
       "    </tr>\n",
       "    <tr>\n",
       "      <th>4</th>\n",
       "      <td>1503960366</td>\n",
       "      <td>2016-04-12 00:04:00</td>\n",
       "      <td>0</td>\n",
       "      <td>Sedentary</td>\n",
       "    </tr>\n",
       "  </tbody>\n",
       "</table>\n",
       "</div>"
      ],
      "text/plain": [
       "           Id            datetime  Intensity intensity_name\n",
       "0  1503960366 2016-04-12 00:00:00          0      Sedentary\n",
       "1  1503960366 2016-04-12 00:01:00          0      Sedentary\n",
       "2  1503960366 2016-04-12 00:02:00          0      Sedentary\n",
       "3  1503960366 2016-04-12 00:03:00          0      Sedentary\n",
       "4  1503960366 2016-04-12 00:04:00          0      Sedentary"
      ]
     },
     "execution_count": 28,
     "metadata": {},
     "output_type": "execute_result"
    }
   ],
   "source": [
    "intensity = pd.read_csv(r\"./data/minuteIntensitiesNarrow_merged.csv\")\n",
    "intensity_map = {\n",
    "    0: 'Sedentary',\n",
    "    1: 'Light',\n",
    "    2: 'Moderate',\n",
    "    3: 'Very Active' \n",
    "}\n",
    "\n",
    "intensity['intensity_name'] = intensity['Intensity'].map(intensity_map)\n",
    "intensity['intensity_name'] = intensity['intensity_name'].astype(\"category\")\n",
    "intensity.rename(columns={\"ActivityMinute\":\"datetime\"}, inplace=True)\n",
    "intensity = format_datetime(intensity)\n",
    "intensity.head()"
   ]
  },
  {
   "cell_type": "code",
   "execution_count": 29,
   "metadata": {},
   "outputs": [
    {
     "data": {
      "text/plain": [
       "Id                0\n",
       "datetime          0\n",
       "Intensity         0\n",
       "intensity_name    0\n",
       "dtype: int64"
      ]
     },
     "execution_count": 29,
     "metadata": {},
     "output_type": "execute_result"
    }
   ],
   "source": [
    "intensity.isna().sum()"
   ]
  },
  {
   "cell_type": "code",
   "execution_count": 30,
   "metadata": {},
   "outputs": [
    {
     "data": {
      "text/plain": [
       "Timestamp('2016-04-12 00:00:00')"
      ]
     },
     "execution_count": 30,
     "metadata": {},
     "output_type": "execute_result"
    }
   ],
   "source": [
    "intensity['datetime'].min()"
   ]
  },
  {
   "cell_type": "code",
   "execution_count": 31,
   "metadata": {},
   "outputs": [
    {
     "data": {
      "text/plain": [
       "Timestamp('2016-05-12 15:59:00')"
      ]
     },
     "execution_count": 31,
     "metadata": {},
     "output_type": "execute_result"
    }
   ],
   "source": [
    "intensity['datetime'].max()"
   ]
  },
  {
   "cell_type": "code",
   "execution_count": 32,
   "metadata": {},
   "outputs": [
    {
     "data": {
      "text/plain": [
       "0"
      ]
     },
     "execution_count": 32,
     "metadata": {},
     "output_type": "execute_result"
    }
   ],
   "source": [
    "intensity['Intensity'].min()"
   ]
  },
  {
   "cell_type": "code",
   "execution_count": 33,
   "metadata": {},
   "outputs": [
    {
     "data": {
      "text/plain": [
       "3"
      ]
     },
     "execution_count": 33,
     "metadata": {},
     "output_type": "execute_result"
    }
   ],
   "source": [
    "intensity['Intensity'].max()"
   ]
  },
  {
   "cell_type": "markdown",
   "metadata": {},
   "source": [
    "*Note that according to [the documentation](https://www.fitabase.com/media/1930/fitabasedatadictionary102320.pdf) the values for intensity range from 0 - 3*"
   ]
  },
  {
   "cell_type": "code",
   "execution_count": 34,
   "metadata": {},
   "outputs": [
    {
     "name": "stdout",
     "output_type": "stream",
     "text": [
      "The number of users in this dataset is: 33\n"
     ]
    }
   ],
   "source": [
    "print(f\"The number of users in this dataset is: {len(set(intensity['Id']))}\")"
   ]
  },
  {
   "cell_type": "markdown",
   "metadata": {},
   "source": [
    "The Intensity data appears valid:\n",
    "\n",
    "* No rows contain null values.\n",
    "* `ActivityMinute` values appear valid.\n",
    "* `Intensity` values exist within the valid range."
   ]
  },
  {
   "cell_type": "markdown",
   "metadata": {},
   "source": [
    "#### METs"
   ]
  },
  {
   "cell_type": "code",
   "execution_count": 35,
   "metadata": {},
   "outputs": [
    {
     "data": {
      "text/html": [
       "<div>\n",
       "<style scoped>\n",
       "    .dataframe tbody tr th:only-of-type {\n",
       "        vertical-align: middle;\n",
       "    }\n",
       "\n",
       "    .dataframe tbody tr th {\n",
       "        vertical-align: top;\n",
       "    }\n",
       "\n",
       "    .dataframe thead th {\n",
       "        text-align: right;\n",
       "    }\n",
       "</style>\n",
       "<table border=\"1\" class=\"dataframe\">\n",
       "  <thead>\n",
       "    <tr style=\"text-align: right;\">\n",
       "      <th></th>\n",
       "      <th>Id</th>\n",
       "      <th>datetime</th>\n",
       "      <th>METs</th>\n",
       "    </tr>\n",
       "  </thead>\n",
       "  <tbody>\n",
       "    <tr>\n",
       "      <th>0</th>\n",
       "      <td>1503960366</td>\n",
       "      <td>2016-04-12 00:00:00</td>\n",
       "      <td>10</td>\n",
       "    </tr>\n",
       "    <tr>\n",
       "      <th>1</th>\n",
       "      <td>1503960366</td>\n",
       "      <td>2016-04-12 00:01:00</td>\n",
       "      <td>10</td>\n",
       "    </tr>\n",
       "    <tr>\n",
       "      <th>2</th>\n",
       "      <td>1503960366</td>\n",
       "      <td>2016-04-12 00:02:00</td>\n",
       "      <td>10</td>\n",
       "    </tr>\n",
       "    <tr>\n",
       "      <th>3</th>\n",
       "      <td>1503960366</td>\n",
       "      <td>2016-04-12 00:03:00</td>\n",
       "      <td>10</td>\n",
       "    </tr>\n",
       "    <tr>\n",
       "      <th>4</th>\n",
       "      <td>1503960366</td>\n",
       "      <td>2016-04-12 00:04:00</td>\n",
       "      <td>10</td>\n",
       "    </tr>\n",
       "  </tbody>\n",
       "</table>\n",
       "</div>"
      ],
      "text/plain": [
       "           Id            datetime  METs\n",
       "0  1503960366 2016-04-12 00:00:00    10\n",
       "1  1503960366 2016-04-12 00:01:00    10\n",
       "2  1503960366 2016-04-12 00:02:00    10\n",
       "3  1503960366 2016-04-12 00:03:00    10\n",
       "4  1503960366 2016-04-12 00:04:00    10"
      ]
     },
     "execution_count": 35,
     "metadata": {},
     "output_type": "execute_result"
    }
   ],
   "source": [
    "mets = pd.read_csv(r\"./data/minuteMETsNarrow_merged.csv\")\n",
    "mets.rename(columns={\"ActivityMinute\":\"datetime\"}, inplace=True)\n",
    "mets = format_datetime(mets)\n",
    "mets.head()"
   ]
  },
  {
   "cell_type": "markdown",
   "metadata": {},
   "source": [
    "*Note that according to [this source](https://www.kaggle.com/datasets/arashnic/fitbit/discussion/254740) true METs values need to be divided by 10*"
   ]
  },
  {
   "cell_type": "code",
   "execution_count": 36,
   "metadata": {},
   "outputs": [
    {
     "data": {
      "text/html": [
       "<div>\n",
       "<style scoped>\n",
       "    .dataframe tbody tr th:only-of-type {\n",
       "        vertical-align: middle;\n",
       "    }\n",
       "\n",
       "    .dataframe tbody tr th {\n",
       "        vertical-align: top;\n",
       "    }\n",
       "\n",
       "    .dataframe thead th {\n",
       "        text-align: right;\n",
       "    }\n",
       "</style>\n",
       "<table border=\"1\" class=\"dataframe\">\n",
       "  <thead>\n",
       "    <tr style=\"text-align: right;\">\n",
       "      <th></th>\n",
       "      <th>Id</th>\n",
       "      <th>datetime</th>\n",
       "      <th>METs</th>\n",
       "      <th>true_mets</th>\n",
       "    </tr>\n",
       "  </thead>\n",
       "  <tbody>\n",
       "    <tr>\n",
       "      <th>0</th>\n",
       "      <td>1503960366</td>\n",
       "      <td>2016-04-12 00:00:00</td>\n",
       "      <td>10</td>\n",
       "      <td>1.0</td>\n",
       "    </tr>\n",
       "    <tr>\n",
       "      <th>1</th>\n",
       "      <td>1503960366</td>\n",
       "      <td>2016-04-12 00:01:00</td>\n",
       "      <td>10</td>\n",
       "      <td>1.0</td>\n",
       "    </tr>\n",
       "    <tr>\n",
       "      <th>2</th>\n",
       "      <td>1503960366</td>\n",
       "      <td>2016-04-12 00:02:00</td>\n",
       "      <td>10</td>\n",
       "      <td>1.0</td>\n",
       "    </tr>\n",
       "    <tr>\n",
       "      <th>3</th>\n",
       "      <td>1503960366</td>\n",
       "      <td>2016-04-12 00:03:00</td>\n",
       "      <td>10</td>\n",
       "      <td>1.0</td>\n",
       "    </tr>\n",
       "    <tr>\n",
       "      <th>4</th>\n",
       "      <td>1503960366</td>\n",
       "      <td>2016-04-12 00:04:00</td>\n",
       "      <td>10</td>\n",
       "      <td>1.0</td>\n",
       "    </tr>\n",
       "  </tbody>\n",
       "</table>\n",
       "</div>"
      ],
      "text/plain": [
       "           Id            datetime  METs  true_mets\n",
       "0  1503960366 2016-04-12 00:00:00    10        1.0\n",
       "1  1503960366 2016-04-12 00:01:00    10        1.0\n",
       "2  1503960366 2016-04-12 00:02:00    10        1.0\n",
       "3  1503960366 2016-04-12 00:03:00    10        1.0\n",
       "4  1503960366 2016-04-12 00:04:00    10        1.0"
      ]
     },
     "execution_count": 36,
     "metadata": {},
     "output_type": "execute_result"
    }
   ],
   "source": [
    "mets['true_mets'] = (mets['METs']/10)\n",
    "mets.head()"
   ]
  },
  {
   "cell_type": "code",
   "execution_count": 37,
   "metadata": {},
   "outputs": [
    {
     "data": {
      "text/plain": [
       "Id           0\n",
       "datetime     0\n",
       "METs         0\n",
       "true_mets    0\n",
       "dtype: int64"
      ]
     },
     "execution_count": 37,
     "metadata": {},
     "output_type": "execute_result"
    }
   ],
   "source": [
    "mets.isna().sum()"
   ]
  },
  {
   "cell_type": "code",
   "execution_count": 38,
   "metadata": {},
   "outputs": [
    {
     "data": {
      "text/plain": [
       "Timestamp('2016-04-12 00:00:00')"
      ]
     },
     "execution_count": 38,
     "metadata": {},
     "output_type": "execute_result"
    }
   ],
   "source": [
    "mets['datetime'].min()"
   ]
  },
  {
   "cell_type": "code",
   "execution_count": 39,
   "metadata": {},
   "outputs": [
    {
     "data": {
      "text/plain": [
       "Timestamp('2016-05-12 15:59:00')"
      ]
     },
     "execution_count": 39,
     "metadata": {},
     "output_type": "execute_result"
    }
   ],
   "source": [
    "mets['datetime'].max()"
   ]
  },
  {
   "cell_type": "code",
   "execution_count": 40,
   "metadata": {},
   "outputs": [
    {
     "data": {
      "text/plain": [
       "0.0"
      ]
     },
     "execution_count": 40,
     "metadata": {},
     "output_type": "execute_result"
    }
   ],
   "source": [
    "mets['true_mets'].min()"
   ]
  },
  {
   "cell_type": "code",
   "execution_count": 41,
   "metadata": {},
   "outputs": [
    {
     "name": "stdout",
     "output_type": "stream",
     "text": [
      "Rows with invalid true_mets values: = 8\n"
     ]
    }
   ],
   "source": [
    "print(f\"Rows with invalid true_mets values: = {mets.query('true_mets < 1').shape[0]}\")"
   ]
  },
  {
   "cell_type": "code",
   "execution_count": 42,
   "metadata": {},
   "outputs": [],
   "source": [
    "mets = mets.query(\"true_mets >= 1\")"
   ]
  },
  {
   "cell_type": "code",
   "execution_count": 43,
   "metadata": {},
   "outputs": [
    {
     "data": {
      "text/plain": [
       "1.0"
      ]
     },
     "execution_count": 43,
     "metadata": {},
     "output_type": "execute_result"
    }
   ],
   "source": [
    "mets['true_mets'].min()"
   ]
  },
  {
   "cell_type": "code",
   "execution_count": 44,
   "metadata": {},
   "outputs": [
    {
     "name": "stdout",
     "output_type": "stream",
     "text": [
      "Rows with invalid true_mets values: = 0\n"
     ]
    }
   ],
   "source": [
    "print(f\"Rows with invalid true_mets values: = {mets.query('true_mets < 1').shape[0]}\")"
   ]
  },
  {
   "cell_type": "code",
   "execution_count": 45,
   "metadata": {},
   "outputs": [
    {
     "data": {
      "text/plain": [
       "15.7"
      ]
     },
     "execution_count": 45,
     "metadata": {},
     "output_type": "execute_result"
    }
   ],
   "source": [
    "mets['true_mets'].max()"
   ]
  },
  {
   "cell_type": "code",
   "execution_count": 46,
   "metadata": {},
   "outputs": [
    {
     "name": "stdout",
     "output_type": "stream",
     "text": [
      "The number of users in this dataset is: 33\n"
     ]
    }
   ],
   "source": [
    "print(f\"The number of users in this dataset is: {len(set(mets['Id']))}\")"
   ]
  },
  {
   "cell_type": "markdown",
   "metadata": {},
   "source": [
    "Errors were found in the METs data. 8 rows were discovered with `true_mets` values less than `1`. Since the METs at rest should be `1` these entries were considered erroneous and were removed."
   ]
  },
  {
   "cell_type": "markdown",
   "metadata": {},
   "source": [
    "After these values were removed, the rest of the data appeared fine:\n",
    "\n",
    "* No rows contained null values.\n",
    "* `ActivityMinute` values were all vaild.\n",
    "* After cleaning, `true_mets` values were all acceptable.\n",
    "\n",
    "*A METs value of 15 is high, however jump rope as an activity has a METs value of 12, so it is not outside the realm of possibility*."
   ]
  },
  {
   "cell_type": "markdown",
   "metadata": {},
   "source": [
    "#### Sleep"
   ]
  },
  {
   "cell_type": "code",
   "execution_count": 47,
   "metadata": {},
   "outputs": [
    {
     "data": {
      "text/html": [
       "<div>\n",
       "<style scoped>\n",
       "    .dataframe tbody tr th:only-of-type {\n",
       "        vertical-align: middle;\n",
       "    }\n",
       "\n",
       "    .dataframe tbody tr th {\n",
       "        vertical-align: top;\n",
       "    }\n",
       "\n",
       "    .dataframe thead th {\n",
       "        text-align: right;\n",
       "    }\n",
       "</style>\n",
       "<table border=\"1\" class=\"dataframe\">\n",
       "  <thead>\n",
       "    <tr style=\"text-align: right;\">\n",
       "      <th></th>\n",
       "      <th>Id</th>\n",
       "      <th>datetime</th>\n",
       "      <th>value</th>\n",
       "      <th>logId</th>\n",
       "      <th>type</th>\n",
       "    </tr>\n",
       "  </thead>\n",
       "  <tbody>\n",
       "    <tr>\n",
       "      <th>0</th>\n",
       "      <td>1503960366</td>\n",
       "      <td>2016-04-12 02:47:30</td>\n",
       "      <td>3</td>\n",
       "      <td>11380564589</td>\n",
       "      <td>awake</td>\n",
       "    </tr>\n",
       "    <tr>\n",
       "      <th>1</th>\n",
       "      <td>1503960366</td>\n",
       "      <td>2016-04-12 02:48:30</td>\n",
       "      <td>2</td>\n",
       "      <td>11380564589</td>\n",
       "      <td>restless</td>\n",
       "    </tr>\n",
       "    <tr>\n",
       "      <th>2</th>\n",
       "      <td>1503960366</td>\n",
       "      <td>2016-04-12 02:49:30</td>\n",
       "      <td>1</td>\n",
       "      <td>11380564589</td>\n",
       "      <td>asleep</td>\n",
       "    </tr>\n",
       "    <tr>\n",
       "      <th>3</th>\n",
       "      <td>1503960366</td>\n",
       "      <td>2016-04-12 02:50:30</td>\n",
       "      <td>1</td>\n",
       "      <td>11380564589</td>\n",
       "      <td>asleep</td>\n",
       "    </tr>\n",
       "    <tr>\n",
       "      <th>4</th>\n",
       "      <td>1503960366</td>\n",
       "      <td>2016-04-12 02:51:30</td>\n",
       "      <td>1</td>\n",
       "      <td>11380564589</td>\n",
       "      <td>asleep</td>\n",
       "    </tr>\n",
       "  </tbody>\n",
       "</table>\n",
       "</div>"
      ],
      "text/plain": [
       "           Id            datetime  value        logId      type\n",
       "0  1503960366 2016-04-12 02:47:30      3  11380564589     awake\n",
       "1  1503960366 2016-04-12 02:48:30      2  11380564589  restless\n",
       "2  1503960366 2016-04-12 02:49:30      1  11380564589    asleep\n",
       "3  1503960366 2016-04-12 02:50:30      1  11380564589    asleep\n",
       "4  1503960366 2016-04-12 02:51:30      1  11380564589    asleep"
      ]
     },
     "execution_count": 47,
     "metadata": {},
     "output_type": "execute_result"
    }
   ],
   "source": [
    "sleep = pd.read_csv(r\"./data/minuteSleep_merged.csv\")\n",
    "sleep_map = {\n",
    "    1: \"asleep\",\n",
    "    2: \"restless\",\n",
    "    3: \"awake\"\n",
    "}\n",
    "sleep['type'] = sleep[\"value\"].map(sleep_map)\n",
    "sleep['type'] = sleep['type'].astype(\"category\")\n",
    "sleep = sleep.rename(columns={\"date\":\"datetime\"})\n",
    "sleep = format_datetime(sleep )\n",
    "sleep.head()"
   ]
  },
  {
   "cell_type": "code",
   "execution_count": 48,
   "metadata": {},
   "outputs": [
    {
     "data": {
      "text/plain": [
       "Id          0\n",
       "datetime    0\n",
       "value       0\n",
       "logId       0\n",
       "type        0\n",
       "dtype: int64"
      ]
     },
     "execution_count": 48,
     "metadata": {},
     "output_type": "execute_result"
    }
   ],
   "source": [
    "sleep.isna().sum()"
   ]
  },
  {
   "cell_type": "code",
   "execution_count": 49,
   "metadata": {},
   "outputs": [
    {
     "data": {
      "text/plain": [
       "Timestamp('2016-04-11 20:48:00')"
      ]
     },
     "execution_count": 49,
     "metadata": {},
     "output_type": "execute_result"
    }
   ],
   "source": [
    "sleep['datetime'].min()"
   ]
  },
  {
   "cell_type": "code",
   "execution_count": 50,
   "metadata": {},
   "outputs": [
    {
     "data": {
      "text/plain": [
       "Timestamp('2016-05-12 09:56:00')"
      ]
     },
     "execution_count": 50,
     "metadata": {},
     "output_type": "execute_result"
    }
   ],
   "source": [
    "sleep['datetime'].max()"
   ]
  },
  {
   "cell_type": "code",
   "execution_count": 51,
   "metadata": {},
   "outputs": [
    {
     "data": {
      "text/plain": [
       "1"
      ]
     },
     "execution_count": 51,
     "metadata": {},
     "output_type": "execute_result"
    }
   ],
   "source": [
    "sleep['value'].min()"
   ]
  },
  {
   "cell_type": "code",
   "execution_count": 52,
   "metadata": {},
   "outputs": [
    {
     "data": {
      "text/plain": [
       "3"
      ]
     },
     "execution_count": 52,
     "metadata": {},
     "output_type": "execute_result"
    }
   ],
   "source": [
    "sleep['value'].max()"
   ]
  },
  {
   "cell_type": "markdown",
   "metadata": {},
   "source": [
    "*Note that [the documentation](https://www.fitabase.com/media/1930/fitabasedatadictionary102320.pdf) describes what each `value` represents*"
   ]
  },
  {
   "cell_type": "code",
   "execution_count": 53,
   "metadata": {},
   "outputs": [
    {
     "name": "stdout",
     "output_type": "stream",
     "text": [
      "The number of users in this dataset is: 24\n"
     ]
    }
   ],
   "source": [
    "print(f\"The number of users in this dataset is: {len(set(sleep['Id']))}\")"
   ]
  },
  {
   "cell_type": "markdown",
   "metadata": {},
   "source": [
    "The sleep data appears valid:\n",
    "\n",
    "* No rows contain null values.\n",
    "* `date` contains valid values.\n",
    "* `value` contains values within acceptable range."
   ]
  },
  {
   "cell_type": "markdown",
   "metadata": {},
   "source": [
    "#### Weight"
   ]
  },
  {
   "cell_type": "code",
   "execution_count": 54,
   "metadata": {},
   "outputs": [
    {
     "data": {
      "text/html": [
       "<div>\n",
       "<style scoped>\n",
       "    .dataframe tbody tr th:only-of-type {\n",
       "        vertical-align: middle;\n",
       "    }\n",
       "\n",
       "    .dataframe tbody tr th {\n",
       "        vertical-align: top;\n",
       "    }\n",
       "\n",
       "    .dataframe thead th {\n",
       "        text-align: right;\n",
       "    }\n",
       "</style>\n",
       "<table border=\"1\" class=\"dataframe\">\n",
       "  <thead>\n",
       "    <tr style=\"text-align: right;\">\n",
       "      <th></th>\n",
       "      <th>Id</th>\n",
       "      <th>datetime</th>\n",
       "      <th>WeightKg</th>\n",
       "      <th>WeightPounds</th>\n",
       "      <th>Fat</th>\n",
       "      <th>BMI</th>\n",
       "      <th>IsManualReport</th>\n",
       "      <th>LogId</th>\n",
       "      <th>bmi_group</th>\n",
       "    </tr>\n",
       "  </thead>\n",
       "  <tbody>\n",
       "    <tr>\n",
       "      <th>0</th>\n",
       "      <td>1503960366</td>\n",
       "      <td>2016-05-02 23:59:59</td>\n",
       "      <td>52.599998</td>\n",
       "      <td>115.963147</td>\n",
       "      <td>22.0</td>\n",
       "      <td>22.650000</td>\n",
       "      <td>True</td>\n",
       "      <td>1462233599000</td>\n",
       "      <td>normal</td>\n",
       "    </tr>\n",
       "    <tr>\n",
       "      <th>1</th>\n",
       "      <td>1503960366</td>\n",
       "      <td>2016-05-03 23:59:59</td>\n",
       "      <td>52.599998</td>\n",
       "      <td>115.963147</td>\n",
       "      <td>NaN</td>\n",
       "      <td>22.650000</td>\n",
       "      <td>True</td>\n",
       "      <td>1462319999000</td>\n",
       "      <td>normal</td>\n",
       "    </tr>\n",
       "    <tr>\n",
       "      <th>2</th>\n",
       "      <td>1927972279</td>\n",
       "      <td>2016-04-13 01:08:52</td>\n",
       "      <td>133.500000</td>\n",
       "      <td>294.317120</td>\n",
       "      <td>NaN</td>\n",
       "      <td>47.540001</td>\n",
       "      <td>False</td>\n",
       "      <td>1460509732000</td>\n",
       "      <td>extremely_obese</td>\n",
       "    </tr>\n",
       "    <tr>\n",
       "      <th>3</th>\n",
       "      <td>2873212765</td>\n",
       "      <td>2016-04-21 23:59:59</td>\n",
       "      <td>56.700001</td>\n",
       "      <td>125.002104</td>\n",
       "      <td>NaN</td>\n",
       "      <td>21.450001</td>\n",
       "      <td>True</td>\n",
       "      <td>1461283199000</td>\n",
       "      <td>normal</td>\n",
       "    </tr>\n",
       "    <tr>\n",
       "      <th>4</th>\n",
       "      <td>2873212765</td>\n",
       "      <td>2016-05-12 23:59:59</td>\n",
       "      <td>57.299999</td>\n",
       "      <td>126.324875</td>\n",
       "      <td>NaN</td>\n",
       "      <td>21.690001</td>\n",
       "      <td>True</td>\n",
       "      <td>1463097599000</td>\n",
       "      <td>normal</td>\n",
       "    </tr>\n",
       "  </tbody>\n",
       "</table>\n",
       "</div>"
      ],
      "text/plain": [
       "           Id            datetime    WeightKg  WeightPounds   Fat        BMI  \\\n",
       "0  1503960366 2016-05-02 23:59:59   52.599998    115.963147  22.0  22.650000   \n",
       "1  1503960366 2016-05-03 23:59:59   52.599998    115.963147   NaN  22.650000   \n",
       "2  1927972279 2016-04-13 01:08:52  133.500000    294.317120   NaN  47.540001   \n",
       "3  2873212765 2016-04-21 23:59:59   56.700001    125.002104   NaN  21.450001   \n",
       "4  2873212765 2016-05-12 23:59:59   57.299999    126.324875   NaN  21.690001   \n",
       "\n",
       "   IsManualReport          LogId        bmi_group  \n",
       "0            True  1462233599000           normal  \n",
       "1            True  1462319999000           normal  \n",
       "2           False  1460509732000  extremely_obese  \n",
       "3            True  1461283199000           normal  \n",
       "4            True  1463097599000           normal  "
      ]
     },
     "execution_count": 54,
     "metadata": {},
     "output_type": "execute_result"
    }
   ],
   "source": [
    "def bmi_group(bmi):\n",
    "    if bmi < 18.5:\n",
    "        return \"underweight\"\n",
    "    elif bmi >= 18.5 and bmi < 25:\n",
    "        return \"normal\"\n",
    "    elif bmi >= 25 and bmi < 30:\n",
    "        return \"overweight\"\n",
    "    elif bmi >= 30 and bmi < 40:\n",
    "        return \"obese\"\n",
    "    else:\n",
    "        return \"extremely_obese\"\n",
    "\n",
    "weight = pd.read_csv(r\"./data/weightLogInfo_merged.csv\")\n",
    "weight['bmi_group'] = weight['BMI'].apply(bmi_group)\n",
    "weight['bmi_group'] = pd.Categorical(weight['bmi_group'], categories=[\"underweight\", \"normal\", \"overweight\", \"obese\", \"extremely_obese\"], ordered=True)\n",
    "weight = weight.rename(columns={\"Date\":\"datetime\"})\n",
    "weight = format_datetime(weight)\n",
    "weight.head()"
   ]
  },
  {
   "cell_type": "markdown",
   "metadata": {},
   "source": [
    "The parameters to assign a `bmi_group` to a `bmi` from [here](https://www.builtlean.com/bmi-chart/)"
   ]
  },
  {
   "cell_type": "code",
   "execution_count": 55,
   "metadata": {},
   "outputs": [
    {
     "data": {
      "text/plain": [
       "Id                 0\n",
       "datetime           0\n",
       "WeightKg           0\n",
       "WeightPounds       0\n",
       "Fat               65\n",
       "BMI                0\n",
       "IsManualReport     0\n",
       "LogId              0\n",
       "bmi_group          0\n",
       "dtype: int64"
      ]
     },
     "execution_count": 55,
     "metadata": {},
     "output_type": "execute_result"
    }
   ],
   "source": [
    "weight.isna().sum()"
   ]
  },
  {
   "cell_type": "code",
   "execution_count": 56,
   "metadata": {},
   "outputs": [
    {
     "name": "stdout",
     "output_type": "stream",
     "text": [
      "Number of entries in this dataset are: 67\n"
     ]
    }
   ],
   "source": [
    "print(f\"Number of entries in this dataset are: {weight.shape[0]}\")"
   ]
  },
  {
   "cell_type": "markdown",
   "metadata": {},
   "source": [
    "Null values exist in `Fat` column of our dataset. And since 65 of the 67 rows are null, there is no point in keeping that column in our analysis."
   ]
  },
  {
   "cell_type": "code",
   "execution_count": 57,
   "metadata": {},
   "outputs": [
    {
     "data": {
      "text/plain": [
       "Id                0\n",
       "datetime          0\n",
       "WeightKg          0\n",
       "WeightPounds      0\n",
       "BMI               0\n",
       "IsManualReport    0\n",
       "LogId             0\n",
       "bmi_group         0\n",
       "dtype: int64"
      ]
     },
     "execution_count": 57,
     "metadata": {},
     "output_type": "execute_result"
    }
   ],
   "source": [
    "weight = weight.drop(['Fat'], axis=1)\n",
    "weight.isna().sum()"
   ]
  },
  {
   "cell_type": "code",
   "execution_count": 58,
   "metadata": {},
   "outputs": [
    {
     "data": {
      "text/plain": [
       "Timestamp('2016-04-12 06:47:11')"
      ]
     },
     "execution_count": 58,
     "metadata": {},
     "output_type": "execute_result"
    }
   ],
   "source": [
    "weight['datetime'].min()"
   ]
  },
  {
   "cell_type": "code",
   "execution_count": 59,
   "metadata": {},
   "outputs": [
    {
     "data": {
      "text/plain": [
       "Timestamp('2016-05-12 23:59:59')"
      ]
     },
     "execution_count": 59,
     "metadata": {},
     "output_type": "execute_result"
    }
   ],
   "source": [
    "weight['datetime'].max()"
   ]
  },
  {
   "cell_type": "code",
   "execution_count": 60,
   "metadata": {},
   "outputs": [
    {
     "data": {
      "text/plain": [
       "115.963146545323"
      ]
     },
     "execution_count": 60,
     "metadata": {},
     "output_type": "execute_result"
    }
   ],
   "source": [
    "weight['WeightPounds'].min()"
   ]
  },
  {
   "cell_type": "code",
   "execution_count": 61,
   "metadata": {},
   "outputs": [
    {
     "data": {
      "text/plain": [
       "294.317120016975"
      ]
     },
     "execution_count": 61,
     "metadata": {},
     "output_type": "execute_result"
    }
   ],
   "source": [
    "weight['WeightPounds'].max()"
   ]
  },
  {
   "cell_type": "code",
   "execution_count": 62,
   "metadata": {},
   "outputs": [
    {
     "data": {
      "text/plain": [
       "21.4500007629395"
      ]
     },
     "execution_count": 62,
     "metadata": {},
     "output_type": "execute_result"
    }
   ],
   "source": [
    "weight['BMI'].min()"
   ]
  },
  {
   "cell_type": "code",
   "execution_count": 63,
   "metadata": {},
   "outputs": [
    {
     "data": {
      "text/plain": [
       "47.5400009155273"
      ]
     },
     "execution_count": 63,
     "metadata": {},
     "output_type": "execute_result"
    }
   ],
   "source": [
    "weight['BMI'].max()"
   ]
  },
  {
   "cell_type": "code",
   "execution_count": 64,
   "metadata": {},
   "outputs": [
    {
     "name": "stdout",
     "output_type": "stream",
     "text": [
      "The number of users in this dataset is: 8\n"
     ]
    }
   ],
   "source": [
    "print(f\"The number of users in this dataset is: {len(set(weight['Id']))}\")"
   ]
  },
  {
   "cell_type": "markdown",
   "metadata": {},
   "source": [
    "The weight data appears valid:\n",
    "\n",
    "* Null values were found in most entries of the `Fat` column, so that column was dropped. No other Null values were found.\n",
    "\n",
    "* All `Date` values are valid.\n",
    "\n",
    "* The `WeightPounds` data contains reasonable values; nothing too low or too high. We will not be using `WeightKg` in our analysis.\n",
    "\n",
    "* The `BMI` values are valid."
   ]
  },
  {
   "cell_type": "markdown",
   "metadata": {},
   "source": [
    "## Analysis"
   ]
  },
  {
   "cell_type": "markdown",
   "metadata": {},
   "source": [
    "### Weights of Users Over Time"
   ]
  },
  {
   "cell_type": "code",
   "execution_count": 65,
   "metadata": {},
   "outputs": [
    {
     "data": {
      "text/html": [
       "<div>\n",
       "<style scoped>\n",
       "    .dataframe tbody tr th:only-of-type {\n",
       "        vertical-align: middle;\n",
       "    }\n",
       "\n",
       "    .dataframe tbody tr th {\n",
       "        vertical-align: top;\n",
       "    }\n",
       "\n",
       "    .dataframe thead th {\n",
       "        text-align: right;\n",
       "    }\n",
       "</style>\n",
       "<table border=\"1\" class=\"dataframe\">\n",
       "  <thead>\n",
       "    <tr style=\"text-align: right;\">\n",
       "      <th></th>\n",
       "      <th>Id</th>\n",
       "      <th>datetime</th>\n",
       "      <th>WeightKg</th>\n",
       "      <th>WeightPounds</th>\n",
       "      <th>BMI</th>\n",
       "      <th>IsManualReport</th>\n",
       "      <th>LogId</th>\n",
       "      <th>bmi_group</th>\n",
       "    </tr>\n",
       "  </thead>\n",
       "  <tbody>\n",
       "    <tr>\n",
       "      <th>0</th>\n",
       "      <td>1503960366</td>\n",
       "      <td>2016-05-02 23:59:59</td>\n",
       "      <td>52.599998</td>\n",
       "      <td>115.963147</td>\n",
       "      <td>22.650000</td>\n",
       "      <td>True</td>\n",
       "      <td>1462233599000</td>\n",
       "      <td>normal</td>\n",
       "    </tr>\n",
       "    <tr>\n",
       "      <th>1</th>\n",
       "      <td>1503960366</td>\n",
       "      <td>2016-05-03 23:59:59</td>\n",
       "      <td>52.599998</td>\n",
       "      <td>115.963147</td>\n",
       "      <td>22.650000</td>\n",
       "      <td>True</td>\n",
       "      <td>1462319999000</td>\n",
       "      <td>normal</td>\n",
       "    </tr>\n",
       "    <tr>\n",
       "      <th>2</th>\n",
       "      <td>1927972279</td>\n",
       "      <td>2016-04-13 01:08:52</td>\n",
       "      <td>133.500000</td>\n",
       "      <td>294.317120</td>\n",
       "      <td>47.540001</td>\n",
       "      <td>False</td>\n",
       "      <td>1460509732000</td>\n",
       "      <td>extremely_obese</td>\n",
       "    </tr>\n",
       "    <tr>\n",
       "      <th>3</th>\n",
       "      <td>2873212765</td>\n",
       "      <td>2016-04-21 23:59:59</td>\n",
       "      <td>56.700001</td>\n",
       "      <td>125.002104</td>\n",
       "      <td>21.450001</td>\n",
       "      <td>True</td>\n",
       "      <td>1461283199000</td>\n",
       "      <td>normal</td>\n",
       "    </tr>\n",
       "    <tr>\n",
       "      <th>4</th>\n",
       "      <td>2873212765</td>\n",
       "      <td>2016-05-12 23:59:59</td>\n",
       "      <td>57.299999</td>\n",
       "      <td>126.324875</td>\n",
       "      <td>21.690001</td>\n",
       "      <td>True</td>\n",
       "      <td>1463097599000</td>\n",
       "      <td>normal</td>\n",
       "    </tr>\n",
       "  </tbody>\n",
       "</table>\n",
       "</div>"
      ],
      "text/plain": [
       "           Id            datetime    WeightKg  WeightPounds        BMI  \\\n",
       "0  1503960366 2016-05-02 23:59:59   52.599998    115.963147  22.650000   \n",
       "1  1503960366 2016-05-03 23:59:59   52.599998    115.963147  22.650000   \n",
       "2  1927972279 2016-04-13 01:08:52  133.500000    294.317120  47.540001   \n",
       "3  2873212765 2016-04-21 23:59:59   56.700001    125.002104  21.450001   \n",
       "4  2873212765 2016-05-12 23:59:59   57.299999    126.324875  21.690001   \n",
       "\n",
       "   IsManualReport          LogId        bmi_group  \n",
       "0            True  1462233599000           normal  \n",
       "1            True  1462319999000           normal  \n",
       "2           False  1460509732000  extremely_obese  \n",
       "3            True  1461283199000           normal  \n",
       "4            True  1463097599000           normal  "
      ]
     },
     "execution_count": 65,
     "metadata": {},
     "output_type": "execute_result"
    }
   ],
   "source": [
    "weight.head()"
   ]
  },
  {
   "cell_type": "code",
   "execution_count": 66,
   "metadata": {},
   "outputs": [
    {
     "data": {
      "text/plain": [
       "<Axes: xlabel='datetime', ylabel='WeightPounds'>"
      ]
     },
     "execution_count": 66,
     "metadata": {},
     "output_type": "execute_result"
    },
    {
     "data": {
      "image/png": "[encoded data removed]",
      "text/plain": [
       "<Figure size 640x480 with 1 Axes>"
      ]
     },
     "metadata": {},
     "output_type": "display_data"
    }
   ],
   "source": [
    "sns.lineplot(\n",
    "    data=weight.query(\"bmi_group == 'normal'\"),\n",
    "    y='WeightPounds',\n",
    "    x=\"datetime\",\n",
    "    hue='Id'\n",
    ")"
   ]
  },
  {
   "cell_type": "code",
   "execution_count": 67,
   "metadata": {},
   "outputs": [
    {
     "data": {
      "text/plain": [
       "<Axes: xlabel='datetime', ylabel='WeightPounds'>"
      ]
     },
     "execution_count": 67,
     "metadata": {},
     "output_type": "execute_result"
    },
    {
     "data": {
      "image/png": "[encoded data removed]",
      "text/plain": [
       "<Figure size 640x480 with 1 Axes>"
      ]
     },
     "metadata": {},
     "output_type": "display_data"
    }
   ],
   "source": [
    "sns.lineplot(\n",
    "    data=weight.query(\"bmi_group == 'overweight'\"),\n",
    "    y='WeightPounds',\n",
    "    x=\"datetime\",\n",
    "    hue='Id'\n",
    ")"
   ]
  },
  {
   "cell_type": "markdown",
   "metadata": {},
   "source": [
    "### BMI as a Health Metric\n",
    "\n",
    "The assumption that we will be looking to be made is that users with lower BMI exercise more. They will have more steps, have fewer sedentary moments, more moderate or very active moments, and will have higher METs rates. We will also examine how good their sleep is and their heart rate.\n",
    "\n",
    "We will start off by looking at our `weights` dataset and see how many `body_type` groups there are."
   ]
  },
  {
   "cell_type": "code",
   "execution_count": 68,
   "metadata": {},
   "outputs": [
    {
     "name": "stdout",
     "output_type": "stream",
     "text": [
      "The different body types in our weight dataset are:\n",
      "   * extremely_obese\n",
      "   * normal\n",
      "   * overweight\n"
     ]
    }
   ],
   "source": [
    "print(\"The different body types in our weight dataset are:\")\n",
    "for bmi_group in set(weight['bmi_group']):\n",
    "    print(f\"   * {bmi_group}\")"
   ]
  },
  {
   "cell_type": "code",
   "execution_count": 69,
   "metadata": {},
   "outputs": [
    {
     "name": "stdout",
     "output_type": "stream",
     "text": [
      "The number of normal body type users are: 3\n"
     ]
    }
   ],
   "source": [
    "normal_weight_users = set(weight.query(\"bmi_group == 'normal'\")['Id'])\n",
    "print(f\"The number of normal body type users are: {len(normal_weight_users)}\")"
   ]
  },
  {
   "cell_type": "code",
   "execution_count": 70,
   "metadata": {},
   "outputs": [
    {
     "name": "stdout",
     "output_type": "stream",
     "text": [
      "The number of overweight users are: 4\n"
     ]
    }
   ],
   "source": [
    "overweight_users = set(weight.query(\"bmi_group == 'overweight'\")['Id'])\n",
    "print(f\"The number of overweight users are: {len(overweight_users)}\")"
   ]
  },
  {
   "cell_type": "code",
   "execution_count": 71,
   "metadata": {},
   "outputs": [
    {
     "name": "stdout",
     "output_type": "stream",
     "text": [
      "The number of extremely obese users are: 1\n"
     ]
    }
   ],
   "source": [
    "extremely_obese_users = set(weight.query(\"bmi_group == 'extremely_obese'\")['Id'])\n",
    "print(f\"The number of extremely obese users are: {len(extremely_obese_users)}\")"
   ]
  },
  {
   "cell_type": "markdown",
   "metadata": {},
   "source": [
    "Since we only have one user in the extremely obese category we will not include that in our findings. One user is too small of a sample size. In reality, 3 and 4 users is also too small, but we will mention that in the \"future work\" portion of this report.\n",
    "\n",
    "For now, we will only perform analysis on the normal and overweight body type groups."
   ]
  },
  {
   "cell_type": "code",
   "execution_count": 72,
   "metadata": {},
   "outputs": [],
   "source": [
    "def calc_bmi_group(df, bmi_group_col='bmi_group'):\n",
    "    if bmi_group_col in df:\n",
    "        df = df.drop(bmi_group_col, axis=1)\n",
    "    def bmi_from_user(user):\n",
    "        if user in normal_weight_users:\n",
    "            return \"normal\"\n",
    "        if user in overweight_users:\n",
    "            return \"overweight\"\n",
    "        raise Exception(f\"user '{user}' not found in user lists\")\n",
    "    bmi_group_series = df['Id'].apply(lambda x:bmi_from_user(x))\n",
    "    df.insert(len(df.columns), bmi_group_col, bmi_group_series)\n",
    "    df[bmi_group_col] = pd.Categorical(df[bmi_group_col], categories=['normal', 'overweight'], ordered=True)\n",
    "    return df"
   ]
  },
  {
   "cell_type": "markdown",
   "metadata": {},
   "source": [
    "### Daily Steps by BMI Group"
   ]
  },
  {
   "cell_type": "code",
   "execution_count": 73,
   "metadata": {},
   "outputs": [
    {
     "data": {
      "text/html": [
       "<div>\n",
       "<style scoped>\n",
       "    .dataframe tbody tr th:only-of-type {\n",
       "        vertical-align: middle;\n",
       "    }\n",
       "\n",
       "    .dataframe tbody tr th {\n",
       "        vertical-align: top;\n",
       "    }\n",
       "\n",
       "    .dataframe thead th {\n",
       "        text-align: right;\n",
       "    }\n",
       "</style>\n",
       "<table border=\"1\" class=\"dataframe\">\n",
       "  <thead>\n",
       "    <tr style=\"text-align: right;\">\n",
       "      <th></th>\n",
       "      <th>Id</th>\n",
       "      <th>datetime</th>\n",
       "      <th>Steps</th>\n",
       "    </tr>\n",
       "  </thead>\n",
       "  <tbody>\n",
       "    <tr>\n",
       "      <th>0</th>\n",
       "      <td>1503960366</td>\n",
       "      <td>2016-04-12 00:00:00</td>\n",
       "      <td>0</td>\n",
       "    </tr>\n",
       "    <tr>\n",
       "      <th>1</th>\n",
       "      <td>1503960366</td>\n",
       "      <td>2016-04-12 00:01:00</td>\n",
       "      <td>0</td>\n",
       "    </tr>\n",
       "    <tr>\n",
       "      <th>2</th>\n",
       "      <td>1503960366</td>\n",
       "      <td>2016-04-12 00:02:00</td>\n",
       "      <td>0</td>\n",
       "    </tr>\n",
       "    <tr>\n",
       "      <th>3</th>\n",
       "      <td>1503960366</td>\n",
       "      <td>2016-04-12 00:03:00</td>\n",
       "      <td>0</td>\n",
       "    </tr>\n",
       "    <tr>\n",
       "      <th>4</th>\n",
       "      <td>1503960366</td>\n",
       "      <td>2016-04-12 00:04:00</td>\n",
       "      <td>0</td>\n",
       "    </tr>\n",
       "    <tr>\n",
       "      <th>...</th>\n",
       "      <td>...</td>\n",
       "      <td>...</td>\n",
       "      <td>...</td>\n",
       "    </tr>\n",
       "    <tr>\n",
       "      <th>1325575</th>\n",
       "      <td>8877689391</td>\n",
       "      <td>2016-05-12 13:55:00</td>\n",
       "      <td>0</td>\n",
       "    </tr>\n",
       "    <tr>\n",
       "      <th>1325576</th>\n",
       "      <td>8877689391</td>\n",
       "      <td>2016-05-12 13:56:00</td>\n",
       "      <td>0</td>\n",
       "    </tr>\n",
       "    <tr>\n",
       "      <th>1325577</th>\n",
       "      <td>8877689391</td>\n",
       "      <td>2016-05-12 13:57:00</td>\n",
       "      <td>0</td>\n",
       "    </tr>\n",
       "    <tr>\n",
       "      <th>1325578</th>\n",
       "      <td>8877689391</td>\n",
       "      <td>2016-05-12 13:58:00</td>\n",
       "      <td>0</td>\n",
       "    </tr>\n",
       "    <tr>\n",
       "      <th>1325579</th>\n",
       "      <td>8877689391</td>\n",
       "      <td>2016-05-12 13:59:00</td>\n",
       "      <td>0</td>\n",
       "    </tr>\n",
       "  </tbody>\n",
       "</table>\n",
       "<p>305220 rows × 3 columns</p>\n",
       "</div>"
      ],
      "text/plain": [
       "                 Id            datetime  Steps\n",
       "0        1503960366 2016-04-12 00:00:00      0\n",
       "1        1503960366 2016-04-12 00:01:00      0\n",
       "2        1503960366 2016-04-12 00:02:00      0\n",
       "3        1503960366 2016-04-12 00:03:00      0\n",
       "4        1503960366 2016-04-12 00:04:00      0\n",
       "...             ...                 ...    ...\n",
       "1325575  8877689391 2016-05-12 13:55:00      0\n",
       "1325576  8877689391 2016-05-12 13:56:00      0\n",
       "1325577  8877689391 2016-05-12 13:57:00      0\n",
       "1325578  8877689391 2016-05-12 13:58:00      0\n",
       "1325579  8877689391 2016-05-12 13:59:00      0\n",
       "\n",
       "[305220 rows x 3 columns]"
      ]
     },
     "execution_count": 73,
     "metadata": {},
     "output_type": "execute_result"
    }
   ],
   "source": [
    "bmi_steps = steps.query(\"Id in @normal_weight_users or Id in @overweight_users\")\n",
    "bmi_steps"
   ]
  },
  {
   "cell_type": "code",
   "execution_count": 74,
   "metadata": {},
   "outputs": [
    {
     "data": {
      "text/html": [
       "<div>\n",
       "<style scoped>\n",
       "    .dataframe tbody tr th:only-of-type {\n",
       "        vertical-align: middle;\n",
       "    }\n",
       "\n",
       "    .dataframe tbody tr th {\n",
       "        vertical-align: top;\n",
       "    }\n",
       "\n",
       "    .dataframe thead th {\n",
       "        text-align: right;\n",
       "    }\n",
       "</style>\n",
       "<table border=\"1\" class=\"dataframe\">\n",
       "  <thead>\n",
       "    <tr style=\"text-align: right;\">\n",
       "      <th></th>\n",
       "      <th>Id</th>\n",
       "      <th>date</th>\n",
       "      <th>Steps</th>\n",
       "      <th>bmi_group</th>\n",
       "    </tr>\n",
       "  </thead>\n",
       "  <tbody>\n",
       "    <tr>\n",
       "      <th>0</th>\n",
       "      <td>1503960366</td>\n",
       "      <td>2016-04-12</td>\n",
       "      <td>13158</td>\n",
       "      <td>normal</td>\n",
       "    </tr>\n",
       "    <tr>\n",
       "      <th>1</th>\n",
       "      <td>1503960366</td>\n",
       "      <td>2016-04-13</td>\n",
       "      <td>10735</td>\n",
       "      <td>normal</td>\n",
       "    </tr>\n",
       "    <tr>\n",
       "      <th>2</th>\n",
       "      <td>1503960366</td>\n",
       "      <td>2016-04-14</td>\n",
       "      <td>10460</td>\n",
       "      <td>normal</td>\n",
       "    </tr>\n",
       "    <tr>\n",
       "      <th>3</th>\n",
       "      <td>1503960366</td>\n",
       "      <td>2016-04-15</td>\n",
       "      <td>9685</td>\n",
       "      <td>normal</td>\n",
       "    </tr>\n",
       "    <tr>\n",
       "      <th>4</th>\n",
       "      <td>1503960366</td>\n",
       "      <td>2016-04-16</td>\n",
       "      <td>12669</td>\n",
       "      <td>normal</td>\n",
       "    </tr>\n",
       "  </tbody>\n",
       "</table>\n",
       "</div>"
      ],
      "text/plain": [
       "           Id        date  Steps bmi_group\n",
       "0  1503960366  2016-04-12  13158    normal\n",
       "1  1503960366  2016-04-13  10735    normal\n",
       "2  1503960366  2016-04-14  10460    normal\n",
       "3  1503960366  2016-04-15   9685    normal\n",
       "4  1503960366  2016-04-16  12669    normal"
      ]
     },
     "execution_count": 74,
     "metadata": {},
     "output_type": "execute_result"
    }
   ],
   "source": [
    "daily_bmi_steps = get_date(bmi_steps)\n",
    "daily_bmi_steps = daily_bmi_steps.groupby(['Id', 'date']).sum(numeric_only=True)\n",
    "daily_bmi_steps = daily_bmi_steps.reset_index()\n",
    "daily_bmi_steps = calc_bmi_group(daily_bmi_steps)\n",
    "daily_bmi_steps.head()"
   ]
  },
  {
   "cell_type": "code",
   "execution_count": 75,
   "metadata": {},
   "outputs": [
    {
     "data": {
      "image/png": "[encoded data removed]",
      "text/plain": [
       "<Figure size 640x480 with 1 Axes>"
      ]
     },
     "metadata": {},
     "output_type": "display_data"
    }
   ],
   "source": [
    "sns.boxplot(\n",
    "    data=daily_bmi_steps,\n",
    "    y=\"Steps\",\n",
    "    x=\"bmi_group\"\n",
    ").set(\n",
    "    title=\"Daily Steps by BMI Group\",\n",
    "    xlabel=\"BMI Group\",\n",
    "    ylabel=\"Daily Number of Steps\"\n",
    ")\n",
    "plt.show()"
   ]
  },
  {
   "cell_type": "code",
   "execution_count": 76,
   "metadata": {},
   "outputs": [],
   "source": [
    "total_days = (bmi_steps['datetime'].max() - bmi_steps['datetime'].min()).days"
   ]
  },
  {
   "cell_type": "code",
   "execution_count": 77,
   "metadata": {},
   "outputs": [
    {
     "data": {
      "text/html": [
       "<div>\n",
       "<style scoped>\n",
       "    .dataframe tbody tr th:only-of-type {\n",
       "        vertical-align: middle;\n",
       "    }\n",
       "\n",
       "    .dataframe tbody tr th {\n",
       "        vertical-align: top;\n",
       "    }\n",
       "\n",
       "    .dataframe thead th {\n",
       "        text-align: right;\n",
       "    }\n",
       "</style>\n",
       "<table border=\"1\" class=\"dataframe\">\n",
       "  <thead>\n",
       "    <tr style=\"text-align: right;\">\n",
       "      <th></th>\n",
       "      <th>Id</th>\n",
       "      <th>time_of_day</th>\n",
       "      <th>total_steps</th>\n",
       "      <th>steps_daily</th>\n",
       "      <th>bmi_group</th>\n",
       "    </tr>\n",
       "  </thead>\n",
       "  <tbody>\n",
       "    <tr>\n",
       "      <th>0</th>\n",
       "      <td>1503960366</td>\n",
       "      <td>Morning</td>\n",
       "      <td>67627</td>\n",
       "      <td>2254.233333</td>\n",
       "      <td>normal</td>\n",
       "    </tr>\n",
       "    <tr>\n",
       "      <th>1</th>\n",
       "      <td>1503960366</td>\n",
       "      <td>Afternoon</td>\n",
       "      <td>111080</td>\n",
       "      <td>3702.666667</td>\n",
       "      <td>normal</td>\n",
       "    </tr>\n",
       "    <tr>\n",
       "      <th>2</th>\n",
       "      <td>1503960366</td>\n",
       "      <td>Evening</td>\n",
       "      <td>188660</td>\n",
       "      <td>6288.666667</td>\n",
       "      <td>normal</td>\n",
       "    </tr>\n",
       "    <tr>\n",
       "      <th>3</th>\n",
       "      <td>1503960366</td>\n",
       "      <td>Night</td>\n",
       "      <td>7179</td>\n",
       "      <td>239.300000</td>\n",
       "      <td>normal</td>\n",
       "    </tr>\n",
       "    <tr>\n",
       "      <th>4</th>\n",
       "      <td>2873212765</td>\n",
       "      <td>Morning</td>\n",
       "      <td>124318</td>\n",
       "      <td>4143.933333</td>\n",
       "      <td>normal</td>\n",
       "    </tr>\n",
       "  </tbody>\n",
       "</table>\n",
       "</div>"
      ],
      "text/plain": [
       "           Id time_of_day  total_steps  steps_daily bmi_group\n",
       "0  1503960366     Morning        67627  2254.233333    normal\n",
       "1  1503960366   Afternoon       111080  3702.666667    normal\n",
       "2  1503960366     Evening       188660  6288.666667    normal\n",
       "3  1503960366       Night         7179   239.300000    normal\n",
       "4  2873212765     Morning       124318  4143.933333    normal"
      ]
     },
     "execution_count": 77,
     "metadata": {},
     "output_type": "execute_result"
    }
   ],
   "source": [
    "bmi_steps_time = calc_time_of_day(bmi_steps)\n",
    "bmi_steps_time = bmi_steps_time.groupby(['Id', 'time_of_day']).sum(numeric_only=True)\n",
    "bmi_steps_time = bmi_steps_time.reset_index()\n",
    "bmi_steps_time = bmi_steps_time.rename(columns={'Steps':'total_steps'})\n",
    "bmi_steps_time['steps_daily'] = bmi_steps_time['total_steps'] / total_days\n",
    "\n",
    "bmi_steps_time = calc_bmi_group(bmi_steps_time)\n",
    "bmi_steps_time.head()"
   ]
  },
  {
   "cell_type": "code",
   "execution_count": 78,
   "metadata": {},
   "outputs": [
    {
     "data": {
      "image/png": "[encoded data removed]",
      "text/plain": [
       "<Figure size 640x480 with 1 Axes>"
      ]
     },
     "metadata": {},
     "output_type": "display_data"
    }
   ],
   "source": [
    "sns.boxplot(\n",
    "    data=bmi_steps_time,\n",
    "    x=\"bmi_group\",\n",
    "    y=\"steps_daily\",\n",
    "    hue=\"time_of_day\"\n",
    ").set(\n",
    "    title=\"Daily Steps by BMI Group\",\n",
    "    xlabel='BMI Group',\n",
    "    ylabel=\"Daily Steps\",\n",
    ")\n",
    "plt.legend(title=\"Time of Day\")\n",
    "plt.show()"
   ]
  },
  {
   "cell_type": "code",
   "execution_count": 79,
   "metadata": {},
   "outputs": [
    {
     "data": {
      "text/html": [
       "<div>\n",
       "<style scoped>\n",
       "    .dataframe tbody tr th:only-of-type {\n",
       "        vertical-align: middle;\n",
       "    }\n",
       "\n",
       "    .dataframe tbody tr th {\n",
       "        vertical-align: top;\n",
       "    }\n",
       "\n",
       "    .dataframe thead th {\n",
       "        text-align: right;\n",
       "    }\n",
       "</style>\n",
       "<table border=\"1\" class=\"dataframe\">\n",
       "  <thead>\n",
       "    <tr style=\"text-align: right;\">\n",
       "      <th></th>\n",
       "      <th>day_of_week</th>\n",
       "      <th>frequency</th>\n",
       "    </tr>\n",
       "  </thead>\n",
       "  <tbody>\n",
       "    <tr>\n",
       "      <th>0</th>\n",
       "      <td>Tue</td>\n",
       "      <td>5</td>\n",
       "    </tr>\n",
       "    <tr>\n",
       "      <th>1</th>\n",
       "      <td>Wed</td>\n",
       "      <td>5</td>\n",
       "    </tr>\n",
       "    <tr>\n",
       "      <th>2</th>\n",
       "      <td>Thu</td>\n",
       "      <td>5</td>\n",
       "    </tr>\n",
       "    <tr>\n",
       "      <th>3</th>\n",
       "      <td>Mon</td>\n",
       "      <td>4</td>\n",
       "    </tr>\n",
       "    <tr>\n",
       "      <th>4</th>\n",
       "      <td>Fri</td>\n",
       "      <td>4</td>\n",
       "    </tr>\n",
       "    <tr>\n",
       "      <th>5</th>\n",
       "      <td>Sat</td>\n",
       "      <td>4</td>\n",
       "    </tr>\n",
       "    <tr>\n",
       "      <th>6</th>\n",
       "      <td>Sun</td>\n",
       "      <td>4</td>\n",
       "    </tr>\n",
       "  </tbody>\n",
       "</table>\n",
       "</div>"
      ],
      "text/plain": [
       "  day_of_week  frequency\n",
       "0         Tue          5\n",
       "1         Wed          5\n",
       "2         Thu          5\n",
       "3         Mon          4\n",
       "4         Fri          4\n",
       "5         Sat          4\n",
       "6         Sun          4"
      ]
     },
     "execution_count": 79,
     "metadata": {},
     "output_type": "execute_result"
    }
   ],
   "source": [
    "days = pd.DataFrame(\n",
    "    daily_bmi_steps['date'].unique(),\n",
    "    columns=['date']\n",
    ")\n",
    "days = calc_day_of_week(days, datetime_col=\"date\")\n",
    "days = days.value_counts(\"day_of_week\")\n",
    "days = pd.DataFrame(days, columns=['frequency'])\n",
    "days = days.reset_index()\n",
    "days"
   ]
  },
  {
   "cell_type": "code",
   "execution_count": 80,
   "metadata": {},
   "outputs": [
    {
     "data": {
      "text/html": [
       "<div>\n",
       "<style scoped>\n",
       "    .dataframe tbody tr th:only-of-type {\n",
       "        vertical-align: middle;\n",
       "    }\n",
       "\n",
       "    .dataframe tbody tr th {\n",
       "        vertical-align: top;\n",
       "    }\n",
       "\n",
       "    .dataframe thead th {\n",
       "        text-align: right;\n",
       "    }\n",
       "</style>\n",
       "<table border=\"1\" class=\"dataframe\">\n",
       "  <thead>\n",
       "    <tr style=\"text-align: right;\">\n",
       "      <th></th>\n",
       "      <th>Id</th>\n",
       "      <th>day_of_week</th>\n",
       "      <th>Steps</th>\n",
       "    </tr>\n",
       "  </thead>\n",
       "  <tbody>\n",
       "    <tr>\n",
       "      <th>0</th>\n",
       "      <td>1503960366</td>\n",
       "      <td>Mon</td>\n",
       "      <td>55106</td>\n",
       "    </tr>\n",
       "    <tr>\n",
       "      <th>1</th>\n",
       "      <td>1503960366</td>\n",
       "      <td>Tue</td>\n",
       "      <td>69729</td>\n",
       "    </tr>\n",
       "    <tr>\n",
       "      <th>2</th>\n",
       "      <td>1503960366</td>\n",
       "      <td>Wed</td>\n",
       "      <td>62394</td>\n",
       "    </tr>\n",
       "    <tr>\n",
       "      <th>3</th>\n",
       "      <td>1503960366</td>\n",
       "      <td>Thu</td>\n",
       "      <td>47417</td>\n",
       "    </tr>\n",
       "    <tr>\n",
       "      <th>4</th>\n",
       "      <td>1503960366</td>\n",
       "      <td>Fri</td>\n",
       "      <td>45789</td>\n",
       "    </tr>\n",
       "    <tr>\n",
       "      <th>5</th>\n",
       "      <td>1503960366</td>\n",
       "      <td>Sat</td>\n",
       "      <td>53705</td>\n",
       "    </tr>\n",
       "    <tr>\n",
       "      <th>6</th>\n",
       "      <td>1503960366</td>\n",
       "      <td>Sun</td>\n",
       "      <td>40406</td>\n",
       "    </tr>\n",
       "  </tbody>\n",
       "</table>\n",
       "</div>"
      ],
      "text/plain": [
       "           Id day_of_week  Steps\n",
       "0  1503960366         Mon  55106\n",
       "1  1503960366         Tue  69729\n",
       "2  1503960366         Wed  62394\n",
       "3  1503960366         Thu  47417\n",
       "4  1503960366         Fri  45789\n",
       "5  1503960366         Sat  53705\n",
       "6  1503960366         Sun  40406"
      ]
     },
     "execution_count": 80,
     "metadata": {},
     "output_type": "execute_result"
    }
   ],
   "source": [
    "day_week_bmi_steps = calc_day_of_week(bmi_steps)\n",
    "day_week_bmi_steps = calc_weekday_or_weekend(day_week_bmi_steps)\n",
    "day_week_bmi_steps = day_week_bmi_steps.groupby(['Id', 'day_of_week']).sum(numeric_only=True)\n",
    "day_week_bmi_steps = day_week_bmi_steps.reset_index()\n",
    "day_week_bmi_steps.head(7)"
   ]
  },
  {
   "cell_type": "code",
   "execution_count": 81,
   "metadata": {},
   "outputs": [
    {
     "data": {
      "text/html": [
       "<div>\n",
       "<style scoped>\n",
       "    .dataframe tbody tr th:only-of-type {\n",
       "        vertical-align: middle;\n",
       "    }\n",
       "\n",
       "    .dataframe tbody tr th {\n",
       "        vertical-align: top;\n",
       "    }\n",
       "\n",
       "    .dataframe thead th {\n",
       "        text-align: right;\n",
       "    }\n",
       "</style>\n",
       "<table border=\"1\" class=\"dataframe\">\n",
       "  <thead>\n",
       "    <tr style=\"text-align: right;\">\n",
       "      <th></th>\n",
       "      <th>Id</th>\n",
       "      <th>day_of_week</th>\n",
       "      <th>Steps</th>\n",
       "      <th>frequency</th>\n",
       "      <th>daily_steps</th>\n",
       "    </tr>\n",
       "  </thead>\n",
       "  <tbody>\n",
       "    <tr>\n",
       "      <th>0</th>\n",
       "      <td>1503960366</td>\n",
       "      <td>Mon</td>\n",
       "      <td>55106</td>\n",
       "      <td>4</td>\n",
       "      <td>13776.50</td>\n",
       "    </tr>\n",
       "    <tr>\n",
       "      <th>1</th>\n",
       "      <td>1503960366</td>\n",
       "      <td>Tue</td>\n",
       "      <td>69729</td>\n",
       "      <td>5</td>\n",
       "      <td>13945.80</td>\n",
       "    </tr>\n",
       "    <tr>\n",
       "      <th>2</th>\n",
       "      <td>1503960366</td>\n",
       "      <td>Wed</td>\n",
       "      <td>62394</td>\n",
       "      <td>5</td>\n",
       "      <td>12478.80</td>\n",
       "    </tr>\n",
       "    <tr>\n",
       "      <th>3</th>\n",
       "      <td>1503960366</td>\n",
       "      <td>Thu</td>\n",
       "      <td>47417</td>\n",
       "      <td>5</td>\n",
       "      <td>9483.40</td>\n",
       "    </tr>\n",
       "    <tr>\n",
       "      <th>4</th>\n",
       "      <td>1503960366</td>\n",
       "      <td>Fri</td>\n",
       "      <td>45789</td>\n",
       "      <td>4</td>\n",
       "      <td>11447.25</td>\n",
       "    </tr>\n",
       "    <tr>\n",
       "      <th>5</th>\n",
       "      <td>1503960366</td>\n",
       "      <td>Sat</td>\n",
       "      <td>53705</td>\n",
       "      <td>4</td>\n",
       "      <td>13426.25</td>\n",
       "    </tr>\n",
       "    <tr>\n",
       "      <th>6</th>\n",
       "      <td>1503960366</td>\n",
       "      <td>Sun</td>\n",
       "      <td>40406</td>\n",
       "      <td>4</td>\n",
       "      <td>10101.50</td>\n",
       "    </tr>\n",
       "  </tbody>\n",
       "</table>\n",
       "</div>"
      ],
      "text/plain": [
       "           Id day_of_week  Steps  frequency  daily_steps\n",
       "0  1503960366         Mon  55106          4     13776.50\n",
       "1  1503960366         Tue  69729          5     13945.80\n",
       "2  1503960366         Wed  62394          5     12478.80\n",
       "3  1503960366         Thu  47417          5      9483.40\n",
       "4  1503960366         Fri  45789          4     11447.25\n",
       "5  1503960366         Sat  53705          4     13426.25\n",
       "6  1503960366         Sun  40406          4     10101.50"
      ]
     },
     "execution_count": 81,
     "metadata": {},
     "output_type": "execute_result"
    }
   ],
   "source": [
    "day_week_bmi_steps = day_week_bmi_steps.merge(right=days, on='day_of_week', how='left')\n",
    "day_week_bmi_steps['daily_steps'] = day_week_bmi_steps['Steps'] / day_week_bmi_steps['frequency']\n",
    "day_week_bmi_steps.head(7)"
   ]
  },
  {
   "cell_type": "code",
   "execution_count": 82,
   "metadata": {},
   "outputs": [
    {
     "data": {
      "text/html": [
       "<div>\n",
       "<style scoped>\n",
       "    .dataframe tbody tr th:only-of-type {\n",
       "        vertical-align: middle;\n",
       "    }\n",
       "\n",
       "    .dataframe tbody tr th {\n",
       "        vertical-align: top;\n",
       "    }\n",
       "\n",
       "    .dataframe thead th {\n",
       "        text-align: right;\n",
       "    }\n",
       "</style>\n",
       "<table border=\"1\" class=\"dataframe\">\n",
       "  <thead>\n",
       "    <tr style=\"text-align: right;\">\n",
       "      <th></th>\n",
       "      <th>Id</th>\n",
       "      <th>day_of_week</th>\n",
       "      <th>Steps</th>\n",
       "      <th>frequency</th>\n",
       "      <th>daily_steps</th>\n",
       "      <th>bmi_group</th>\n",
       "    </tr>\n",
       "  </thead>\n",
       "  <tbody>\n",
       "    <tr>\n",
       "      <th>0</th>\n",
       "      <td>1503960366</td>\n",
       "      <td>Mon</td>\n",
       "      <td>55106</td>\n",
       "      <td>4</td>\n",
       "      <td>13776.50</td>\n",
       "      <td>normal</td>\n",
       "    </tr>\n",
       "    <tr>\n",
       "      <th>1</th>\n",
       "      <td>1503960366</td>\n",
       "      <td>Tue</td>\n",
       "      <td>69729</td>\n",
       "      <td>5</td>\n",
       "      <td>13945.80</td>\n",
       "      <td>normal</td>\n",
       "    </tr>\n",
       "    <tr>\n",
       "      <th>2</th>\n",
       "      <td>1503960366</td>\n",
       "      <td>Wed</td>\n",
       "      <td>62394</td>\n",
       "      <td>5</td>\n",
       "      <td>12478.80</td>\n",
       "      <td>normal</td>\n",
       "    </tr>\n",
       "    <tr>\n",
       "      <th>3</th>\n",
       "      <td>1503960366</td>\n",
       "      <td>Thu</td>\n",
       "      <td>47417</td>\n",
       "      <td>5</td>\n",
       "      <td>9483.40</td>\n",
       "      <td>normal</td>\n",
       "    </tr>\n",
       "    <tr>\n",
       "      <th>4</th>\n",
       "      <td>1503960366</td>\n",
       "      <td>Fri</td>\n",
       "      <td>45789</td>\n",
       "      <td>4</td>\n",
       "      <td>11447.25</td>\n",
       "      <td>normal</td>\n",
       "    </tr>\n",
       "    <tr>\n",
       "      <th>5</th>\n",
       "      <td>1503960366</td>\n",
       "      <td>Sat</td>\n",
       "      <td>53705</td>\n",
       "      <td>4</td>\n",
       "      <td>13426.25</td>\n",
       "      <td>normal</td>\n",
       "    </tr>\n",
       "    <tr>\n",
       "      <th>6</th>\n",
       "      <td>1503960366</td>\n",
       "      <td>Sun</td>\n",
       "      <td>40406</td>\n",
       "      <td>4</td>\n",
       "      <td>10101.50</td>\n",
       "      <td>normal</td>\n",
       "    </tr>\n",
       "  </tbody>\n",
       "</table>\n",
       "</div>"
      ],
      "text/plain": [
       "           Id day_of_week  Steps  frequency  daily_steps bmi_group\n",
       "0  1503960366         Mon  55106          4     13776.50    normal\n",
       "1  1503960366         Tue  69729          5     13945.80    normal\n",
       "2  1503960366         Wed  62394          5     12478.80    normal\n",
       "3  1503960366         Thu  47417          5      9483.40    normal\n",
       "4  1503960366         Fri  45789          4     11447.25    normal\n",
       "5  1503960366         Sat  53705          4     13426.25    normal\n",
       "6  1503960366         Sun  40406          4     10101.50    normal"
      ]
     },
     "execution_count": 82,
     "metadata": {},
     "output_type": "execute_result"
    }
   ],
   "source": [
    "day_week_bmi_steps = calc_bmi_group(day_week_bmi_steps)\n",
    "day_week_bmi_steps.head(7)"
   ]
  },
  {
   "cell_type": "code",
   "execution_count": 83,
   "metadata": {},
   "outputs": [
    {
     "data": {
      "image/png": "[encoded data removed]",
      "text/plain": [
       "<Figure size 640x480 with 1 Axes>"
      ]
     },
     "metadata": {},
     "output_type": "display_data"
    }
   ],
   "source": [
    "sns.boxplot(\n",
    "    data=day_week_bmi_steps,\n",
    "    y='daily_steps',\n",
    "    x='bmi_group',\n",
    "    hue='day_of_week'\n",
    ").set(\n",
    "    title=\"Daily Steps by BMI Group\",\n",
    "    ylabel='Daily Steps',\n",
    "    xlabel=\"BMI Group\"\n",
    ")\n",
    "plt.legend(title=\"Day of Week\")\n",
    "plt.show()"
   ]
  },
  {
   "cell_type": "markdown",
   "metadata": {},
   "source": [
    "### Intensity by BMI Group"
   ]
  },
  {
   "cell_type": "code",
   "execution_count": 84,
   "metadata": {},
   "outputs": [
    {
     "data": {
      "text/html": [
       "<div>\n",
       "<style scoped>\n",
       "    .dataframe tbody tr th:only-of-type {\n",
       "        vertical-align: middle;\n",
       "    }\n",
       "\n",
       "    .dataframe tbody tr th {\n",
       "        vertical-align: top;\n",
       "    }\n",
       "\n",
       "    .dataframe thead th {\n",
       "        text-align: right;\n",
       "    }\n",
       "</style>\n",
       "<table border=\"1\" class=\"dataframe\">\n",
       "  <thead>\n",
       "    <tr style=\"text-align: right;\">\n",
       "      <th></th>\n",
       "      <th>Id</th>\n",
       "      <th>datetime</th>\n",
       "      <th>Intensity</th>\n",
       "      <th>intensity_name</th>\n",
       "    </tr>\n",
       "  </thead>\n",
       "  <tbody>\n",
       "    <tr>\n",
       "      <th>0</th>\n",
       "      <td>1503960366</td>\n",
       "      <td>2016-04-12 00:00:00</td>\n",
       "      <td>0</td>\n",
       "      <td>Sedentary</td>\n",
       "    </tr>\n",
       "    <tr>\n",
       "      <th>1</th>\n",
       "      <td>1503960366</td>\n",
       "      <td>2016-04-12 00:01:00</td>\n",
       "      <td>0</td>\n",
       "      <td>Sedentary</td>\n",
       "    </tr>\n",
       "    <tr>\n",
       "      <th>2</th>\n",
       "      <td>1503960366</td>\n",
       "      <td>2016-04-12 00:02:00</td>\n",
       "      <td>0</td>\n",
       "      <td>Sedentary</td>\n",
       "    </tr>\n",
       "    <tr>\n",
       "      <th>3</th>\n",
       "      <td>1503960366</td>\n",
       "      <td>2016-04-12 00:03:00</td>\n",
       "      <td>0</td>\n",
       "      <td>Sedentary</td>\n",
       "    </tr>\n",
       "    <tr>\n",
       "      <th>4</th>\n",
       "      <td>1503960366</td>\n",
       "      <td>2016-04-12 00:04:00</td>\n",
       "      <td>0</td>\n",
       "      <td>Sedentary</td>\n",
       "    </tr>\n",
       "    <tr>\n",
       "      <th>...</th>\n",
       "      <td>...</td>\n",
       "      <td>...</td>\n",
       "      <td>...</td>\n",
       "      <td>...</td>\n",
       "    </tr>\n",
       "    <tr>\n",
       "      <th>1325575</th>\n",
       "      <td>8877689391</td>\n",
       "      <td>2016-05-12 13:55:00</td>\n",
       "      <td>0</td>\n",
       "      <td>Sedentary</td>\n",
       "    </tr>\n",
       "    <tr>\n",
       "      <th>1325576</th>\n",
       "      <td>8877689391</td>\n",
       "      <td>2016-05-12 13:56:00</td>\n",
       "      <td>0</td>\n",
       "      <td>Sedentary</td>\n",
       "    </tr>\n",
       "    <tr>\n",
       "      <th>1325577</th>\n",
       "      <td>8877689391</td>\n",
       "      <td>2016-05-12 13:57:00</td>\n",
       "      <td>0</td>\n",
       "      <td>Sedentary</td>\n",
       "    </tr>\n",
       "    <tr>\n",
       "      <th>1325578</th>\n",
       "      <td>8877689391</td>\n",
       "      <td>2016-05-12 13:58:00</td>\n",
       "      <td>0</td>\n",
       "      <td>Sedentary</td>\n",
       "    </tr>\n",
       "    <tr>\n",
       "      <th>1325579</th>\n",
       "      <td>8877689391</td>\n",
       "      <td>2016-05-12 13:59:00</td>\n",
       "      <td>0</td>\n",
       "      <td>Sedentary</td>\n",
       "    </tr>\n",
       "  </tbody>\n",
       "</table>\n",
       "<p>305220 rows × 4 columns</p>\n",
       "</div>"
      ],
      "text/plain": [
       "                 Id            datetime  Intensity intensity_name\n",
       "0        1503960366 2016-04-12 00:00:00          0      Sedentary\n",
       "1        1503960366 2016-04-12 00:01:00          0      Sedentary\n",
       "2        1503960366 2016-04-12 00:02:00          0      Sedentary\n",
       "3        1503960366 2016-04-12 00:03:00          0      Sedentary\n",
       "4        1503960366 2016-04-12 00:04:00          0      Sedentary\n",
       "...             ...                 ...        ...            ...\n",
       "1325575  8877689391 2016-05-12 13:55:00          0      Sedentary\n",
       "1325576  8877689391 2016-05-12 13:56:00          0      Sedentary\n",
       "1325577  8877689391 2016-05-12 13:57:00          0      Sedentary\n",
       "1325578  8877689391 2016-05-12 13:58:00          0      Sedentary\n",
       "1325579  8877689391 2016-05-12 13:59:00          0      Sedentary\n",
       "\n",
       "[305220 rows x 4 columns]"
      ]
     },
     "execution_count": 84,
     "metadata": {},
     "output_type": "execute_result"
    }
   ],
   "source": [
    "bmi_intensity = intensity.query(\"Id in @normal_weight_users or Id in @overweight_users\")\n",
    "bmi_intensity"
   ]
  },
  {
   "cell_type": "code",
   "execution_count": 85,
   "metadata": {},
   "outputs": [
    {
     "data": {
      "text/plain": [
       "30"
      ]
     },
     "execution_count": 85,
     "metadata": {},
     "output_type": "execute_result"
    }
   ],
   "source": [
    "total_days = (bmi_intensity['datetime'].max() - bmi_intensity['datetime'].min()).days\n",
    "total_days"
   ]
  },
  {
   "cell_type": "code",
   "execution_count": 86,
   "metadata": {},
   "outputs": [
    {
     "data": {
      "text/html": [
       "<div>\n",
       "<style scoped>\n",
       "    .dataframe tbody tr th:only-of-type {\n",
       "        vertical-align: middle;\n",
       "    }\n",
       "\n",
       "    .dataframe tbody tr th {\n",
       "        vertical-align: top;\n",
       "    }\n",
       "\n",
       "    .dataframe thead th {\n",
       "        text-align: right;\n",
       "    }\n",
       "</style>\n",
       "<table border=\"1\" class=\"dataframe\">\n",
       "  <thead>\n",
       "    <tr style=\"text-align: right;\">\n",
       "      <th></th>\n",
       "      <th>Id</th>\n",
       "      <th>intensity_name</th>\n",
       "      <th>minutes</th>\n",
       "      <th>hours</th>\n",
       "      <th>hours_per_day</th>\n",
       "      <th>bmi_group</th>\n",
       "    </tr>\n",
       "  </thead>\n",
       "  <tbody>\n",
       "    <tr>\n",
       "      <th>0</th>\n",
       "      <td>1503960366</td>\n",
       "      <td>Light</td>\n",
       "      <td>6806</td>\n",
       "      <td>113.433333</td>\n",
       "      <td>3.781111</td>\n",
       "      <td>normal</td>\n",
       "    </tr>\n",
       "    <tr>\n",
       "      <th>1</th>\n",
       "      <td>1503960366</td>\n",
       "      <td>Moderate</td>\n",
       "      <td>594</td>\n",
       "      <td>9.900000</td>\n",
       "      <td>0.330000</td>\n",
       "      <td>normal</td>\n",
       "    </tr>\n",
       "    <tr>\n",
       "      <th>2</th>\n",
       "      <td>1503960366</td>\n",
       "      <td>Sedentary</td>\n",
       "      <td>34420</td>\n",
       "      <td>573.666667</td>\n",
       "      <td>19.122222</td>\n",
       "      <td>normal</td>\n",
       "    </tr>\n",
       "    <tr>\n",
       "      <th>3</th>\n",
       "      <td>1503960366</td>\n",
       "      <td>Very Active</td>\n",
       "      <td>1200</td>\n",
       "      <td>20.000000</td>\n",
       "      <td>0.666667</td>\n",
       "      <td>normal</td>\n",
       "    </tr>\n",
       "  </tbody>\n",
       "</table>\n",
       "</div>"
      ],
      "text/plain": [
       "           Id intensity_name  minutes       hours  hours_per_day bmi_group\n",
       "0  1503960366          Light     6806  113.433333       3.781111    normal\n",
       "1  1503960366       Moderate      594    9.900000       0.330000    normal\n",
       "2  1503960366      Sedentary    34420  573.666667      19.122222    normal\n",
       "3  1503960366    Very Active     1200   20.000000       0.666667    normal"
      ]
     },
     "execution_count": 86,
     "metadata": {},
     "output_type": "execute_result"
    }
   ],
   "source": [
    "bmi_intensity_minutes = bmi_intensity.groupby(['Id', 'intensity_name']).count()\n",
    "bmi_intensity_minutes = bmi_intensity_minutes.drop('datetime', axis=1)\n",
    "bmi_intensity_minutes = bmi_intensity_minutes.reset_index()\n",
    "bmi_intensity_minutes = bmi_intensity_minutes.rename(columns={'Intensity':'minutes'})\n",
    "bmi_intensity_minutes['hours'] = bmi_intensity_minutes['minutes'] / (60)\n",
    "bmi_intensity_minutes['hours_per_day'] = bmi_intensity_minutes['hours'] / total_days\n",
    "bmi_intensity_minutes = calc_bmi_group(bmi_intensity_minutes)\n",
    "bmi_intensity_minutes.head(4)"
   ]
  },
  {
   "cell_type": "code",
   "execution_count": 87,
   "metadata": {},
   "outputs": [],
   "source": [
    "bmi_intensity_minutes = bmi_intensity_minutes.query(\"intensity_name != 'Sedentary'\")\n",
    "bmi_intensity_minutes['intensity_name'] = pd.Categorical(bmi_intensity_minutes['intensity_name'], categories=['Light', 'Moderate', 'Very Active'], ordered=True)"
   ]
  },
  {
   "cell_type": "code",
   "execution_count": 88,
   "metadata": {},
   "outputs": [
    {
     "data": {
      "image/png": "[encoded data removed]",
      "text/plain": [
       "<Figure size 640x480 with 1 Axes>"
      ]
     },
     "metadata": {},
     "output_type": "display_data"
    }
   ],
   "source": [
    "sns.boxplot(\n",
    "    data=bmi_intensity_minutes,\n",
    "    x=\"bmi_group\",\n",
    "    y='hours_per_day',\n",
    "    hue='intensity_name'\n",
    ").set(\n",
    "    title='Intensity per BMI Group',\n",
    "    ylabel='Hours a Day',\n",
    "    xlabel='BMI Group'\n",
    ")\n",
    "plt.legend(title='Intensity Type')\n",
    "plt.show()"
   ]
  },
  {
   "cell_type": "code",
   "execution_count": 89,
   "metadata": {},
   "outputs": [
    {
     "data": {
      "text/html": [
       "<div>\n",
       "<style scoped>\n",
       "    .dataframe tbody tr th:only-of-type {\n",
       "        vertical-align: middle;\n",
       "    }\n",
       "\n",
       "    .dataframe tbody tr th {\n",
       "        vertical-align: top;\n",
       "    }\n",
       "\n",
       "    .dataframe thead th {\n",
       "        text-align: right;\n",
       "    }\n",
       "</style>\n",
       "<table border=\"1\" class=\"dataframe\">\n",
       "  <thead>\n",
       "    <tr style=\"text-align: right;\">\n",
       "      <th></th>\n",
       "      <th>Id</th>\n",
       "      <th>time_of_day</th>\n",
       "      <th>intensity_name</th>\n",
       "      <th>minutes</th>\n",
       "      <th>hours</th>\n",
       "      <th>hours_per_day</th>\n",
       "      <th>bmi_group</th>\n",
       "    </tr>\n",
       "  </thead>\n",
       "  <tbody>\n",
       "    <tr>\n",
       "      <th>0</th>\n",
       "      <td>1503960366</td>\n",
       "      <td>Morning</td>\n",
       "      <td>Light</td>\n",
       "      <td>1753</td>\n",
       "      <td>29.216667</td>\n",
       "      <td>0.973889</td>\n",
       "      <td>normal</td>\n",
       "    </tr>\n",
       "    <tr>\n",
       "      <th>1</th>\n",
       "      <td>1503960366</td>\n",
       "      <td>Morning</td>\n",
       "      <td>Moderate</td>\n",
       "      <td>43</td>\n",
       "      <td>0.716667</td>\n",
       "      <td>0.023889</td>\n",
       "      <td>normal</td>\n",
       "    </tr>\n",
       "    <tr>\n",
       "      <th>2</th>\n",
       "      <td>1503960366</td>\n",
       "      <td>Morning</td>\n",
       "      <td>Sedentary</td>\n",
       "      <td>8955</td>\n",
       "      <td>149.250000</td>\n",
       "      <td>4.975000</td>\n",
       "      <td>normal</td>\n",
       "    </tr>\n",
       "    <tr>\n",
       "      <th>3</th>\n",
       "      <td>1503960366</td>\n",
       "      <td>Morning</td>\n",
       "      <td>Very Active</td>\n",
       "      <td>49</td>\n",
       "      <td>0.816667</td>\n",
       "      <td>0.027222</td>\n",
       "      <td>normal</td>\n",
       "    </tr>\n",
       "    <tr>\n",
       "      <th>4</th>\n",
       "      <td>1503960366</td>\n",
       "      <td>Afternoon</td>\n",
       "      <td>Light</td>\n",
       "      <td>2199</td>\n",
       "      <td>36.650000</td>\n",
       "      <td>1.221667</td>\n",
       "      <td>normal</td>\n",
       "    </tr>\n",
       "    <tr>\n",
       "      <th>5</th>\n",
       "      <td>1503960366</td>\n",
       "      <td>Afternoon</td>\n",
       "      <td>Moderate</td>\n",
       "      <td>166</td>\n",
       "      <td>2.766667</td>\n",
       "      <td>0.092222</td>\n",
       "      <td>normal</td>\n",
       "    </tr>\n",
       "    <tr>\n",
       "      <th>6</th>\n",
       "      <td>1503960366</td>\n",
       "      <td>Afternoon</td>\n",
       "      <td>Sedentary</td>\n",
       "      <td>8107</td>\n",
       "      <td>135.116667</td>\n",
       "      <td>4.503889</td>\n",
       "      <td>normal</td>\n",
       "    </tr>\n",
       "    <tr>\n",
       "      <th>7</th>\n",
       "      <td>1503960366</td>\n",
       "      <td>Afternoon</td>\n",
       "      <td>Very Active</td>\n",
       "      <td>328</td>\n",
       "      <td>5.466667</td>\n",
       "      <td>0.182222</td>\n",
       "      <td>normal</td>\n",
       "    </tr>\n",
       "    <tr>\n",
       "      <th>8</th>\n",
       "      <td>1503960366</td>\n",
       "      <td>Evening</td>\n",
       "      <td>Light</td>\n",
       "      <td>2433</td>\n",
       "      <td>40.550000</td>\n",
       "      <td>1.351667</td>\n",
       "      <td>normal</td>\n",
       "    </tr>\n",
       "    <tr>\n",
       "      <th>9</th>\n",
       "      <td>1503960366</td>\n",
       "      <td>Evening</td>\n",
       "      <td>Moderate</td>\n",
       "      <td>384</td>\n",
       "      <td>6.400000</td>\n",
       "      <td>0.213333</td>\n",
       "      <td>normal</td>\n",
       "    </tr>\n",
       "    <tr>\n",
       "      <th>10</th>\n",
       "      <td>1503960366</td>\n",
       "      <td>Evening</td>\n",
       "      <td>Sedentary</td>\n",
       "      <td>6980</td>\n",
       "      <td>116.333333</td>\n",
       "      <td>3.877778</td>\n",
       "      <td>normal</td>\n",
       "    </tr>\n",
       "    <tr>\n",
       "      <th>11</th>\n",
       "      <td>1503960366</td>\n",
       "      <td>Evening</td>\n",
       "      <td>Very Active</td>\n",
       "      <td>823</td>\n",
       "      <td>13.716667</td>\n",
       "      <td>0.457222</td>\n",
       "      <td>normal</td>\n",
       "    </tr>\n",
       "    <tr>\n",
       "      <th>12</th>\n",
       "      <td>1503960366</td>\n",
       "      <td>Night</td>\n",
       "      <td>Light</td>\n",
       "      <td>421</td>\n",
       "      <td>7.016667</td>\n",
       "      <td>0.233889</td>\n",
       "      <td>normal</td>\n",
       "    </tr>\n",
       "    <tr>\n",
       "      <th>13</th>\n",
       "      <td>1503960366</td>\n",
       "      <td>Night</td>\n",
       "      <td>Moderate</td>\n",
       "      <td>1</td>\n",
       "      <td>0.016667</td>\n",
       "      <td>0.000556</td>\n",
       "      <td>normal</td>\n",
       "    </tr>\n",
       "    <tr>\n",
       "      <th>14</th>\n",
       "      <td>1503960366</td>\n",
       "      <td>Night</td>\n",
       "      <td>Sedentary</td>\n",
       "      <td>10378</td>\n",
       "      <td>172.966667</td>\n",
       "      <td>5.765556</td>\n",
       "      <td>normal</td>\n",
       "    </tr>\n",
       "    <tr>\n",
       "      <th>15</th>\n",
       "      <td>1503960366</td>\n",
       "      <td>Night</td>\n",
       "      <td>Very Active</td>\n",
       "      <td>0</td>\n",
       "      <td>0.000000</td>\n",
       "      <td>0.000000</td>\n",
       "      <td>normal</td>\n",
       "    </tr>\n",
       "  </tbody>\n",
       "</table>\n",
       "</div>"
      ],
      "text/plain": [
       "            Id time_of_day intensity_name  minutes       hours  hours_per_day  \\\n",
       "0   1503960366     Morning          Light     1753   29.216667       0.973889   \n",
       "1   1503960366     Morning       Moderate       43    0.716667       0.023889   \n",
       "2   1503960366     Morning      Sedentary     8955  149.250000       4.975000   \n",
       "3   1503960366     Morning    Very Active       49    0.816667       0.027222   \n",
       "4   1503960366   Afternoon          Light     2199   36.650000       1.221667   \n",
       "5   1503960366   Afternoon       Moderate      166    2.766667       0.092222   \n",
       "6   1503960366   Afternoon      Sedentary     8107  135.116667       4.503889   \n",
       "7   1503960366   Afternoon    Very Active      328    5.466667       0.182222   \n",
       "8   1503960366     Evening          Light     2433   40.550000       1.351667   \n",
       "9   1503960366     Evening       Moderate      384    6.400000       0.213333   \n",
       "10  1503960366     Evening      Sedentary     6980  116.333333       3.877778   \n",
       "11  1503960366     Evening    Very Active      823   13.716667       0.457222   \n",
       "12  1503960366       Night          Light      421    7.016667       0.233889   \n",
       "13  1503960366       Night       Moderate        1    0.016667       0.000556   \n",
       "14  1503960366       Night      Sedentary    10378  172.966667       5.765556   \n",
       "15  1503960366       Night    Very Active        0    0.000000       0.000000   \n",
       "\n",
       "   bmi_group  \n",
       "0     normal  \n",
       "1     normal  \n",
       "2     normal  \n",
       "3     normal  \n",
       "4     normal  \n",
       "5     normal  \n",
       "6     normal  \n",
       "7     normal  \n",
       "8     normal  \n",
       "9     normal  \n",
       "10    normal  \n",
       "11    normal  \n",
       "12    normal  \n",
       "13    normal  \n",
       "14    normal  \n",
       "15    normal  "
      ]
     },
     "execution_count": 89,
     "metadata": {},
     "output_type": "execute_result"
    }
   ],
   "source": [
    "bmi_intensity_times = calc_time_of_day(bmi_intensity)\n",
    "bmi_intensity_times = bmi_intensity_times.groupby(['Id','time_of_day', 'intensity_name', ]).count()\n",
    "bmi_intensity_times = bmi_intensity_times.drop('datetime', axis=1)\n",
    "bmi_intensity_times = bmi_intensity_times.reset_index()\n",
    "bmi_intensity_times = bmi_intensity_times.rename(columns={'Intensity':'minutes'})\n",
    "bmi_intensity_times['hours'] = bmi_intensity_times['minutes'] / (60)\n",
    "bmi_intensity_times['hours_per_day'] = bmi_intensity_times['hours'] / total_days\n",
    "bmi_intensity_times = calc_bmi_group(bmi_intensity_times)\n",
    "bmi_intensity_times.head(16)"
   ]
  },
  {
   "cell_type": "code",
   "execution_count": 90,
   "metadata": {},
   "outputs": [],
   "source": [
    "bmi_intensity_times = bmi_intensity_times.query(\"intensity_name != 'Sedentary'\")\n",
    "bmi_intensity_times['intensity_name'] = pd.Categorical(bmi_intensity_times['intensity_name'], categories=['Light', 'Moderate', 'Very Active'], ordered=True)"
   ]
  },
  {
   "cell_type": "code",
   "execution_count": 91,
   "metadata": {},
   "outputs": [
    {
     "data": {
      "text/plain": [
       "<matplotlib.legend.Legend at 0x1640bdafd60>"
      ]
     },
     "execution_count": 91,
     "metadata": {},
     "output_type": "execute_result"
    },
    {
     "data": {
      "image/png": "[encoded data removed]",
      "text/plain": [
       "<Figure size 640x480 with 1 Axes>"
      ]
     },
     "metadata": {},
     "output_type": "display_data"
    }
   ],
   "source": [
    "sns.boxplot(\n",
    "    data=bmi_intensity_times.query(\"bmi_group == 'normal'\"),\n",
    "    y='hours_per_day',\n",
    "    x='time_of_day',\n",
    "    hue='intensity_name'\n",
    ").set(\n",
    "    title='Intensity per Day - Normal Weight Users',\n",
    "    xlabel=\"Time of Day\",\n",
    "    ylabel=\"Hours per Day\",\n",
    ")\n",
    "plt.legend(title='Intensity Level')"
   ]
  },
  {
   "cell_type": "code",
   "execution_count": 92,
   "metadata": {},
   "outputs": [
    {
     "data": {
      "image/png": "[encoded data removed]",
      "text/plain": [
       "<Figure size 640x480 with 1 Axes>"
      ]
     },
     "metadata": {},
     "output_type": "display_data"
    }
   ],
   "source": [
    "sns.boxplot(\n",
    "    data=bmi_intensity_times.query(\"bmi_group == 'overweight'\"),\n",
    "    y='hours_per_day',\n",
    "    x='time_of_day',\n",
    "    hue='intensity_name'\n",
    ").set(\n",
    "    title='Intensity per Day - Overweight Users',\n",
    "    xlabel=\"Time of Day\",\n",
    "    ylabel=\"Hours per Day\",\n",
    ")\n",
    "plt.legend(title='Intensity Level')\n",
    "plt.show()"
   ]
  },
  {
   "cell_type": "code",
   "execution_count": 93,
   "metadata": {},
   "outputs": [
    {
     "data": {
      "text/html": [
       "<div>\n",
       "<style scoped>\n",
       "    .dataframe tbody tr th:only-of-type {\n",
       "        vertical-align: middle;\n",
       "    }\n",
       "\n",
       "    .dataframe tbody tr th {\n",
       "        vertical-align: top;\n",
       "    }\n",
       "\n",
       "    .dataframe thead th {\n",
       "        text-align: right;\n",
       "    }\n",
       "</style>\n",
       "<table border=\"1\" class=\"dataframe\">\n",
       "  <thead>\n",
       "    <tr style=\"text-align: right;\">\n",
       "      <th></th>\n",
       "      <th>Id</th>\n",
       "      <th>day_of_week</th>\n",
       "      <th>intensity_name</th>\n",
       "      <th>minutes</th>\n",
       "      <th>time_of_day</th>\n",
       "      <th>hours</th>\n",
       "      <th>frequency</th>\n",
       "      <th>hours_per_day</th>\n",
       "      <th>bmi_group</th>\n",
       "    </tr>\n",
       "  </thead>\n",
       "  <tbody>\n",
       "    <tr>\n",
       "      <th>0</th>\n",
       "      <td>1503960366</td>\n",
       "      <td>Mon</td>\n",
       "      <td>Light</td>\n",
       "      <td>932</td>\n",
       "      <td>932</td>\n",
       "      <td>15.533333</td>\n",
       "      <td>4</td>\n",
       "      <td>3.883333</td>\n",
       "      <td>normal</td>\n",
       "    </tr>\n",
       "    <tr>\n",
       "      <th>1</th>\n",
       "      <td>1503960366</td>\n",
       "      <td>Mon</td>\n",
       "      <td>Moderate</td>\n",
       "      <td>56</td>\n",
       "      <td>56</td>\n",
       "      <td>0.933333</td>\n",
       "      <td>4</td>\n",
       "      <td>0.233333</td>\n",
       "      <td>normal</td>\n",
       "    </tr>\n",
       "    <tr>\n",
       "      <th>2</th>\n",
       "      <td>1503960366</td>\n",
       "      <td>Mon</td>\n",
       "      <td>Sedentary</td>\n",
       "      <td>4570</td>\n",
       "      <td>4570</td>\n",
       "      <td>76.166667</td>\n",
       "      <td>4</td>\n",
       "      <td>19.041667</td>\n",
       "      <td>normal</td>\n",
       "    </tr>\n",
       "    <tr>\n",
       "      <th>3</th>\n",
       "      <td>1503960366</td>\n",
       "      <td>Mon</td>\n",
       "      <td>Very Active</td>\n",
       "      <td>202</td>\n",
       "      <td>202</td>\n",
       "      <td>3.366667</td>\n",
       "      <td>4</td>\n",
       "      <td>0.841667</td>\n",
       "      <td>normal</td>\n",
       "    </tr>\n",
       "    <tr>\n",
       "      <th>4</th>\n",
       "      <td>1503960366</td>\n",
       "      <td>Tue</td>\n",
       "      <td>Light</td>\n",
       "      <td>1339</td>\n",
       "      <td>1339</td>\n",
       "      <td>22.316667</td>\n",
       "      <td>5</td>\n",
       "      <td>4.463333</td>\n",
       "      <td>normal</td>\n",
       "    </tr>\n",
       "  </tbody>\n",
       "</table>\n",
       "</div>"
      ],
      "text/plain": [
       "           Id day_of_week intensity_name  minutes  time_of_day      hours  \\\n",
       "0  1503960366         Mon          Light      932          932  15.533333   \n",
       "1  1503960366         Mon       Moderate       56           56   0.933333   \n",
       "2  1503960366         Mon      Sedentary     4570         4570  76.166667   \n",
       "3  1503960366         Mon    Very Active      202          202   3.366667   \n",
       "4  1503960366         Tue          Light     1339         1339  22.316667   \n",
       "\n",
       "   frequency  hours_per_day bmi_group  \n",
       "0          4       3.883333    normal  \n",
       "1          4       0.233333    normal  \n",
       "2          4      19.041667    normal  \n",
       "3          4       0.841667    normal  \n",
       "4          5       4.463333    normal  "
      ]
     },
     "execution_count": 93,
     "metadata": {},
     "output_type": "execute_result"
    }
   ],
   "source": [
    "bmi_intensity_week = calc_day_of_week(bmi_intensity)\n",
    "bmi_intensity_week = bmi_intensity_week.groupby(['Id','day_of_week', 'intensity_name', ]).count()\n",
    "bmi_intensity_week = bmi_intensity_week.drop('datetime', axis=1)\n",
    "bmi_intensity_week = bmi_intensity_week.reset_index()\n",
    "bmi_intensity_week = bmi_intensity_week.rename(columns={'Intensity':'minutes'})\n",
    "bmi_intensity_week['hours'] = bmi_intensity_week['minutes'] / (60)\n",
    "\n",
    "days = pd.DataFrame(\n",
    "    get_date(bmi_intensity)['date'].unique(),\n",
    "    columns=['date']\n",
    ")\n",
    "days = calc_day_of_week(days, datetime_col='date')\n",
    "days = days.value_counts(['day_of_week'])\n",
    "days = pd.DataFrame(days, columns=['frequency'])\n",
    "days = days.reset_index()\n",
    "\n",
    "bmi_intensity_week = bmi_intensity_week.merge(right=days, on='day_of_week', how='left')\n",
    "bmi_intensity_week['hours_per_day'] = bmi_intensity_week['hours'] / bmi_intensity_week['frequency']\n",
    "\n",
    "bmi_intensity_week = calc_bmi_group(bmi_intensity_week)\n",
    "bmi_intensity_week.head()"
   ]
  },
  {
   "cell_type": "code",
   "execution_count": 94,
   "metadata": {},
   "outputs": [],
   "source": [
    "bmi_intensity_week = bmi_intensity_week.query(\"intensity_name != 'Sedentary'\")\n",
    "bmi_intensity_week['intensity_name'] = pd.Categorical(bmi_intensity_week['intensity_name'], categories=['Light', 'Moderate', 'Very Active'], ordered=True)"
   ]
  },
  {
   "cell_type": "code",
   "execution_count": 95,
   "metadata": {},
   "outputs": [
    {
     "data": {
      "image/png": "[encoded data removed]",
      "text/plain": [
       "<Figure size 640x480 with 1 Axes>"
      ]
     },
     "metadata": {},
     "output_type": "display_data"
    }
   ],
   "source": [
    "sns.boxplot(\n",
    "    data=bmi_intensity_week.query(\"bmi_group == 'normal'\"),\n",
    "    y='hours_per_day',\n",
    "    x='day_of_week',\n",
    "    hue='intensity_name'\n",
    ").set(\n",
    "    title='Intensity per Day - Normal Weight Users',\n",
    "    xlabel=\"Day of Week\",\n",
    "    ylabel=\"Hours per Day\",\n",
    ")\n",
    "plt.legend(title='Intensity Level')\n",
    "plt.show()"
   ]
  },
  {
   "cell_type": "code",
   "execution_count": 96,
   "metadata": {},
   "outputs": [
    {
     "data": {
      "image/png": "[encoded data removed]",
      "text/plain": [
       "<Figure size 640x480 with 1 Axes>"
      ]
     },
     "metadata": {},
     "output_type": "display_data"
    }
   ],
   "source": [
    "sns.boxplot(\n",
    "    data=bmi_intensity_week.query(\"bmi_group == 'overweight'\"),\n",
    "    y='hours_per_day',\n",
    "    x='day_of_week',\n",
    "    hue='intensity_name'\n",
    ").set(\n",
    "    title='Intensity per Day - Overweight Users',\n",
    "    xlabel=\"Day of Week\",\n",
    "    ylabel=\"Hours per Day\",\n",
    ")\n",
    "plt.legend(title='Intensity Level')\n",
    "plt.show()"
   ]
  },
  {
   "cell_type": "markdown",
   "metadata": {},
   "source": [
    "### Sleep by BMI Group"
   ]
  },
  {
   "cell_type": "code",
   "execution_count": 97,
   "metadata": {},
   "outputs": [],
   "source": [
    "bmi_sleep = sleep.query(\"Id in @normal_weight_users or Id in @overweight_users\")\n",
    "bmi_sleep = bmi_sleep.drop(['value', 'logId'], axis=1)"
   ]
  },
  {
   "cell_type": "code",
   "execution_count": 98,
   "metadata": {},
   "outputs": [
    {
     "data": {
      "text/html": [
       "<div>\n",
       "<style scoped>\n",
       "    .dataframe tbody tr th:only-of-type {\n",
       "        vertical-align: middle;\n",
       "    }\n",
       "\n",
       "    .dataframe tbody tr th {\n",
       "        vertical-align: top;\n",
       "    }\n",
       "\n",
       "    .dataframe thead th {\n",
       "        text-align: right;\n",
       "    }\n",
       "</style>\n",
       "<table border=\"1\" class=\"dataframe\">\n",
       "  <thead>\n",
       "    <tr style=\"text-align: right;\">\n",
       "      <th></th>\n",
       "      <th>Id</th>\n",
       "      <th>type</th>\n",
       "      <th>minutes</th>\n",
       "      <th>hours</th>\n",
       "      <th>hours_per_day</th>\n",
       "      <th>bmi_group</th>\n",
       "    </tr>\n",
       "  </thead>\n",
       "  <tbody>\n",
       "    <tr>\n",
       "      <th>0</th>\n",
       "      <td>1503960366</td>\n",
       "      <td>asleep</td>\n",
       "      <td>9007</td>\n",
       "      <td>150.116667</td>\n",
       "      <td>5.003889</td>\n",
       "      <td>normal</td>\n",
       "    </tr>\n",
       "    <tr>\n",
       "      <th>1</th>\n",
       "      <td>1503960366</td>\n",
       "      <td>awake</td>\n",
       "      <td>73</td>\n",
       "      <td>1.216667</td>\n",
       "      <td>0.040556</td>\n",
       "      <td>normal</td>\n",
       "    </tr>\n",
       "    <tr>\n",
       "      <th>2</th>\n",
       "      <td>1503960366</td>\n",
       "      <td>restless</td>\n",
       "      <td>500</td>\n",
       "      <td>8.333333</td>\n",
       "      <td>0.277778</td>\n",
       "      <td>normal</td>\n",
       "    </tr>\n",
       "    <tr>\n",
       "      <th>3</th>\n",
       "      <td>4319703577</td>\n",
       "      <td>asleep</td>\n",
       "      <td>12393</td>\n",
       "      <td>206.550000</td>\n",
       "      <td>6.885000</td>\n",
       "      <td>overweight</td>\n",
       "    </tr>\n",
       "    <tr>\n",
       "      <th>4</th>\n",
       "      <td>4319703577</td>\n",
       "      <td>awake</td>\n",
       "      <td>85</td>\n",
       "      <td>1.416667</td>\n",
       "      <td>0.047222</td>\n",
       "      <td>overweight</td>\n",
       "    </tr>\n",
       "  </tbody>\n",
       "</table>\n",
       "</div>"
      ],
      "text/plain": [
       "           Id      type  minutes       hours  hours_per_day   bmi_group\n",
       "0  1503960366    asleep     9007  150.116667       5.003889      normal\n",
       "1  1503960366     awake       73    1.216667       0.040556      normal\n",
       "2  1503960366  restless      500    8.333333       0.277778      normal\n",
       "3  4319703577    asleep    12393  206.550000       6.885000  overweight\n",
       "4  4319703577     awake       85    1.416667       0.047222  overweight"
      ]
     },
     "execution_count": 98,
     "metadata": {},
     "output_type": "execute_result"
    }
   ],
   "source": [
    "bmi_sleep_base = bmi_sleep.groupby(['Id', 'type']).count()\n",
    "bmi_sleep_base = bmi_sleep_base.reset_index()\n",
    "bmi_sleep_base = bmi_sleep_base.rename(columns={\"datetime\":\"minutes\"})\n",
    "bmi_sleep_base['hours'] = bmi_sleep_base['minutes'] / 60\n",
    "total_days = (sleep['datetime'].max() - sleep['datetime'].min()).days\n",
    "bmi_sleep_base['hours_per_day'] = bmi_sleep_base['hours'] / total_days\n",
    "bmi_sleep_base = calc_bmi_group(bmi_sleep_base)\n",
    "bmi_sleep_base.head()"
   ]
  },
  {
   "cell_type": "code",
   "execution_count": 99,
   "metadata": {},
   "outputs": [
    {
     "data": {
      "image/png": "[encoded data removed]",
      "text/plain": [
       "<Figure size 640x480 with 1 Axes>"
      ]
     },
     "metadata": {},
     "output_type": "display_data"
    }
   ],
   "source": [
    "sns.boxplot(\n",
    "    data=bmi_sleep_base,\n",
    "    y='hours_per_day',\n",
    "    x='bmi_group',\n",
    "    hue='type'\n",
    ").set(\n",
    "    title='Hours of Sleep per Night by BMI Group',\n",
    "    xlabel=\"BMI Group\",\n",
    "    ylabel=\"Hours per Night\",\n",
    ")\n",
    "plt.legend(title=\"Type of Sleep\")\n",
    "plt.show()"
   ]
  },
  {
   "cell_type": "code",
   "execution_count": 100,
   "metadata": {},
   "outputs": [
    {
     "data": {
      "text/html": [
       "<div>\n",
       "<style scoped>\n",
       "    .dataframe tbody tr th:only-of-type {\n",
       "        vertical-align: middle;\n",
       "    }\n",
       "\n",
       "    .dataframe tbody tr th {\n",
       "        vertical-align: top;\n",
       "    }\n",
       "\n",
       "    .dataframe thead th {\n",
       "        text-align: right;\n",
       "    }\n",
       "</style>\n",
       "<table border=\"1\" class=\"dataframe\">\n",
       "  <thead>\n",
       "    <tr style=\"text-align: right;\">\n",
       "      <th></th>\n",
       "      <th>Id</th>\n",
       "      <th>time_of_day</th>\n",
       "      <th>type</th>\n",
       "      <th>minutes</th>\n",
       "      <th>hours</th>\n",
       "      <th>hours_per_day</th>\n",
       "      <th>bmi_group</th>\n",
       "    </tr>\n",
       "  </thead>\n",
       "  <tbody>\n",
       "    <tr>\n",
       "      <th>0</th>\n",
       "      <td>1503960366</td>\n",
       "      <td>Morning</td>\n",
       "      <td>asleep</td>\n",
       "      <td>3683</td>\n",
       "      <td>61.383333</td>\n",
       "      <td>2.046111</td>\n",
       "      <td>normal</td>\n",
       "    </tr>\n",
       "    <tr>\n",
       "      <th>1</th>\n",
       "      <td>1503960366</td>\n",
       "      <td>Morning</td>\n",
       "      <td>awake</td>\n",
       "      <td>36</td>\n",
       "      <td>0.600000</td>\n",
       "      <td>0.020000</td>\n",
       "      <td>normal</td>\n",
       "    </tr>\n",
       "    <tr>\n",
       "      <th>2</th>\n",
       "      <td>1503960366</td>\n",
       "      <td>Morning</td>\n",
       "      <td>restless</td>\n",
       "      <td>355</td>\n",
       "      <td>5.916667</td>\n",
       "      <td>0.197222</td>\n",
       "      <td>normal</td>\n",
       "    </tr>\n",
       "    <tr>\n",
       "      <th>3</th>\n",
       "      <td>1503960366</td>\n",
       "      <td>Afternoon</td>\n",
       "      <td>asleep</td>\n",
       "      <td>0</td>\n",
       "      <td>0.000000</td>\n",
       "      <td>0.000000</td>\n",
       "      <td>normal</td>\n",
       "    </tr>\n",
       "    <tr>\n",
       "      <th>4</th>\n",
       "      <td>1503960366</td>\n",
       "      <td>Afternoon</td>\n",
       "      <td>awake</td>\n",
       "      <td>0</td>\n",
       "      <td>0.000000</td>\n",
       "      <td>0.000000</td>\n",
       "      <td>normal</td>\n",
       "    </tr>\n",
       "    <tr>\n",
       "      <th>5</th>\n",
       "      <td>1503960366</td>\n",
       "      <td>Afternoon</td>\n",
       "      <td>restless</td>\n",
       "      <td>0</td>\n",
       "      <td>0.000000</td>\n",
       "      <td>0.000000</td>\n",
       "      <td>normal</td>\n",
       "    </tr>\n",
       "    <tr>\n",
       "      <th>6</th>\n",
       "      <td>1503960366</td>\n",
       "      <td>Evening</td>\n",
       "      <td>asleep</td>\n",
       "      <td>126</td>\n",
       "      <td>2.100000</td>\n",
       "      <td>0.070000</td>\n",
       "      <td>normal</td>\n",
       "    </tr>\n",
       "    <tr>\n",
       "      <th>7</th>\n",
       "      <td>1503960366</td>\n",
       "      <td>Evening</td>\n",
       "      <td>awake</td>\n",
       "      <td>0</td>\n",
       "      <td>0.000000</td>\n",
       "      <td>0.000000</td>\n",
       "      <td>normal</td>\n",
       "    </tr>\n",
       "    <tr>\n",
       "      <th>8</th>\n",
       "      <td>1503960366</td>\n",
       "      <td>Evening</td>\n",
       "      <td>restless</td>\n",
       "      <td>1</td>\n",
       "      <td>0.016667</td>\n",
       "      <td>0.000556</td>\n",
       "      <td>normal</td>\n",
       "    </tr>\n",
       "    <tr>\n",
       "      <th>9</th>\n",
       "      <td>1503960366</td>\n",
       "      <td>Night</td>\n",
       "      <td>asleep</td>\n",
       "      <td>5198</td>\n",
       "      <td>86.633333</td>\n",
       "      <td>2.887778</td>\n",
       "      <td>normal</td>\n",
       "    </tr>\n",
       "    <tr>\n",
       "      <th>10</th>\n",
       "      <td>1503960366</td>\n",
       "      <td>Night</td>\n",
       "      <td>awake</td>\n",
       "      <td>37</td>\n",
       "      <td>0.616667</td>\n",
       "      <td>0.020556</td>\n",
       "      <td>normal</td>\n",
       "    </tr>\n",
       "    <tr>\n",
       "      <th>11</th>\n",
       "      <td>1503960366</td>\n",
       "      <td>Night</td>\n",
       "      <td>restless</td>\n",
       "      <td>144</td>\n",
       "      <td>2.400000</td>\n",
       "      <td>0.080000</td>\n",
       "      <td>normal</td>\n",
       "    </tr>\n",
       "  </tbody>\n",
       "</table>\n",
       "</div>"
      ],
      "text/plain": [
       "            Id time_of_day      type  minutes      hours  hours_per_day  \\\n",
       "0   1503960366     Morning    asleep     3683  61.383333       2.046111   \n",
       "1   1503960366     Morning     awake       36   0.600000       0.020000   \n",
       "2   1503960366     Morning  restless      355   5.916667       0.197222   \n",
       "3   1503960366   Afternoon    asleep        0   0.000000       0.000000   \n",
       "4   1503960366   Afternoon     awake        0   0.000000       0.000000   \n",
       "5   1503960366   Afternoon  restless        0   0.000000       0.000000   \n",
       "6   1503960366     Evening    asleep      126   2.100000       0.070000   \n",
       "7   1503960366     Evening     awake        0   0.000000       0.000000   \n",
       "8   1503960366     Evening  restless        1   0.016667       0.000556   \n",
       "9   1503960366       Night    asleep     5198  86.633333       2.887778   \n",
       "10  1503960366       Night     awake       37   0.616667       0.020556   \n",
       "11  1503960366       Night  restless      144   2.400000       0.080000   \n",
       "\n",
       "   bmi_group  \n",
       "0     normal  \n",
       "1     normal  \n",
       "2     normal  \n",
       "3     normal  \n",
       "4     normal  \n",
       "5     normal  \n",
       "6     normal  \n",
       "7     normal  \n",
       "8     normal  \n",
       "9     normal  \n",
       "10    normal  \n",
       "11    normal  "
      ]
     },
     "execution_count": 100,
     "metadata": {},
     "output_type": "execute_result"
    }
   ],
   "source": [
    "bmi_sleep_times = calc_time_of_day(bmi_sleep)\n",
    "bmi_sleep_times = bmi_sleep_times.groupby(['Id', 'time_of_day', 'type']).count()\n",
    "bmi_sleep_times = bmi_sleep_times.reset_index()\n",
    "bmi_sleep_times = bmi_sleep_times.rename(columns={\"datetime\":\"minutes\"})\n",
    "bmi_sleep_times['hours'] = bmi_sleep_times['minutes'] / 60\n",
    "total_days = (sleep['datetime'].max() - sleep['datetime'].min()).days\n",
    "bmi_sleep_times['hours_per_day'] = bmi_sleep_times['hours'] / total_days\n",
    "bmi_sleep_times = calc_bmi_group(bmi_sleep_times)\n",
    "bmi_sleep_times.head(12)"
   ]
  },
  {
   "cell_type": "code",
   "execution_count": 101,
   "metadata": {},
   "outputs": [
    {
     "data": {
      "image/png": "[encoded data removed]",
      "text/plain": [
       "<Figure size 640x480 with 1 Axes>"
      ]
     },
     "metadata": {},
     "output_type": "display_data"
    }
   ],
   "source": [
    "sns.boxplot(\n",
    "    data=bmi_sleep_times.query(\"bmi_group == 'normal'\"),\n",
    "    y='hours_per_day',\n",
    "    x='time_of_day',\n",
    "    hue='type'\n",
    ").set(\n",
    "    title='Hours of Sleep per Night - Normal Weight Users',\n",
    "    xlabel=\"BMI Group\",\n",
    "    ylabel=\"Hours per Night\",\n",
    ")\n",
    "plt.legend(title=\"Type of Sleep\")\n",
    "plt.show()"
   ]
  },
  {
   "cell_type": "code",
   "execution_count": 102,
   "metadata": {},
   "outputs": [
    {
     "data": {
      "image/png": "[encoded data removed]",
      "text/plain": [
       "<Figure size 640x480 with 1 Axes>"
      ]
     },
     "metadata": {},
     "output_type": "display_data"
    }
   ],
   "source": [
    "sns.boxplot(\n",
    "    data=bmi_sleep_times.query(\"bmi_group == 'overweight'\"),\n",
    "    y='hours_per_day',\n",
    "    x='time_of_day',\n",
    "    hue='type'\n",
    ").set(\n",
    "    title='Hours of Sleep per Night - Overweight Users',\n",
    "    xlabel=\"BMI Group\",\n",
    "    ylabel=\"Hours per Night\",\n",
    ")\n",
    "plt.legend(title=\"Type of Sleep\")\n",
    "plt.show()"
   ]
  },
  {
   "cell_type": "code",
   "execution_count": 103,
   "metadata": {},
   "outputs": [
    {
     "data": {
      "text/html": [
       "<div>\n",
       "<style scoped>\n",
       "    .dataframe tbody tr th:only-of-type {\n",
       "        vertical-align: middle;\n",
       "    }\n",
       "\n",
       "    .dataframe tbody tr th {\n",
       "        vertical-align: top;\n",
       "    }\n",
       "\n",
       "    .dataframe thead th {\n",
       "        text-align: right;\n",
       "    }\n",
       "</style>\n",
       "<table border=\"1\" class=\"dataframe\">\n",
       "  <thead>\n",
       "    <tr style=\"text-align: right;\">\n",
       "      <th></th>\n",
       "      <th>Id</th>\n",
       "      <th>day_of_week</th>\n",
       "      <th>type</th>\n",
       "      <th>minutes</th>\n",
       "      <th>time_of_day</th>\n",
       "      <th>hours</th>\n",
       "      <th>frequency</th>\n",
       "      <th>hours_per_day</th>\n",
       "      <th>bmi_group</th>\n",
       "    </tr>\n",
       "  </thead>\n",
       "  <tbody>\n",
       "    <tr>\n",
       "      <th>0</th>\n",
       "      <td>1503960366</td>\n",
       "      <td>Mon</td>\n",
       "      <td>asleep</td>\n",
       "      <td>892</td>\n",
       "      <td>892</td>\n",
       "      <td>14.866667</td>\n",
       "      <td>5</td>\n",
       "      <td>2.973333</td>\n",
       "      <td>normal</td>\n",
       "    </tr>\n",
       "    <tr>\n",
       "      <th>1</th>\n",
       "      <td>1503960366</td>\n",
       "      <td>Mon</td>\n",
       "      <td>awake</td>\n",
       "      <td>12</td>\n",
       "      <td>12</td>\n",
       "      <td>0.200000</td>\n",
       "      <td>5</td>\n",
       "      <td>0.040000</td>\n",
       "      <td>normal</td>\n",
       "    </tr>\n",
       "    <tr>\n",
       "      <th>2</th>\n",
       "      <td>1503960366</td>\n",
       "      <td>Mon</td>\n",
       "      <td>restless</td>\n",
       "      <td>70</td>\n",
       "      <td>70</td>\n",
       "      <td>1.166667</td>\n",
       "      <td>5</td>\n",
       "      <td>0.233333</td>\n",
       "      <td>normal</td>\n",
       "    </tr>\n",
       "    <tr>\n",
       "      <th>3</th>\n",
       "      <td>1503960366</td>\n",
       "      <td>Tue</td>\n",
       "      <td>asleep</td>\n",
       "      <td>1532</td>\n",
       "      <td>1532</td>\n",
       "      <td>25.533333</td>\n",
       "      <td>5</td>\n",
       "      <td>5.106667</td>\n",
       "      <td>normal</td>\n",
       "    </tr>\n",
       "    <tr>\n",
       "      <th>4</th>\n",
       "      <td>1503960366</td>\n",
       "      <td>Tue</td>\n",
       "      <td>awake</td>\n",
       "      <td>13</td>\n",
       "      <td>13</td>\n",
       "      <td>0.216667</td>\n",
       "      <td>5</td>\n",
       "      <td>0.043333</td>\n",
       "      <td>normal</td>\n",
       "    </tr>\n",
       "    <tr>\n",
       "      <th>5</th>\n",
       "      <td>1503960366</td>\n",
       "      <td>Tue</td>\n",
       "      <td>restless</td>\n",
       "      <td>94</td>\n",
       "      <td>94</td>\n",
       "      <td>1.566667</td>\n",
       "      <td>5</td>\n",
       "      <td>0.313333</td>\n",
       "      <td>normal</td>\n",
       "    </tr>\n",
       "    <tr>\n",
       "      <th>6</th>\n",
       "      <td>1503960366</td>\n",
       "      <td>Wed</td>\n",
       "      <td>asleep</td>\n",
       "      <td>1029</td>\n",
       "      <td>1029</td>\n",
       "      <td>17.150000</td>\n",
       "      <td>5</td>\n",
       "      <td>3.430000</td>\n",
       "      <td>normal</td>\n",
       "    </tr>\n",
       "    <tr>\n",
       "      <th>7</th>\n",
       "      <td>1503960366</td>\n",
       "      <td>Wed</td>\n",
       "      <td>awake</td>\n",
       "      <td>15</td>\n",
       "      <td>15</td>\n",
       "      <td>0.250000</td>\n",
       "      <td>5</td>\n",
       "      <td>0.050000</td>\n",
       "      <td>normal</td>\n",
       "    </tr>\n",
       "    <tr>\n",
       "      <th>8</th>\n",
       "      <td>1503960366</td>\n",
       "      <td>Wed</td>\n",
       "      <td>restless</td>\n",
       "      <td>46</td>\n",
       "      <td>46</td>\n",
       "      <td>0.766667</td>\n",
       "      <td>5</td>\n",
       "      <td>0.153333</td>\n",
       "      <td>normal</td>\n",
       "    </tr>\n",
       "    <tr>\n",
       "      <th>9</th>\n",
       "      <td>1503960366</td>\n",
       "      <td>Thu</td>\n",
       "      <td>asleep</td>\n",
       "      <td>938</td>\n",
       "      <td>938</td>\n",
       "      <td>15.633333</td>\n",
       "      <td>5</td>\n",
       "      <td>3.126667</td>\n",
       "      <td>normal</td>\n",
       "    </tr>\n",
       "    <tr>\n",
       "      <th>10</th>\n",
       "      <td>1503960366</td>\n",
       "      <td>Thu</td>\n",
       "      <td>awake</td>\n",
       "      <td>5</td>\n",
       "      <td>5</td>\n",
       "      <td>0.083333</td>\n",
       "      <td>5</td>\n",
       "      <td>0.016667</td>\n",
       "      <td>normal</td>\n",
       "    </tr>\n",
       "    <tr>\n",
       "      <th>11</th>\n",
       "      <td>1503960366</td>\n",
       "      <td>Thu</td>\n",
       "      <td>restless</td>\n",
       "      <td>78</td>\n",
       "      <td>78</td>\n",
       "      <td>1.300000</td>\n",
       "      <td>5</td>\n",
       "      <td>0.260000</td>\n",
       "      <td>normal</td>\n",
       "    </tr>\n",
       "    <tr>\n",
       "      <th>12</th>\n",
       "      <td>1503960366</td>\n",
       "      <td>Fri</td>\n",
       "      <td>asleep</td>\n",
       "      <td>1087</td>\n",
       "      <td>1087</td>\n",
       "      <td>18.116667</td>\n",
       "      <td>4</td>\n",
       "      <td>4.529167</td>\n",
       "      <td>normal</td>\n",
       "    </tr>\n",
       "    <tr>\n",
       "      <th>13</th>\n",
       "      <td>1503960366</td>\n",
       "      <td>Fri</td>\n",
       "      <td>awake</td>\n",
       "      <td>10</td>\n",
       "      <td>10</td>\n",
       "      <td>0.166667</td>\n",
       "      <td>4</td>\n",
       "      <td>0.041667</td>\n",
       "      <td>normal</td>\n",
       "    </tr>\n",
       "    <tr>\n",
       "      <th>14</th>\n",
       "      <td>1503960366</td>\n",
       "      <td>Fri</td>\n",
       "      <td>restless</td>\n",
       "      <td>66</td>\n",
       "      <td>66</td>\n",
       "      <td>1.100000</td>\n",
       "      <td>4</td>\n",
       "      <td>0.275000</td>\n",
       "      <td>normal</td>\n",
       "    </tr>\n",
       "    <tr>\n",
       "      <th>15</th>\n",
       "      <td>1503960366</td>\n",
       "      <td>Sat</td>\n",
       "      <td>asleep</td>\n",
       "      <td>1468</td>\n",
       "      <td>1468</td>\n",
       "      <td>24.466667</td>\n",
       "      <td>4</td>\n",
       "      <td>6.116667</td>\n",
       "      <td>normal</td>\n",
       "    </tr>\n",
       "    <tr>\n",
       "      <th>16</th>\n",
       "      <td>1503960366</td>\n",
       "      <td>Sat</td>\n",
       "      <td>awake</td>\n",
       "      <td>12</td>\n",
       "      <td>12</td>\n",
       "      <td>0.200000</td>\n",
       "      <td>4</td>\n",
       "      <td>0.050000</td>\n",
       "      <td>normal</td>\n",
       "    </tr>\n",
       "    <tr>\n",
       "      <th>17</th>\n",
       "      <td>1503960366</td>\n",
       "      <td>Sat</td>\n",
       "      <td>restless</td>\n",
       "      <td>78</td>\n",
       "      <td>78</td>\n",
       "      <td>1.300000</td>\n",
       "      <td>4</td>\n",
       "      <td>0.325000</td>\n",
       "      <td>normal</td>\n",
       "    </tr>\n",
       "    <tr>\n",
       "      <th>18</th>\n",
       "      <td>1503960366</td>\n",
       "      <td>Sun</td>\n",
       "      <td>asleep</td>\n",
       "      <td>2061</td>\n",
       "      <td>2061</td>\n",
       "      <td>34.350000</td>\n",
       "      <td>4</td>\n",
       "      <td>8.587500</td>\n",
       "      <td>normal</td>\n",
       "    </tr>\n",
       "    <tr>\n",
       "      <th>19</th>\n",
       "      <td>1503960366</td>\n",
       "      <td>Sun</td>\n",
       "      <td>awake</td>\n",
       "      <td>6</td>\n",
       "      <td>6</td>\n",
       "      <td>0.100000</td>\n",
       "      <td>4</td>\n",
       "      <td>0.025000</td>\n",
       "      <td>normal</td>\n",
       "    </tr>\n",
       "    <tr>\n",
       "      <th>20</th>\n",
       "      <td>1503960366</td>\n",
       "      <td>Sun</td>\n",
       "      <td>restless</td>\n",
       "      <td>68</td>\n",
       "      <td>68</td>\n",
       "      <td>1.133333</td>\n",
       "      <td>4</td>\n",
       "      <td>0.283333</td>\n",
       "      <td>normal</td>\n",
       "    </tr>\n",
       "  </tbody>\n",
       "</table>\n",
       "</div>"
      ],
      "text/plain": [
       "            Id day_of_week      type  minutes  time_of_day      hours  \\\n",
       "0   1503960366         Mon    asleep      892          892  14.866667   \n",
       "1   1503960366         Mon     awake       12           12   0.200000   \n",
       "2   1503960366         Mon  restless       70           70   1.166667   \n",
       "3   1503960366         Tue    asleep     1532         1532  25.533333   \n",
       "4   1503960366         Tue     awake       13           13   0.216667   \n",
       "5   1503960366         Tue  restless       94           94   1.566667   \n",
       "6   1503960366         Wed    asleep     1029         1029  17.150000   \n",
       "7   1503960366         Wed     awake       15           15   0.250000   \n",
       "8   1503960366         Wed  restless       46           46   0.766667   \n",
       "9   1503960366         Thu    asleep      938          938  15.633333   \n",
       "10  1503960366         Thu     awake        5            5   0.083333   \n",
       "11  1503960366         Thu  restless       78           78   1.300000   \n",
       "12  1503960366         Fri    asleep     1087         1087  18.116667   \n",
       "13  1503960366         Fri     awake       10           10   0.166667   \n",
       "14  1503960366         Fri  restless       66           66   1.100000   \n",
       "15  1503960366         Sat    asleep     1468         1468  24.466667   \n",
       "16  1503960366         Sat     awake       12           12   0.200000   \n",
       "17  1503960366         Sat  restless       78           78   1.300000   \n",
       "18  1503960366         Sun    asleep     2061         2061  34.350000   \n",
       "19  1503960366         Sun     awake        6            6   0.100000   \n",
       "20  1503960366         Sun  restless       68           68   1.133333   \n",
       "\n",
       "    frequency  hours_per_day bmi_group  \n",
       "0           5       2.973333    normal  \n",
       "1           5       0.040000    normal  \n",
       "2           5       0.233333    normal  \n",
       "3           5       5.106667    normal  \n",
       "4           5       0.043333    normal  \n",
       "5           5       0.313333    normal  \n",
       "6           5       3.430000    normal  \n",
       "7           5       0.050000    normal  \n",
       "8           5       0.153333    normal  \n",
       "9           5       3.126667    normal  \n",
       "10          5       0.016667    normal  \n",
       "11          5       0.260000    normal  \n",
       "12          4       4.529167    normal  \n",
       "13          4       0.041667    normal  \n",
       "14          4       0.275000    normal  \n",
       "15          4       6.116667    normal  \n",
       "16          4       0.050000    normal  \n",
       "17          4       0.325000    normal  \n",
       "18          4       8.587500    normal  \n",
       "19          4       0.025000    normal  \n",
       "20          4       0.283333    normal  "
      ]
     },
     "execution_count": 103,
     "metadata": {},
     "output_type": "execute_result"
    }
   ],
   "source": [
    "bmi_sleep_days = calc_day_of_week(bmi_sleep)\n",
    "bmi_sleep_days = bmi_sleep_days.groupby(['Id', 'day_of_week', 'type']).count()\n",
    "bmi_sleep_days = bmi_sleep_days.reset_index()\n",
    "bmi_sleep_days = bmi_sleep_days.rename(columns={\"datetime\":\"minutes\"})\n",
    "bmi_sleep_days['hours'] = bmi_sleep_days['minutes'] / 60\n",
    "total_days = (sleep['datetime'].max() - sleep['datetime'].min()).days\n",
    "\n",
    "days = pd.DataFrame(\n",
    "    get_date(bmi_sleep)['date'].unique(),\n",
    "    columns=['date']\n",
    ")\n",
    "days = calc_day_of_week(days, datetime_col='date')\n",
    "days = days.value_counts(['day_of_week'])\n",
    "days = pd.DataFrame(days, columns=['frequency'])\n",
    "days = days.reset_index()\n",
    "\n",
    "bmi_sleep_days = bmi_sleep_days.merge(right=days, on='day_of_week', how='left')\n",
    "bmi_sleep_days['hours_per_day'] = bmi_sleep_days['hours'] / bmi_sleep_days['frequency']\n",
    "\n",
    "bmi_sleep_days = calc_bmi_group(bmi_sleep_days)\n",
    "bmi_sleep_days.head(21)"
   ]
  },
  {
   "cell_type": "code",
   "execution_count": 104,
   "metadata": {},
   "outputs": [
    {
     "data": {
      "image/png": "[encoded data removed]",
      "text/plain": [
       "<Figure size 640x480 with 1 Axes>"
      ]
     },
     "metadata": {},
     "output_type": "display_data"
    }
   ],
   "source": [
    "sns.boxplot(\n",
    "    data=bmi_sleep_days.query(\"bmi_group == 'normal'\"),\n",
    "    y='hours_per_day',\n",
    "    x='day_of_week',\n",
    "    hue='type'\n",
    ").set(\n",
    "    title='Hours of Sleep per Night - Normal Weight Users',\n",
    "    xlabel=\"BMI Group\",\n",
    "    ylabel=\"Hours per Night\",\n",
    ")\n",
    "plt.legend(title=\"Type of Sleep\")\n",
    "plt.show()"
   ]
  },
  {
   "cell_type": "code",
   "execution_count": 105,
   "metadata": {},
   "outputs": [
    {
     "data": {
      "image/png": "[encoded data removed]",
      "text/plain": [
       "<Figure size 640x480 with 1 Axes>"
      ]
     },
     "metadata": {},
     "output_type": "display_data"
    }
   ],
   "source": [
    "sns.boxplot(\n",
    "    data=bmi_sleep_days.query(\"bmi_group == 'overweight'\"),\n",
    "    y='hours_per_day',\n",
    "    x='day_of_week',\n",
    "    hue='type'\n",
    ").set(\n",
    "    title='Hours of Sleep per Night - Overweight Users',\n",
    "    xlabel=\"BMI Group\",\n",
    "    ylabel=\"Hours per Night\",\n",
    ")\n",
    "plt.legend(title=\"Type of Sleep\")\n",
    "plt.show()"
   ]
  },
  {
   "cell_type": "markdown",
   "metadata": {},
   "source": [
    "### Calories Expended by BMI Group"
   ]
  },
  {
   "cell_type": "code",
   "execution_count": 106,
   "metadata": {},
   "outputs": [
    {
     "data": {
      "text/html": [
       "<div>\n",
       "<style scoped>\n",
       "    .dataframe tbody tr th:only-of-type {\n",
       "        vertical-align: middle;\n",
       "    }\n",
       "\n",
       "    .dataframe tbody tr th {\n",
       "        vertical-align: top;\n",
       "    }\n",
       "\n",
       "    .dataframe thead th {\n",
       "        text-align: right;\n",
       "    }\n",
       "</style>\n",
       "<table border=\"1\" class=\"dataframe\">\n",
       "  <thead>\n",
       "    <tr style=\"text-align: right;\">\n",
       "      <th></th>\n",
       "      <th>Id</th>\n",
       "      <th>datetime</th>\n",
       "      <th>Calories</th>\n",
       "    </tr>\n",
       "  </thead>\n",
       "  <tbody>\n",
       "    <tr>\n",
       "      <th>0</th>\n",
       "      <td>1503960366</td>\n",
       "      <td>2016-04-12 00:00:00</td>\n",
       "      <td>0.7865</td>\n",
       "    </tr>\n",
       "    <tr>\n",
       "      <th>1</th>\n",
       "      <td>1503960366</td>\n",
       "      <td>2016-04-12 00:01:00</td>\n",
       "      <td>0.7865</td>\n",
       "    </tr>\n",
       "    <tr>\n",
       "      <th>2</th>\n",
       "      <td>1503960366</td>\n",
       "      <td>2016-04-12 00:02:00</td>\n",
       "      <td>0.7865</td>\n",
       "    </tr>\n",
       "    <tr>\n",
       "      <th>3</th>\n",
       "      <td>1503960366</td>\n",
       "      <td>2016-04-12 00:03:00</td>\n",
       "      <td>0.7865</td>\n",
       "    </tr>\n",
       "    <tr>\n",
       "      <th>4</th>\n",
       "      <td>1503960366</td>\n",
       "      <td>2016-04-12 00:04:00</td>\n",
       "      <td>0.7865</td>\n",
       "    </tr>\n",
       "  </tbody>\n",
       "</table>\n",
       "</div>"
      ],
      "text/plain": [
       "           Id            datetime  Calories\n",
       "0  1503960366 2016-04-12 00:00:00    0.7865\n",
       "1  1503960366 2016-04-12 00:01:00    0.7865\n",
       "2  1503960366 2016-04-12 00:02:00    0.7865\n",
       "3  1503960366 2016-04-12 00:03:00    0.7865\n",
       "4  1503960366 2016-04-12 00:04:00    0.7865"
      ]
     },
     "execution_count": 106,
     "metadata": {},
     "output_type": "execute_result"
    }
   ],
   "source": [
    "bmi_calories = calories.query(\"Id in @normal_weight_users or Id in @overweight_users\")\n",
    "bmi_calories.head()"
   ]
  },
  {
   "cell_type": "code",
   "execution_count": 107,
   "metadata": {},
   "outputs": [],
   "source": [
    "total_days = (bmi_calories['datetime'].max() - bmi_calories['datetime'].min()).days"
   ]
  },
  {
   "cell_type": "code",
   "execution_count": 108,
   "metadata": {},
   "outputs": [
    {
     "data": {
      "text/html": [
       "<div>\n",
       "<style scoped>\n",
       "    .dataframe tbody tr th:only-of-type {\n",
       "        vertical-align: middle;\n",
       "    }\n",
       "\n",
       "    .dataframe tbody tr th {\n",
       "        vertical-align: top;\n",
       "    }\n",
       "\n",
       "    .dataframe thead th {\n",
       "        text-align: right;\n",
       "    }\n",
       "</style>\n",
       "<table border=\"1\" class=\"dataframe\">\n",
       "  <thead>\n",
       "    <tr style=\"text-align: right;\">\n",
       "      <th></th>\n",
       "      <th>Id</th>\n",
       "      <th>total_calories</th>\n",
       "      <th>calories_per_day</th>\n",
       "      <th>bmi_group</th>\n",
       "    </tr>\n",
       "  </thead>\n",
       "  <tbody>\n",
       "    <tr>\n",
       "      <th>0</th>\n",
       "      <td>1503960366</td>\n",
       "      <td>56289.869294</td>\n",
       "      <td>1876.328976</td>\n",
       "      <td>normal</td>\n",
       "    </tr>\n",
       "    <tr>\n",
       "      <th>1</th>\n",
       "      <td>2873212765</td>\n",
       "      <td>59112.441655</td>\n",
       "      <td>1970.414722</td>\n",
       "      <td>normal</td>\n",
       "    </tr>\n",
       "    <tr>\n",
       "      <th>2</th>\n",
       "      <td>4319703577</td>\n",
       "      <td>61831.525778</td>\n",
       "      <td>2061.050859</td>\n",
       "      <td>overweight</td>\n",
       "    </tr>\n",
       "    <tr>\n",
       "      <th>3</th>\n",
       "      <td>4558609924</td>\n",
       "      <td>62978.392994</td>\n",
       "      <td>2099.279766</td>\n",
       "      <td>overweight</td>\n",
       "    </tr>\n",
       "    <tr>\n",
       "      <th>4</th>\n",
       "      <td>5577150313</td>\n",
       "      <td>100811.100088</td>\n",
       "      <td>3360.370003</td>\n",
       "      <td>overweight</td>\n",
       "    </tr>\n",
       "  </tbody>\n",
       "</table>\n",
       "</div>"
      ],
      "text/plain": [
       "           Id  total_calories  calories_per_day   bmi_group\n",
       "0  1503960366    56289.869294       1876.328976      normal\n",
       "1  2873212765    59112.441655       1970.414722      normal\n",
       "2  4319703577    61831.525778       2061.050859  overweight\n",
       "3  4558609924    62978.392994       2099.279766  overweight\n",
       "4  5577150313   100811.100088       3360.370003  overweight"
      ]
     },
     "execution_count": 108,
     "metadata": {},
     "output_type": "execute_result"
    }
   ],
   "source": [
    "bmi_calories_day = bmi_calories.drop(columns=['datetime'], axis=1)\n",
    "bmi_calories_day = bmi_calories_day.groupby(['Id']).sum(numeric_only=True)\n",
    "bmi_calories_day = bmi_calories_day.reset_index()\n",
    "bmi_calories_day = bmi_calories_day.rename(columns={'Calories':'total_calories'})\n",
    "bmi_calories_day['calories_per_day'] = bmi_calories_day['total_calories'] / total_days\n",
    "bmi_calories_day = calc_bmi_group(bmi_calories_day)\n",
    "bmi_calories_day.head()"
   ]
  },
  {
   "cell_type": "code",
   "execution_count": 109,
   "metadata": {},
   "outputs": [
    {
     "data": {
      "image/png": "[encoded data removed]",
      "text/plain": [
       "<Figure size 640x480 with 1 Axes>"
      ]
     },
     "metadata": {},
     "output_type": "display_data"
    }
   ],
   "source": [
    "sns.boxplot(\n",
    "    data=bmi_calories_day,\n",
    "    y='calories_per_day',\n",
    "    x='bmi_group'\n",
    ").set(\n",
    "    title=\"Daily Calorie Expenditure by BMI Group\",\n",
    "    xlabel=\"BMI Group\",\n",
    "    ylabel=\"Calories per Day\"\n",
    ")\n",
    "plt.show()"
   ]
  },
  {
   "cell_type": "code",
   "execution_count": 110,
   "metadata": {},
   "outputs": [
    {
     "data": {
      "text/html": [
       "<div>\n",
       "<style scoped>\n",
       "    .dataframe tbody tr th:only-of-type {\n",
       "        vertical-align: middle;\n",
       "    }\n",
       "\n",
       "    .dataframe tbody tr th {\n",
       "        vertical-align: top;\n",
       "    }\n",
       "\n",
       "    .dataframe thead th {\n",
       "        text-align: right;\n",
       "    }\n",
       "</style>\n",
       "<table border=\"1\" class=\"dataframe\">\n",
       "  <thead>\n",
       "    <tr style=\"text-align: right;\">\n",
       "      <th></th>\n",
       "      <th>Id</th>\n",
       "      <th>time_of_day</th>\n",
       "      <th>total_calories</th>\n",
       "      <th>calories_per_day</th>\n",
       "      <th>bmi_group</th>\n",
       "    </tr>\n",
       "  </thead>\n",
       "  <tbody>\n",
       "    <tr>\n",
       "      <th>0</th>\n",
       "      <td>1503960366</td>\n",
       "      <td>Morning</td>\n",
       "      <td>12868.494133</td>\n",
       "      <td>428.949804</td>\n",
       "      <td>normal</td>\n",
       "    </tr>\n",
       "    <tr>\n",
       "      <th>1</th>\n",
       "      <td>1503960366</td>\n",
       "      <td>Afternoon</td>\n",
       "      <td>15480.812056</td>\n",
       "      <td>516.027069</td>\n",
       "      <td>normal</td>\n",
       "    </tr>\n",
       "    <tr>\n",
       "      <th>2</th>\n",
       "      <td>1503960366</td>\n",
       "      <td>Evening</td>\n",
       "      <td>18666.368822</td>\n",
       "      <td>622.212294</td>\n",
       "      <td>normal</td>\n",
       "    </tr>\n",
       "    <tr>\n",
       "      <th>3</th>\n",
       "      <td>1503960366</td>\n",
       "      <td>Night</td>\n",
       "      <td>9274.194283</td>\n",
       "      <td>309.139809</td>\n",
       "      <td>normal</td>\n",
       "    </tr>\n",
       "    <tr>\n",
       "      <th>4</th>\n",
       "      <td>2873212765</td>\n",
       "      <td>Morning</td>\n",
       "      <td>20079.531935</td>\n",
       "      <td>669.317731</td>\n",
       "      <td>normal</td>\n",
       "    </tr>\n",
       "  </tbody>\n",
       "</table>\n",
       "</div>"
      ],
      "text/plain": [
       "           Id time_of_day  total_calories  calories_per_day bmi_group\n",
       "0  1503960366     Morning    12868.494133        428.949804    normal\n",
       "1  1503960366   Afternoon    15480.812056        516.027069    normal\n",
       "2  1503960366     Evening    18666.368822        622.212294    normal\n",
       "3  1503960366       Night     9274.194283        309.139809    normal\n",
       "4  2873212765     Morning    20079.531935        669.317731    normal"
      ]
     },
     "execution_count": 110,
     "metadata": {},
     "output_type": "execute_result"
    }
   ],
   "source": [
    "bmi_calories_time = calc_time_of_day(bmi_calories)\n",
    "bmi_calories_time = bmi_calories_time.drop(columns=['datetime'], axis=1)\n",
    "bmi_calories_time = bmi_calories_time.groupby(['Id', 'time_of_day']).sum(numeric_only=True)\n",
    "bmi_calories_time = bmi_calories_time.reset_index()\n",
    "bmi_calories_time = bmi_calories_time.rename(columns={'Calories':'total_calories'})\n",
    "bmi_calories_time['calories_per_day'] = bmi_calories_time['total_calories'] / total_days\n",
    "bmi_calories_time = calc_bmi_group(bmi_calories_time)\n",
    "bmi_calories_time.head()"
   ]
  },
  {
   "cell_type": "code",
   "execution_count": 111,
   "metadata": {},
   "outputs": [
    {
     "data": {
      "image/png": "[encoded data removed]",
      "text/plain": [
       "<Figure size 640x480 with 1 Axes>"
      ]
     },
     "metadata": {},
     "output_type": "display_data"
    }
   ],
   "source": [
    "sns.boxplot(\n",
    "    data=bmi_calories_time,\n",
    "    y='calories_per_day',\n",
    "    x='bmi_group',\n",
    "    hue='time_of_day'\n",
    ").set(\n",
    "    title='Daily Calorie Expenditure by BMI Group',\n",
    "    xlabel=\"BMI Group\",\n",
    "    ylabel=\"Calories per Day\",\n",
    ")\n",
    "plt.legend(title=\"Time of Day\")\n",
    "plt.show()"
   ]
  },
  {
   "cell_type": "code",
   "execution_count": 112,
   "metadata": {},
   "outputs": [
    {
     "data": {
      "text/html": [
       "<div>\n",
       "<style scoped>\n",
       "    .dataframe tbody tr th:only-of-type {\n",
       "        vertical-align: middle;\n",
       "    }\n",
       "\n",
       "    .dataframe tbody tr th {\n",
       "        vertical-align: top;\n",
       "    }\n",
       "\n",
       "    .dataframe thead th {\n",
       "        text-align: right;\n",
       "    }\n",
       "</style>\n",
       "<table border=\"1\" class=\"dataframe\">\n",
       "  <thead>\n",
       "    <tr style=\"text-align: right;\">\n",
       "      <th></th>\n",
       "      <th>Id</th>\n",
       "      <th>day_of_week</th>\n",
       "      <th>total_calories</th>\n",
       "      <th>frequency</th>\n",
       "      <th>calories_per_day</th>\n",
       "      <th>bmi_group</th>\n",
       "    </tr>\n",
       "  </thead>\n",
       "  <tbody>\n",
       "    <tr>\n",
       "      <th>0</th>\n",
       "      <td>1503960366</td>\n",
       "      <td>Mon</td>\n",
       "      <td>7772.348918</td>\n",
       "      <td>4</td>\n",
       "      <td>1943.087229</td>\n",
       "      <td>normal</td>\n",
       "    </tr>\n",
       "    <tr>\n",
       "      <th>1</th>\n",
       "      <td>1503960366</td>\n",
       "      <td>Tue</td>\n",
       "      <td>9841.905383</td>\n",
       "      <td>5</td>\n",
       "      <td>1968.381077</td>\n",
       "      <td>normal</td>\n",
       "    </tr>\n",
       "    <tr>\n",
       "      <th>2</th>\n",
       "      <td>1503960366</td>\n",
       "      <td>Wed</td>\n",
       "      <td>9286.362383</td>\n",
       "      <td>5</td>\n",
       "      <td>1857.272477</td>\n",
       "      <td>normal</td>\n",
       "    </tr>\n",
       "    <tr>\n",
       "      <th>3</th>\n",
       "      <td>1503960366</td>\n",
       "      <td>Thu</td>\n",
       "      <td>7410.902894</td>\n",
       "      <td>5</td>\n",
       "      <td>1482.180579</td>\n",
       "      <td>normal</td>\n",
       "    </tr>\n",
       "    <tr>\n",
       "      <th>4</th>\n",
       "      <td>1503960366</td>\n",
       "      <td>Fri</td>\n",
       "      <td>7307.497995</td>\n",
       "      <td>4</td>\n",
       "      <td>1826.874499</td>\n",
       "      <td>normal</td>\n",
       "    </tr>\n",
       "    <tr>\n",
       "      <th>5</th>\n",
       "      <td>1503960366</td>\n",
       "      <td>Sat</td>\n",
       "      <td>7582.083346</td>\n",
       "      <td>4</td>\n",
       "      <td>1895.520837</td>\n",
       "      <td>normal</td>\n",
       "    </tr>\n",
       "    <tr>\n",
       "      <th>6</th>\n",
       "      <td>1503960366</td>\n",
       "      <td>Sun</td>\n",
       "      <td>7088.768375</td>\n",
       "      <td>4</td>\n",
       "      <td>1772.192094</td>\n",
       "      <td>normal</td>\n",
       "    </tr>\n",
       "  </tbody>\n",
       "</table>\n",
       "</div>"
      ],
      "text/plain": [
       "           Id day_of_week  total_calories  frequency  calories_per_day  \\\n",
       "0  1503960366         Mon     7772.348918          4       1943.087229   \n",
       "1  1503960366         Tue     9841.905383          5       1968.381077   \n",
       "2  1503960366         Wed     9286.362383          5       1857.272477   \n",
       "3  1503960366         Thu     7410.902894          5       1482.180579   \n",
       "4  1503960366         Fri     7307.497995          4       1826.874499   \n",
       "5  1503960366         Sat     7582.083346          4       1895.520837   \n",
       "6  1503960366         Sun     7088.768375          4       1772.192094   \n",
       "\n",
       "  bmi_group  \n",
       "0    normal  \n",
       "1    normal  \n",
       "2    normal  \n",
       "3    normal  \n",
       "4    normal  \n",
       "5    normal  \n",
       "6    normal  "
      ]
     },
     "execution_count": 112,
     "metadata": {},
     "output_type": "execute_result"
    }
   ],
   "source": [
    "bmi_calories_week = calc_day_of_week(bmi_calories)\n",
    "bmi_calories_week = bmi_calories_week.drop(columns=['datetime'], axis=1)\n",
    "bmi_calories_week = bmi_calories_week.groupby(['Id', 'day_of_week']).sum(numeric_only=True)\n",
    "bmi_calories_week = bmi_calories_week.reset_index()\n",
    "bmi_calories_week = bmi_calories_week.rename(columns={'Calories':'total_calories'})\n",
    "\n",
    "days = pd.DataFrame(\n",
    "    get_date(bmi_calories)['date'].unique(),\n",
    "    columns=['date']\n",
    ")\n",
    "days = calc_day_of_week(days, datetime_col='date')\n",
    "days = days.value_counts(['day_of_week'])\n",
    "days = pd.DataFrame(days, columns=['frequency'])\n",
    "days = days.reset_index()\n",
    "\n",
    "bmi_calories_week = bmi_calories_week.merge(right=days, on='day_of_week', how='left')\n",
    "bmi_calories_week['calories_per_day'] = bmi_calories_week['total_calories'] / bmi_calories_week['frequency']\n",
    "\n",
    "bmi_calories_week = calc_bmi_group(bmi_calories_week)\n",
    "bmi_calories_week.head(7)"
   ]
  },
  {
   "cell_type": "code",
   "execution_count": 113,
   "metadata": {},
   "outputs": [
    {
     "data": {
      "image/png": "[encoded data removed]",
      "text/plain": [
       "<Figure size 640x480 with 1 Axes>"
      ]
     },
     "metadata": {},
     "output_type": "display_data"
    }
   ],
   "source": [
    "sns.boxplot(\n",
    "    data=bmi_calories_week,\n",
    "    y='calories_per_day',\n",
    "    x='bmi_group',\n",
    "    hue='day_of_week'\n",
    ").set(\n",
    "    title=\"Daily Calorie Expenditure by BMI Group\",\n",
    "    xlabel=\"BMI Group\",\n",
    "    ylabel=\"Calories per Day\"\n",
    ")\n",
    "plt.legend(title=\"Day of Week\")\n",
    "plt.show()"
   ]
  },
  {
   "cell_type": "markdown",
   "metadata": {},
   "source": [
    "### Heart Rate by BMI Group"
   ]
  },
  {
   "cell_type": "code",
   "execution_count": 114,
   "metadata": {},
   "outputs": [
    {
     "data": {
      "text/html": [
       "<div>\n",
       "<style scoped>\n",
       "    .dataframe tbody tr th:only-of-type {\n",
       "        vertical-align: middle;\n",
       "    }\n",
       "\n",
       "    .dataframe tbody tr th {\n",
       "        vertical-align: top;\n",
       "    }\n",
       "\n",
       "    .dataframe thead th {\n",
       "        text-align: right;\n",
       "    }\n",
       "</style>\n",
       "<table border=\"1\" class=\"dataframe\">\n",
       "  <thead>\n",
       "    <tr style=\"text-align: right;\">\n",
       "      <th></th>\n",
       "      <th>Id</th>\n",
       "      <th>datetime</th>\n",
       "      <th>heart_rate</th>\n",
       "    </tr>\n",
       "  </thead>\n",
       "  <tbody>\n",
       "    <tr>\n",
       "      <th>844486</th>\n",
       "      <td>4558609924</td>\n",
       "      <td>2016-04-12 06:44:30</td>\n",
       "      <td>91</td>\n",
       "    </tr>\n",
       "    <tr>\n",
       "      <th>844487</th>\n",
       "      <td>4558609924</td>\n",
       "      <td>2016-04-12 06:44:35</td>\n",
       "      <td>92</td>\n",
       "    </tr>\n",
       "    <tr>\n",
       "      <th>844488</th>\n",
       "      <td>4558609924</td>\n",
       "      <td>2016-04-12 06:44:45</td>\n",
       "      <td>90</td>\n",
       "    </tr>\n",
       "    <tr>\n",
       "      <th>844489</th>\n",
       "      <td>4558609924</td>\n",
       "      <td>2016-04-12 06:44:50</td>\n",
       "      <td>89</td>\n",
       "    </tr>\n",
       "    <tr>\n",
       "      <th>844490</th>\n",
       "      <td>4558609924</td>\n",
       "      <td>2016-04-12 06:45:00</td>\n",
       "      <td>90</td>\n",
       "    </tr>\n",
       "  </tbody>\n",
       "</table>\n",
       "</div>"
      ],
      "text/plain": [
       "                Id            datetime  heart_rate\n",
       "844486  4558609924 2016-04-12 06:44:30          91\n",
       "844487  4558609924 2016-04-12 06:44:35          92\n",
       "844488  4558609924 2016-04-12 06:44:45          90\n",
       "844489  4558609924 2016-04-12 06:44:50          89\n",
       "844490  4558609924 2016-04-12 06:45:00          90"
      ]
     },
     "execution_count": 114,
     "metadata": {},
     "output_type": "execute_result"
    }
   ],
   "source": [
    "bmi_heart_rate = heart_rate.query(\"Id in @normal_weight_users or Id in @overweight_users\")\n",
    "bmi_heart_rate = bmi_heart_rate.rename(columns={\"Value\":\"heart_rate\"})\n",
    "bmi_heart_rate.head()"
   ]
  },
  {
   "cell_type": "code",
   "execution_count": 115,
   "metadata": {},
   "outputs": [
    {
     "data": {
      "text/plain": [
       "30"
      ]
     },
     "execution_count": 115,
     "metadata": {},
     "output_type": "execute_result"
    }
   ],
   "source": [
    "total_days = (bmi_heart_rate['datetime'].max() - bmi_heart_rate['datetime'].min()).days\n",
    "total_days"
   ]
  },
  {
   "cell_type": "code",
   "execution_count": 116,
   "metadata": {},
   "outputs": [
    {
     "data": {
      "text/html": [
       "<div>\n",
       "<style scoped>\n",
       "    .dataframe tbody tr th:only-of-type {\n",
       "        vertical-align: middle;\n",
       "    }\n",
       "\n",
       "    .dataframe tbody tr th {\n",
       "        vertical-align: top;\n",
       "    }\n",
       "\n",
       "    .dataframe thead th {\n",
       "        text-align: right;\n",
       "    }\n",
       "</style>\n",
       "<table border=\"1\" class=\"dataframe\">\n",
       "  <thead>\n",
       "    <tr style=\"text-align: right;\">\n",
       "      <th></th>\n",
       "      <th>datetime</th>\n",
       "      <th>heart_rate</th>\n",
       "    </tr>\n",
       "    <tr>\n",
       "      <th>Id</th>\n",
       "      <th></th>\n",
       "      <th></th>\n",
       "    </tr>\n",
       "  </thead>\n",
       "  <tbody>\n",
       "    <tr>\n",
       "      <th>4558609924</th>\n",
       "      <td>192168</td>\n",
       "      <td>192168</td>\n",
       "    </tr>\n",
       "    <tr>\n",
       "      <th>5577150313</th>\n",
       "      <td>248560</td>\n",
       "      <td>248560</td>\n",
       "    </tr>\n",
       "    <tr>\n",
       "      <th>6962181067</th>\n",
       "      <td>266326</td>\n",
       "      <td>266326</td>\n",
       "    </tr>\n",
       "    <tr>\n",
       "      <th>8877689391</th>\n",
       "      <td>228841</td>\n",
       "      <td>228841</td>\n",
       "    </tr>\n",
       "  </tbody>\n",
       "</table>\n",
       "</div>"
      ],
      "text/plain": [
       "            datetime  heart_rate\n",
       "Id                              \n",
       "4558609924    192168      192168\n",
       "5577150313    248560      248560\n",
       "6962181067    266326      266326\n",
       "8877689391    228841      228841"
      ]
     },
     "execution_count": 116,
     "metadata": {},
     "output_type": "execute_result"
    }
   ],
   "source": [
    "bmi_heart_rate.groupby(['Id']).count()"
   ]
  },
  {
   "cell_type": "code",
   "execution_count": 117,
   "metadata": {},
   "outputs": [
    {
     "data": {
      "text/html": [
       "<div>\n",
       "<style scoped>\n",
       "    .dataframe tbody tr th:only-of-type {\n",
       "        vertical-align: middle;\n",
       "    }\n",
       "\n",
       "    .dataframe tbody tr th {\n",
       "        vertical-align: top;\n",
       "    }\n",
       "\n",
       "    .dataframe thead th {\n",
       "        text-align: right;\n",
       "    }\n",
       "</style>\n",
       "<table border=\"1\" class=\"dataframe\">\n",
       "  <thead>\n",
       "    <tr style=\"text-align: right;\">\n",
       "      <th></th>\n",
       "      <th>Id</th>\n",
       "      <th>heart_rate</th>\n",
       "      <th>heart_rate_daily</th>\n",
       "      <th>bmi_group</th>\n",
       "    </tr>\n",
       "  </thead>\n",
       "  <tbody>\n",
       "    <tr>\n",
       "      <th>0</th>\n",
       "      <td>4558609924</td>\n",
       "      <td>15695119</td>\n",
       "      <td>72.662588</td>\n",
       "      <td>overweight</td>\n",
       "    </tr>\n",
       "    <tr>\n",
       "      <th>1</th>\n",
       "      <td>5577150313</td>\n",
       "      <td>17290956</td>\n",
       "      <td>80.050722</td>\n",
       "      <td>overweight</td>\n",
       "    </tr>\n",
       "    <tr>\n",
       "      <th>2</th>\n",
       "      <td>6962181067</td>\n",
       "      <td>20699934</td>\n",
       "      <td>95.833028</td>\n",
       "      <td>normal</td>\n",
       "    </tr>\n",
       "    <tr>\n",
       "      <th>3</th>\n",
       "      <td>8877689391</td>\n",
       "      <td>19133667</td>\n",
       "      <td>88.581792</td>\n",
       "      <td>overweight</td>\n",
       "    </tr>\n",
       "  </tbody>\n",
       "</table>\n",
       "</div>"
      ],
      "text/plain": [
       "           Id  heart_rate  heart_rate_daily   bmi_group\n",
       "0  4558609924    15695119         72.662588  overweight\n",
       "1  5577150313    17290956         80.050722  overweight\n",
       "2  6962181067    20699934         95.833028      normal\n",
       "3  8877689391    19133667         88.581792  overweight"
      ]
     },
     "execution_count": 117,
     "metadata": {},
     "output_type": "execute_result"
    }
   ],
   "source": [
    "bmi_heart_rate_days = bmi_heart_rate.drop([\"datetime\"], axis=1)\n",
    "bmi_heart_rate_days = bmi_heart_rate_days.groupby(['Id']).sum(numeric_only=True)\n",
    "bmi_heart_rate_days = bmi_heart_rate_days.reset_index()\n",
    "bmi_heart_rate_days['heart_rate_daily'] = bmi_heart_rate_days['heart_rate'] / (total_days*60*24*5)\n",
    "bmi_heart_rate_days = calc_bmi_group(bmi_heart_rate_days)\n",
    "bmi_heart_rate_days.head()"
   ]
  },
  {
   "cell_type": "markdown",
   "metadata": {},
   "source": [
    "Processing this, we see we don't have enough statistics to draw any kind of conclusion for heart rate"
   ]
  },
  {
   "cell_type": "markdown",
   "metadata": {},
   "source": [
    "### METs by BMI Group"
   ]
  },
  {
   "cell_type": "code",
   "execution_count": 118,
   "metadata": {},
   "outputs": [
    {
     "data": {
      "text/html": [
       "<div>\n",
       "<style scoped>\n",
       "    .dataframe tbody tr th:only-of-type {\n",
       "        vertical-align: middle;\n",
       "    }\n",
       "\n",
       "    .dataframe tbody tr th {\n",
       "        vertical-align: top;\n",
       "    }\n",
       "\n",
       "    .dataframe thead th {\n",
       "        text-align: right;\n",
       "    }\n",
       "</style>\n",
       "<table border=\"1\" class=\"dataframe\">\n",
       "  <thead>\n",
       "    <tr style=\"text-align: right;\">\n",
       "      <th></th>\n",
       "      <th>Id</th>\n",
       "      <th>datetime</th>\n",
       "      <th>METs</th>\n",
       "      <th>true_mets</th>\n",
       "    </tr>\n",
       "  </thead>\n",
       "  <tbody>\n",
       "    <tr>\n",
       "      <th>0</th>\n",
       "      <td>1503960366</td>\n",
       "      <td>2016-04-12 00:00:00</td>\n",
       "      <td>10</td>\n",
       "      <td>1.0</td>\n",
       "    </tr>\n",
       "    <tr>\n",
       "      <th>1</th>\n",
       "      <td>1503960366</td>\n",
       "      <td>2016-04-12 00:01:00</td>\n",
       "      <td>10</td>\n",
       "      <td>1.0</td>\n",
       "    </tr>\n",
       "    <tr>\n",
       "      <th>2</th>\n",
       "      <td>1503960366</td>\n",
       "      <td>2016-04-12 00:02:00</td>\n",
       "      <td>10</td>\n",
       "      <td>1.0</td>\n",
       "    </tr>\n",
       "    <tr>\n",
       "      <th>3</th>\n",
       "      <td>1503960366</td>\n",
       "      <td>2016-04-12 00:03:00</td>\n",
       "      <td>10</td>\n",
       "      <td>1.0</td>\n",
       "    </tr>\n",
       "    <tr>\n",
       "      <th>4</th>\n",
       "      <td>1503960366</td>\n",
       "      <td>2016-04-12 00:04:00</td>\n",
       "      <td>10</td>\n",
       "      <td>1.0</td>\n",
       "    </tr>\n",
       "  </tbody>\n",
       "</table>\n",
       "</div>"
      ],
      "text/plain": [
       "           Id            datetime  METs  true_mets\n",
       "0  1503960366 2016-04-12 00:00:00    10        1.0\n",
       "1  1503960366 2016-04-12 00:01:00    10        1.0\n",
       "2  1503960366 2016-04-12 00:02:00    10        1.0\n",
       "3  1503960366 2016-04-12 00:03:00    10        1.0\n",
       "4  1503960366 2016-04-12 00:04:00    10        1.0"
      ]
     },
     "execution_count": 118,
     "metadata": {},
     "output_type": "execute_result"
    }
   ],
   "source": [
    "bmi_mets = mets.query(\"Id in @normal_weight_users or Id in @overweight_users\")\n",
    "bmi_mets.head()"
   ]
  },
  {
   "cell_type": "code",
   "execution_count": 137,
   "metadata": {},
   "outputs": [
    {
     "data": {
      "text/html": [
       "<div>\n",
       "<style scoped>\n",
       "    .dataframe tbody tr th:only-of-type {\n",
       "        vertical-align: middle;\n",
       "    }\n",
       "\n",
       "    .dataframe tbody tr th {\n",
       "        vertical-align: top;\n",
       "    }\n",
       "\n",
       "    .dataframe thead th {\n",
       "        text-align: right;\n",
       "    }\n",
       "</style>\n",
       "<table border=\"1\" class=\"dataframe\">\n",
       "  <thead>\n",
       "    <tr style=\"text-align: right;\">\n",
       "      <th></th>\n",
       "      <th>Id</th>\n",
       "      <th>total_mets</th>\n",
       "      <th>daily_mets</th>\n",
       "      <th>bmi_group</th>\n",
       "    </tr>\n",
       "  </thead>\n",
       "  <tbody>\n",
       "    <tr>\n",
       "      <th>0</th>\n",
       "      <td>1503960366</td>\n",
       "      <td>71708.1</td>\n",
       "      <td>2390.270000</td>\n",
       "      <td>normal</td>\n",
       "    </tr>\n",
       "    <tr>\n",
       "      <th>1</th>\n",
       "      <td>2873212765</td>\n",
       "      <td>67498.9</td>\n",
       "      <td>2249.963333</td>\n",
       "      <td>normal</td>\n",
       "    </tr>\n",
       "    <tr>\n",
       "      <th>2</th>\n",
       "      <td>4319703577</td>\n",
       "      <td>61176.1</td>\n",
       "      <td>2039.203333</td>\n",
       "      <td>overweight</td>\n",
       "    </tr>\n",
       "    <tr>\n",
       "      <th>3</th>\n",
       "      <td>4558609924</td>\n",
       "      <td>67786.6</td>\n",
       "      <td>2259.553333</td>\n",
       "      <td>overweight</td>\n",
       "    </tr>\n",
       "    <tr>\n",
       "      <th>4</th>\n",
       "      <td>5577150313</td>\n",
       "      <td>79617.1</td>\n",
       "      <td>2653.903333</td>\n",
       "      <td>overweight</td>\n",
       "    </tr>\n",
       "  </tbody>\n",
       "</table>\n",
       "</div>"
      ],
      "text/plain": [
       "           Id  total_mets   daily_mets   bmi_group\n",
       "0  1503960366     71708.1  2390.270000      normal\n",
       "1  2873212765     67498.9  2249.963333      normal\n",
       "2  4319703577     61176.1  2039.203333  overweight\n",
       "3  4558609924     67786.6  2259.553333  overweight\n",
       "4  5577150313     79617.1  2653.903333  overweight"
      ]
     },
     "execution_count": 137,
     "metadata": {},
     "output_type": "execute_result"
    }
   ],
   "source": [
    "total_days = (bmi_mets['datetime'].max() - bmi_mets['datetime'].min()).days\n",
    "bmi_mets_daily = bmi_mets.drop(['datetime','METs'], axis=1)\n",
    "bmi_mets_daily = bmi_mets_daily.groupby(\"Id\").sum(numeric_only=1).reset_index()\n",
    "bmi_mets_daily = bmi_mets_daily.rename(columns={'true_mets':'total_mets'})\n",
    "bmi_mets_daily['daily_mets'] = bmi_mets_daily['total_mets'] / total_days\n",
    "bmi_mets_daily = calc_bmi_group(bmi_mets_daily)\n",
    "bmi_mets_daily.head()"
   ]
  },
  {
   "cell_type": "code",
   "execution_count": 138,
   "metadata": {},
   "outputs": [
    {
     "data": {
      "image/png": "[encoded data removed]",
      "text/plain": [
       "<Figure size 640x480 with 1 Axes>"
      ]
     },
     "metadata": {},
     "output_type": "display_data"
    }
   ],
   "source": [
    "sns.boxplot(\n",
    "    data=bmi_mets_daily,\n",
    "    y='daily_mets',\n",
    "    x='bmi_group'\n",
    ").set(\n",
    "    title='Daily METs',\n",
    "    xlabel='BMI Group',\n",
    "    ylabel='Total METs'\n",
    ")\n",
    "plt.show()"
   ]
  },
  {
   "cell_type": "code",
   "execution_count": 139,
   "metadata": {},
   "outputs": [
    {
     "data": {
      "text/html": [
       "<div>\n",
       "<style scoped>\n",
       "    .dataframe tbody tr th:only-of-type {\n",
       "        vertical-align: middle;\n",
       "    }\n",
       "\n",
       "    .dataframe tbody tr th {\n",
       "        vertical-align: top;\n",
       "    }\n",
       "\n",
       "    .dataframe thead th {\n",
       "        text-align: right;\n",
       "    }\n",
       "</style>\n",
       "<table border=\"1\" class=\"dataframe\">\n",
       "  <thead>\n",
       "    <tr style=\"text-align: right;\">\n",
       "      <th></th>\n",
       "      <th>Id</th>\n",
       "      <th>time_of_day</th>\n",
       "      <th>total_mets</th>\n",
       "      <th>daily_mets</th>\n",
       "      <th>bmi_group</th>\n",
       "    </tr>\n",
       "  </thead>\n",
       "  <tbody>\n",
       "    <tr>\n",
       "      <th>0</th>\n",
       "      <td>1503960366</td>\n",
       "      <td>Morning</td>\n",
       "      <td>16394.1</td>\n",
       "      <td>546.470000</td>\n",
       "      <td>normal</td>\n",
       "    </tr>\n",
       "    <tr>\n",
       "      <th>1</th>\n",
       "      <td>1503960366</td>\n",
       "      <td>Afternoon</td>\n",
       "      <td>19720.3</td>\n",
       "      <td>657.343333</td>\n",
       "      <td>normal</td>\n",
       "    </tr>\n",
       "    <tr>\n",
       "      <th>2</th>\n",
       "      <td>1503960366</td>\n",
       "      <td>Evening</td>\n",
       "      <td>23778.9</td>\n",
       "      <td>792.630000</td>\n",
       "      <td>normal</td>\n",
       "    </tr>\n",
       "    <tr>\n",
       "      <th>3</th>\n",
       "      <td>1503960366</td>\n",
       "      <td>Night</td>\n",
       "      <td>11814.8</td>\n",
       "      <td>393.826667</td>\n",
       "      <td>normal</td>\n",
       "    </tr>\n",
       "    <tr>\n",
       "      <th>4</th>\n",
       "      <td>2873212765</td>\n",
       "      <td>Morning</td>\n",
       "      <td>22928.1</td>\n",
       "      <td>764.270000</td>\n",
       "      <td>normal</td>\n",
       "    </tr>\n",
       "  </tbody>\n",
       "</table>\n",
       "</div>"
      ],
      "text/plain": [
       "           Id time_of_day  total_mets  daily_mets bmi_group\n",
       "0  1503960366     Morning     16394.1  546.470000    normal\n",
       "1  1503960366   Afternoon     19720.3  657.343333    normal\n",
       "2  1503960366     Evening     23778.9  792.630000    normal\n",
       "3  1503960366       Night     11814.8  393.826667    normal\n",
       "4  2873212765     Morning     22928.1  764.270000    normal"
      ]
     },
     "execution_count": 139,
     "metadata": {},
     "output_type": "execute_result"
    }
   ],
   "source": [
    "bmi_mets_times = calc_time_of_day(bmi_mets)\n",
    "bmi_mets_times = bmi_mets_times.drop(['datetime', 'METs'], axis=1)\n",
    "bmi_mets_times = bmi_mets_times.groupby(['Id', 'time_of_day']).sum(numeric_only=True).reset_index()\n",
    "bmi_mets_times = bmi_mets_times.rename(columns={'true_mets':'total_mets'})\n",
    "bmi_mets_times['daily_mets'] = bmi_mets_times['total_mets'] / total_days\n",
    "bmi_mets_times = calc_bmi_group(bmi_mets_times)\n",
    "bmi_mets_times.head()"
   ]
  },
  {
   "cell_type": "code",
   "execution_count": 140,
   "metadata": {},
   "outputs": [
    {
     "data": {
      "image/png": "[encoded data removed]",
      "text/plain": [
       "<Figure size 640x480 with 1 Axes>"
      ]
     },
     "metadata": {},
     "output_type": "display_data"
    }
   ],
   "source": [
    "sns.boxplot(\n",
    "    data=bmi_mets_times,\n",
    "    x='bmi_group',\n",
    "    y='daily_mets',\n",
    "    hue='time_of_day'\n",
    ").set(\n",
    "    title='Daily METs',\n",
    "    xlabel='BMI Group',\n",
    "    ylabel='Total METs'\n",
    ")\n",
    "plt.legend(title='Time of Day')\n",
    "plt.show()\n"
   ]
  },
  {
   "cell_type": "code",
   "execution_count": 145,
   "metadata": {},
   "outputs": [
    {
     "data": {
      "text/html": [
       "<div>\n",
       "<style scoped>\n",
       "    .dataframe tbody tr th:only-of-type {\n",
       "        vertical-align: middle;\n",
       "    }\n",
       "\n",
       "    .dataframe tbody tr th {\n",
       "        vertical-align: top;\n",
       "    }\n",
       "\n",
       "    .dataframe thead th {\n",
       "        text-align: right;\n",
       "    }\n",
       "</style>\n",
       "<table border=\"1\" class=\"dataframe\">\n",
       "  <thead>\n",
       "    <tr style=\"text-align: right;\">\n",
       "      <th></th>\n",
       "      <th>Id</th>\n",
       "      <th>day_of_week</th>\n",
       "      <th>total_mets</th>\n",
       "      <th>frequency</th>\n",
       "      <th>mets_per_day</th>\n",
       "      <th>bmi_group</th>\n",
       "    </tr>\n",
       "  </thead>\n",
       "  <tbody>\n",
       "    <tr>\n",
       "      <th>0</th>\n",
       "      <td>1503960366</td>\n",
       "      <td>Mon</td>\n",
       "      <td>9897.3</td>\n",
       "      <td>4</td>\n",
       "      <td>2474.325</td>\n",
       "      <td>normal</td>\n",
       "    </tr>\n",
       "    <tr>\n",
       "      <th>1</th>\n",
       "      <td>1503960366</td>\n",
       "      <td>Tue</td>\n",
       "      <td>12545.5</td>\n",
       "      <td>5</td>\n",
       "      <td>2509.100</td>\n",
       "      <td>normal</td>\n",
       "    </tr>\n",
       "    <tr>\n",
       "      <th>2</th>\n",
       "      <td>1503960366</td>\n",
       "      <td>Wed</td>\n",
       "      <td>11836.6</td>\n",
       "      <td>5</td>\n",
       "      <td>2367.320</td>\n",
       "      <td>normal</td>\n",
       "    </tr>\n",
       "    <tr>\n",
       "      <th>3</th>\n",
       "      <td>1503960366</td>\n",
       "      <td>Thu</td>\n",
       "      <td>9438.9</td>\n",
       "      <td>5</td>\n",
       "      <td>1887.780</td>\n",
       "      <td>normal</td>\n",
       "    </tr>\n",
       "    <tr>\n",
       "      <th>4</th>\n",
       "      <td>1503960366</td>\n",
       "      <td>Fri</td>\n",
       "      <td>9306.9</td>\n",
       "      <td>4</td>\n",
       "      <td>2326.725</td>\n",
       "      <td>normal</td>\n",
       "    </tr>\n",
       "  </tbody>\n",
       "</table>\n",
       "</div>"
      ],
      "text/plain": [
       "           Id day_of_week  total_mets  frequency  mets_per_day bmi_group\n",
       "0  1503960366         Mon      9897.3          4      2474.325    normal\n",
       "1  1503960366         Tue     12545.5          5      2509.100    normal\n",
       "2  1503960366         Wed     11836.6          5      2367.320    normal\n",
       "3  1503960366         Thu      9438.9          5      1887.780    normal\n",
       "4  1503960366         Fri      9306.9          4      2326.725    normal"
      ]
     },
     "execution_count": 145,
     "metadata": {},
     "output_type": "execute_result"
    }
   ],
   "source": [
    "bmi_mets_week = calc_day_of_week(bmi_mets)\n",
    "bmi_mets_week = bmi_mets_week.drop(['datetime', 'METs'], axis=1)\n",
    "bmi_mets_week = bmi_mets_week.groupby(['Id', 'day_of_week']).sum(numeric_only=True).reset_index()\n",
    "bmi_mets_week = bmi_mets_week.rename(columns={'true_mets':'total_mets'})\n",
    "\n",
    "days = pd.DataFrame(\n",
    "    get_date(bmi_mets)['date'].unique(),\n",
    "    columns=['date']\n",
    ")\n",
    "days = calc_day_of_week(days, datetime_col='date')\n",
    "days = days.value_counts(['day_of_week'])\n",
    "days = pd.DataFrame(days, columns=['frequency'])\n",
    "days = days.reset_index()\n",
    "\n",
    "bmi_mets_week = bmi_mets_week.merge(right=days, on='day_of_week', how='left')\n",
    "bmi_mets_week['mets_per_day'] = bmi_mets_week['total_mets'] / bmi_mets_week['frequency']\n",
    "\n",
    "bmi_mets_week = calc_bmi_group(bmi_mets_week)\n",
    "bmi_mets_week.head()"
   ]
  },
  {
   "cell_type": "code",
   "execution_count": 147,
   "metadata": {},
   "outputs": [
    {
     "data": {
      "image/png": "[encoded data removed]",
      "text/plain": [
       "<Figure size 640x480 with 1 Axes>"
      ]
     },
     "metadata": {},
     "output_type": "display_data"
    }
   ],
   "source": [
    "sns.boxplot(\n",
    "    data=bmi_mets_week,\n",
    "    x='bmi_group',\n",
    "    y='mets_per_day',\n",
    "    hue='day_of_week'\n",
    ").set(\n",
    "    title='Daily METs',\n",
    "    xlabel='BMI Group',\n",
    "    ylabel='Total METs',\n",
    ")\n",
    "plt.legend(title='Days of Week')\n",
    "plt.show()"
   ]
  }
 ],
 "metadata": {
  "kernelspec": {
   "display_name": "Python 3",
   "language": "python",
   "name": "python3"
  },
  "language_info": {
   "codemirror_mode": {
    "name": "ipython",
    "version": 3
   },
   "file_extension": ".py",
   "mimetype": "text/x-python",
   "name": "python",
   "nbconvert_exporter": "python",
   "pygments_lexer": "ipython3",
   "version": "3.10.7"
  },
  "orig_nbformat": 4
 },
 "nbformat": 4,
 "nbformat_minor": 2
}
